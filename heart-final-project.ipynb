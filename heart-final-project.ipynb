{
 "cells": [
  {
   "cell_type": "code",
   "execution_count": 712,
   "id": "c4b88f75",
   "metadata": {},
   "outputs": [],
   "source": [
    "from sklearn.cluster import KMeans\n",
    "from sklearn.model_selection import train_test_split\n",
    "from sklearn.metrics import accuracy_score, roc_curve\n",
    "from sklearn import metrics\n",
    "import seaborn as sns\n",
    "from sklearn.decomposition import PCA\n",
    "from sklearn.preprocessing import StandardScaler\n",
    "\n",
    "import pandas as pd\n",
    "import numpy as np\n",
    "import matplotlib.pyplot as plt\n",
    "\n",
    "# this is for logistic Regression\n",
    "from sklearn.linear_model import LogisticRegression\n",
    "\n",
    "# this is for decision tree classifier\n",
    "from sklearn.tree import DecisionTreeClassifier\n",
    "from sklearn.ensemble import RandomForestClassifier\n",
    "from sklearn.tree import plot_tree\n"
   ]
  },
  {
   "cell_type": "markdown",
   "id": "a023c4cd",
   "metadata": {},
   "source": [
    "# Fetch Data:"
   ]
  },
  {
   "cell_type": "code",
   "execution_count": 713,
   "id": "fdc6b9c2",
   "metadata": {},
   "outputs": [
    {
     "data": {
      "text/html": [
       "<div>\n",
       "<style scoped>\n",
       "    .dataframe tbody tr th:only-of-type {\n",
       "        vertical-align: middle;\n",
       "    }\n",
       "\n",
       "    .dataframe tbody tr th {\n",
       "        vertical-align: top;\n",
       "    }\n",
       "\n",
       "    .dataframe thead th {\n",
       "        text-align: right;\n",
       "    }\n",
       "</style>\n",
       "<table border=\"1\" class=\"dataframe\">\n",
       "  <thead>\n",
       "    <tr style=\"text-align: right;\">\n",
       "      <th></th>\n",
       "      <th>Age</th>\n",
       "      <th>Sex</th>\n",
       "      <th>ChestPainType</th>\n",
       "      <th>RestingBP</th>\n",
       "      <th>Cholesterol</th>\n",
       "      <th>FastingBS</th>\n",
       "      <th>RestingECG</th>\n",
       "      <th>MaxHR</th>\n",
       "      <th>ExerciseAngina</th>\n",
       "      <th>Oldpeak</th>\n",
       "      <th>ST_Slope</th>\n",
       "      <th>HeartDisease</th>\n",
       "    </tr>\n",
       "  </thead>\n",
       "  <tbody>\n",
       "    <tr>\n",
       "      <th>0</th>\n",
       "      <td>40</td>\n",
       "      <td>M</td>\n",
       "      <td>ATA</td>\n",
       "      <td>140</td>\n",
       "      <td>289</td>\n",
       "      <td>0</td>\n",
       "      <td>Normal</td>\n",
       "      <td>172</td>\n",
       "      <td>N</td>\n",
       "      <td>0.0</td>\n",
       "      <td>Up</td>\n",
       "      <td>0</td>\n",
       "    </tr>\n",
       "    <tr>\n",
       "      <th>1</th>\n",
       "      <td>49</td>\n",
       "      <td>F</td>\n",
       "      <td>NAP</td>\n",
       "      <td>160</td>\n",
       "      <td>180</td>\n",
       "      <td>0</td>\n",
       "      <td>Normal</td>\n",
       "      <td>156</td>\n",
       "      <td>N</td>\n",
       "      <td>1.0</td>\n",
       "      <td>Flat</td>\n",
       "      <td>1</td>\n",
       "    </tr>\n",
       "    <tr>\n",
       "      <th>2</th>\n",
       "      <td>37</td>\n",
       "      <td>M</td>\n",
       "      <td>ATA</td>\n",
       "      <td>130</td>\n",
       "      <td>283</td>\n",
       "      <td>0</td>\n",
       "      <td>ST</td>\n",
       "      <td>98</td>\n",
       "      <td>N</td>\n",
       "      <td>0.0</td>\n",
       "      <td>Up</td>\n",
       "      <td>0</td>\n",
       "    </tr>\n",
       "    <tr>\n",
       "      <th>3</th>\n",
       "      <td>48</td>\n",
       "      <td>F</td>\n",
       "      <td>ASY</td>\n",
       "      <td>138</td>\n",
       "      <td>214</td>\n",
       "      <td>0</td>\n",
       "      <td>Normal</td>\n",
       "      <td>108</td>\n",
       "      <td>Y</td>\n",
       "      <td>1.5</td>\n",
       "      <td>Flat</td>\n",
       "      <td>1</td>\n",
       "    </tr>\n",
       "    <tr>\n",
       "      <th>4</th>\n",
       "      <td>54</td>\n",
       "      <td>M</td>\n",
       "      <td>NAP</td>\n",
       "      <td>150</td>\n",
       "      <td>195</td>\n",
       "      <td>0</td>\n",
       "      <td>Normal</td>\n",
       "      <td>122</td>\n",
       "      <td>N</td>\n",
       "      <td>0.0</td>\n",
       "      <td>Up</td>\n",
       "      <td>0</td>\n",
       "    </tr>\n",
       "    <tr>\n",
       "      <th>...</th>\n",
       "      <td>...</td>\n",
       "      <td>...</td>\n",
       "      <td>...</td>\n",
       "      <td>...</td>\n",
       "      <td>...</td>\n",
       "      <td>...</td>\n",
       "      <td>...</td>\n",
       "      <td>...</td>\n",
       "      <td>...</td>\n",
       "      <td>...</td>\n",
       "      <td>...</td>\n",
       "      <td>...</td>\n",
       "    </tr>\n",
       "    <tr>\n",
       "      <th>913</th>\n",
       "      <td>45</td>\n",
       "      <td>M</td>\n",
       "      <td>TA</td>\n",
       "      <td>110</td>\n",
       "      <td>264</td>\n",
       "      <td>0</td>\n",
       "      <td>Normal</td>\n",
       "      <td>132</td>\n",
       "      <td>N</td>\n",
       "      <td>1.2</td>\n",
       "      <td>Flat</td>\n",
       "      <td>1</td>\n",
       "    </tr>\n",
       "    <tr>\n",
       "      <th>914</th>\n",
       "      <td>68</td>\n",
       "      <td>M</td>\n",
       "      <td>ASY</td>\n",
       "      <td>144</td>\n",
       "      <td>193</td>\n",
       "      <td>1</td>\n",
       "      <td>Normal</td>\n",
       "      <td>141</td>\n",
       "      <td>N</td>\n",
       "      <td>3.4</td>\n",
       "      <td>Flat</td>\n",
       "      <td>1</td>\n",
       "    </tr>\n",
       "    <tr>\n",
       "      <th>915</th>\n",
       "      <td>57</td>\n",
       "      <td>M</td>\n",
       "      <td>ASY</td>\n",
       "      <td>130</td>\n",
       "      <td>131</td>\n",
       "      <td>0</td>\n",
       "      <td>Normal</td>\n",
       "      <td>115</td>\n",
       "      <td>Y</td>\n",
       "      <td>1.2</td>\n",
       "      <td>Flat</td>\n",
       "      <td>1</td>\n",
       "    </tr>\n",
       "    <tr>\n",
       "      <th>916</th>\n",
       "      <td>57</td>\n",
       "      <td>F</td>\n",
       "      <td>ATA</td>\n",
       "      <td>130</td>\n",
       "      <td>236</td>\n",
       "      <td>0</td>\n",
       "      <td>LVH</td>\n",
       "      <td>174</td>\n",
       "      <td>N</td>\n",
       "      <td>0.0</td>\n",
       "      <td>Flat</td>\n",
       "      <td>1</td>\n",
       "    </tr>\n",
       "    <tr>\n",
       "      <th>917</th>\n",
       "      <td>38</td>\n",
       "      <td>M</td>\n",
       "      <td>NAP</td>\n",
       "      <td>138</td>\n",
       "      <td>175</td>\n",
       "      <td>0</td>\n",
       "      <td>Normal</td>\n",
       "      <td>173</td>\n",
       "      <td>N</td>\n",
       "      <td>0.0</td>\n",
       "      <td>Up</td>\n",
       "      <td>0</td>\n",
       "    </tr>\n",
       "  </tbody>\n",
       "</table>\n",
       "<p>918 rows × 12 columns</p>\n",
       "</div>"
      ],
      "text/plain": [
       "     Age Sex ChestPainType  RestingBP  Cholesterol  FastingBS RestingECG  \\\n",
       "0     40   M           ATA        140          289          0     Normal   \n",
       "1     49   F           NAP        160          180          0     Normal   \n",
       "2     37   M           ATA        130          283          0         ST   \n",
       "3     48   F           ASY        138          214          0     Normal   \n",
       "4     54   M           NAP        150          195          0     Normal   \n",
       "..   ...  ..           ...        ...          ...        ...        ...   \n",
       "913   45   M            TA        110          264          0     Normal   \n",
       "914   68   M           ASY        144          193          1     Normal   \n",
       "915   57   M           ASY        130          131          0     Normal   \n",
       "916   57   F           ATA        130          236          0        LVH   \n",
       "917   38   M           NAP        138          175          0     Normal   \n",
       "\n",
       "     MaxHR ExerciseAngina  Oldpeak ST_Slope  HeartDisease  \n",
       "0      172              N      0.0       Up             0  \n",
       "1      156              N      1.0     Flat             1  \n",
       "2       98              N      0.0       Up             0  \n",
       "3      108              Y      1.5     Flat             1  \n",
       "4      122              N      0.0       Up             0  \n",
       "..     ...            ...      ...      ...           ...  \n",
       "913    132              N      1.2     Flat             1  \n",
       "914    141              N      3.4     Flat             1  \n",
       "915    115              Y      1.2     Flat             1  \n",
       "916    174              N      0.0     Flat             1  \n",
       "917    173              N      0.0       Up             0  \n",
       "\n",
       "[918 rows x 12 columns]"
      ]
     },
     "execution_count": 713,
     "metadata": {},
     "output_type": "execute_result"
    }
   ],
   "source": [
    "df = pd.read_csv('https://raw.githubusercontent.com/stay-fcsd/data-final-project/main/heart.csv')\n",
    "df"
   ]
  },
  {
   "cell_type": "markdown",
   "id": "e13b26b6",
   "metadata": {},
   "source": [
    "# Hot Encoding:\n",
    "Convert categorical features into dummy columns in the feature table with a binary value for each of the possible categorical values"
   ]
  },
  {
   "cell_type": "code",
   "execution_count": 714,
   "id": "34e98373",
   "metadata": {},
   "outputs": [
    {
     "data": {
      "text/html": [
       "<div>\n",
       "<style scoped>\n",
       "    .dataframe tbody tr th:only-of-type {\n",
       "        vertical-align: middle;\n",
       "    }\n",
       "\n",
       "    .dataframe tbody tr th {\n",
       "        vertical-align: top;\n",
       "    }\n",
       "\n",
       "    .dataframe thead th {\n",
       "        text-align: right;\n",
       "    }\n",
       "</style>\n",
       "<table border=\"1\" class=\"dataframe\">\n",
       "  <thead>\n",
       "    <tr style=\"text-align: right;\">\n",
       "      <th></th>\n",
       "      <th>Age</th>\n",
       "      <th>RestingBP</th>\n",
       "      <th>Cholesterol</th>\n",
       "      <th>FastingBS</th>\n",
       "      <th>MaxHR</th>\n",
       "      <th>ExerciseAngina</th>\n",
       "      <th>Oldpeak</th>\n",
       "      <th>Male</th>\n",
       "      <th>Female</th>\n",
       "      <th>ATA</th>\n",
       "      <th>TA</th>\n",
       "      <th>ASY</th>\n",
       "      <th>NAP</th>\n",
       "      <th>Normal</th>\n",
       "      <th>ST</th>\n",
       "      <th>LVH</th>\n",
       "      <th>Up</th>\n",
       "      <th>Flat</th>\n",
       "      <th>Down</th>\n",
       "      <th>HeartDisease</th>\n",
       "    </tr>\n",
       "  </thead>\n",
       "  <tbody>\n",
       "    <tr>\n",
       "      <th>0</th>\n",
       "      <td>40</td>\n",
       "      <td>140</td>\n",
       "      <td>289</td>\n",
       "      <td>0</td>\n",
       "      <td>172</td>\n",
       "      <td>0</td>\n",
       "      <td>0.0</td>\n",
       "      <td>1</td>\n",
       "      <td>0</td>\n",
       "      <td>1</td>\n",
       "      <td>0</td>\n",
       "      <td>0</td>\n",
       "      <td>0</td>\n",
       "      <td>1</td>\n",
       "      <td>0</td>\n",
       "      <td>0</td>\n",
       "      <td>1</td>\n",
       "      <td>0</td>\n",
       "      <td>0</td>\n",
       "      <td>0</td>\n",
       "    </tr>\n",
       "    <tr>\n",
       "      <th>1</th>\n",
       "      <td>49</td>\n",
       "      <td>160</td>\n",
       "      <td>180</td>\n",
       "      <td>0</td>\n",
       "      <td>156</td>\n",
       "      <td>0</td>\n",
       "      <td>1.0</td>\n",
       "      <td>0</td>\n",
       "      <td>1</td>\n",
       "      <td>0</td>\n",
       "      <td>0</td>\n",
       "      <td>0</td>\n",
       "      <td>1</td>\n",
       "      <td>1</td>\n",
       "      <td>0</td>\n",
       "      <td>0</td>\n",
       "      <td>0</td>\n",
       "      <td>1</td>\n",
       "      <td>0</td>\n",
       "      <td>1</td>\n",
       "    </tr>\n",
       "    <tr>\n",
       "      <th>2</th>\n",
       "      <td>37</td>\n",
       "      <td>130</td>\n",
       "      <td>283</td>\n",
       "      <td>0</td>\n",
       "      <td>98</td>\n",
       "      <td>0</td>\n",
       "      <td>0.0</td>\n",
       "      <td>1</td>\n",
       "      <td>0</td>\n",
       "      <td>1</td>\n",
       "      <td>0</td>\n",
       "      <td>0</td>\n",
       "      <td>0</td>\n",
       "      <td>0</td>\n",
       "      <td>1</td>\n",
       "      <td>0</td>\n",
       "      <td>1</td>\n",
       "      <td>0</td>\n",
       "      <td>0</td>\n",
       "      <td>0</td>\n",
       "    </tr>\n",
       "    <tr>\n",
       "      <th>3</th>\n",
       "      <td>48</td>\n",
       "      <td>138</td>\n",
       "      <td>214</td>\n",
       "      <td>0</td>\n",
       "      <td>108</td>\n",
       "      <td>1</td>\n",
       "      <td>1.5</td>\n",
       "      <td>0</td>\n",
       "      <td>1</td>\n",
       "      <td>0</td>\n",
       "      <td>0</td>\n",
       "      <td>1</td>\n",
       "      <td>0</td>\n",
       "      <td>1</td>\n",
       "      <td>0</td>\n",
       "      <td>0</td>\n",
       "      <td>0</td>\n",
       "      <td>1</td>\n",
       "      <td>0</td>\n",
       "      <td>1</td>\n",
       "    </tr>\n",
       "    <tr>\n",
       "      <th>4</th>\n",
       "      <td>54</td>\n",
       "      <td>150</td>\n",
       "      <td>195</td>\n",
       "      <td>0</td>\n",
       "      <td>122</td>\n",
       "      <td>0</td>\n",
       "      <td>0.0</td>\n",
       "      <td>1</td>\n",
       "      <td>0</td>\n",
       "      <td>0</td>\n",
       "      <td>0</td>\n",
       "      <td>0</td>\n",
       "      <td>1</td>\n",
       "      <td>1</td>\n",
       "      <td>0</td>\n",
       "      <td>0</td>\n",
       "      <td>1</td>\n",
       "      <td>0</td>\n",
       "      <td>0</td>\n",
       "      <td>0</td>\n",
       "    </tr>\n",
       "    <tr>\n",
       "      <th>...</th>\n",
       "      <td>...</td>\n",
       "      <td>...</td>\n",
       "      <td>...</td>\n",
       "      <td>...</td>\n",
       "      <td>...</td>\n",
       "      <td>...</td>\n",
       "      <td>...</td>\n",
       "      <td>...</td>\n",
       "      <td>...</td>\n",
       "      <td>...</td>\n",
       "      <td>...</td>\n",
       "      <td>...</td>\n",
       "      <td>...</td>\n",
       "      <td>...</td>\n",
       "      <td>...</td>\n",
       "      <td>...</td>\n",
       "      <td>...</td>\n",
       "      <td>...</td>\n",
       "      <td>...</td>\n",
       "      <td>...</td>\n",
       "    </tr>\n",
       "    <tr>\n",
       "      <th>913</th>\n",
       "      <td>45</td>\n",
       "      <td>110</td>\n",
       "      <td>264</td>\n",
       "      <td>0</td>\n",
       "      <td>132</td>\n",
       "      <td>0</td>\n",
       "      <td>1.2</td>\n",
       "      <td>1</td>\n",
       "      <td>0</td>\n",
       "      <td>0</td>\n",
       "      <td>1</td>\n",
       "      <td>0</td>\n",
       "      <td>0</td>\n",
       "      <td>1</td>\n",
       "      <td>0</td>\n",
       "      <td>0</td>\n",
       "      <td>0</td>\n",
       "      <td>1</td>\n",
       "      <td>0</td>\n",
       "      <td>1</td>\n",
       "    </tr>\n",
       "    <tr>\n",
       "      <th>914</th>\n",
       "      <td>68</td>\n",
       "      <td>144</td>\n",
       "      <td>193</td>\n",
       "      <td>1</td>\n",
       "      <td>141</td>\n",
       "      <td>0</td>\n",
       "      <td>3.4</td>\n",
       "      <td>1</td>\n",
       "      <td>0</td>\n",
       "      <td>0</td>\n",
       "      <td>0</td>\n",
       "      <td>1</td>\n",
       "      <td>0</td>\n",
       "      <td>1</td>\n",
       "      <td>0</td>\n",
       "      <td>0</td>\n",
       "      <td>0</td>\n",
       "      <td>1</td>\n",
       "      <td>0</td>\n",
       "      <td>1</td>\n",
       "    </tr>\n",
       "    <tr>\n",
       "      <th>915</th>\n",
       "      <td>57</td>\n",
       "      <td>130</td>\n",
       "      <td>131</td>\n",
       "      <td>0</td>\n",
       "      <td>115</td>\n",
       "      <td>1</td>\n",
       "      <td>1.2</td>\n",
       "      <td>1</td>\n",
       "      <td>0</td>\n",
       "      <td>0</td>\n",
       "      <td>0</td>\n",
       "      <td>1</td>\n",
       "      <td>0</td>\n",
       "      <td>1</td>\n",
       "      <td>0</td>\n",
       "      <td>0</td>\n",
       "      <td>0</td>\n",
       "      <td>1</td>\n",
       "      <td>0</td>\n",
       "      <td>1</td>\n",
       "    </tr>\n",
       "    <tr>\n",
       "      <th>916</th>\n",
       "      <td>57</td>\n",
       "      <td>130</td>\n",
       "      <td>236</td>\n",
       "      <td>0</td>\n",
       "      <td>174</td>\n",
       "      <td>0</td>\n",
       "      <td>0.0</td>\n",
       "      <td>0</td>\n",
       "      <td>1</td>\n",
       "      <td>1</td>\n",
       "      <td>0</td>\n",
       "      <td>0</td>\n",
       "      <td>0</td>\n",
       "      <td>0</td>\n",
       "      <td>0</td>\n",
       "      <td>1</td>\n",
       "      <td>0</td>\n",
       "      <td>1</td>\n",
       "      <td>0</td>\n",
       "      <td>1</td>\n",
       "    </tr>\n",
       "    <tr>\n",
       "      <th>917</th>\n",
       "      <td>38</td>\n",
       "      <td>138</td>\n",
       "      <td>175</td>\n",
       "      <td>0</td>\n",
       "      <td>173</td>\n",
       "      <td>0</td>\n",
       "      <td>0.0</td>\n",
       "      <td>1</td>\n",
       "      <td>0</td>\n",
       "      <td>0</td>\n",
       "      <td>0</td>\n",
       "      <td>0</td>\n",
       "      <td>1</td>\n",
       "      <td>1</td>\n",
       "      <td>0</td>\n",
       "      <td>0</td>\n",
       "      <td>1</td>\n",
       "      <td>0</td>\n",
       "      <td>0</td>\n",
       "      <td>0</td>\n",
       "    </tr>\n",
       "  </tbody>\n",
       "</table>\n",
       "<p>918 rows × 20 columns</p>\n",
       "</div>"
      ],
      "text/plain": [
       "     Age  RestingBP  Cholesterol  FastingBS  MaxHR ExerciseAngina  Oldpeak  \\\n",
       "0     40        140          289          0    172              0      0.0   \n",
       "1     49        160          180          0    156              0      1.0   \n",
       "2     37        130          283          0     98              0      0.0   \n",
       "3     48        138          214          0    108              1      1.5   \n",
       "4     54        150          195          0    122              0      0.0   \n",
       "..   ...        ...          ...        ...    ...            ...      ...   \n",
       "913   45        110          264          0    132              0      1.2   \n",
       "914   68        144          193          1    141              0      3.4   \n",
       "915   57        130          131          0    115              1      1.2   \n",
       "916   57        130          236          0    174              0      0.0   \n",
       "917   38        138          175          0    173              0      0.0   \n",
       "\n",
       "    Male Female ATA TA ASY NAP Normal ST LVH Up Flat Down  HeartDisease  \n",
       "0      1      0   1  0   0   0      1  0   0  1    0    0             0  \n",
       "1      0      1   0  0   0   1      1  0   0  0    1    0             1  \n",
       "2      1      0   1  0   0   0      0  1   0  1    0    0             0  \n",
       "3      0      1   0  0   1   0      1  0   0  0    1    0             1  \n",
       "4      1      0   0  0   0   1      1  0   0  1    0    0             0  \n",
       "..   ...    ...  .. ..  ..  ..    ... ..  .. ..  ...  ...           ...  \n",
       "913    1      0   0  1   0   0      1  0   0  0    1    0             1  \n",
       "914    1      0   0  0   1   0      1  0   0  0    1    0             1  \n",
       "915    1      0   0  0   1   0      1  0   0  0    1    0             1  \n",
       "916    0      1   1  0   0   0      0  0   1  0    1    0             1  \n",
       "917    1      0   0  0   0   1      1  0   0  1    0    0             0  \n",
       "\n",
       "[918 rows x 20 columns]"
      ]
     },
     "execution_count": 714,
     "metadata": {},
     "output_type": "execute_result"
    }
   ],
   "source": [
    "hot_encoded_df = df.copy()\n",
    "\n",
    "gender_column = df[[\"Sex\"]]\n",
    "\n",
    "hot_encoded_df['Male'] = gender_column\n",
    "hot_encoded_df['Female'] = gender_column\n",
    "\n",
    "hot_encoded_df = hot_encoded_df.drop('Sex', 1)\n",
    "\n",
    "chest_pain_type_column = df[[\"ChestPainType\"]]\n",
    "hot_encoded_df['ATA'] = chest_pain_type_column\n",
    "hot_encoded_df['TA'] = chest_pain_type_column\n",
    "hot_encoded_df['ASY'] = chest_pain_type_column\n",
    "hot_encoded_df['NAP'] = chest_pain_type_column\n",
    "hot_encoded_df = hot_encoded_df.drop('ChestPainType', 1)\n",
    "\n",
    "resting_ECG_column = df[[\"RestingECG\"]]\n",
    "hot_encoded_df['Normal'] = resting_ECG_column\n",
    "hot_encoded_df['ST'] = resting_ECG_column\n",
    "hot_encoded_df['LVH'] = resting_ECG_column\n",
    "hot_encoded_df = hot_encoded_df.drop('RestingECG', 1)\n",
    "\n",
    "ST_slope_column = df[[\"ST_Slope\"]]\n",
    "\n",
    "hot_encoded_df['Up'] = ST_slope_column\n",
    "hot_encoded_df['Flat'] = ST_slope_column\n",
    "hot_encoded_df['Down'] = ST_slope_column\n",
    "\n",
    "hot_encoded_df = hot_encoded_df.drop('ST_Slope', 1)\n",
    "\n",
    "hot_encoded_df['Male'] = hot_encoded_df['Male'].replace(['M'], '1')\n",
    "hot_encoded_df['Male'] = hot_encoded_df['Male'].replace(['F'], '0')\n",
    "\n",
    "hot_encoded_df['Female'] = hot_encoded_df['Female'].replace(['M'], '0')\n",
    "hot_encoded_df['Female'] = hot_encoded_df['Female'].replace(['F'], '1')\n",
    "\n",
    "hot_encoded_df['ATA'] = hot_encoded_df['ATA'].replace(['ATA'], '1')\n",
    "hot_encoded_df['ATA'] = hot_encoded_df['ATA'].replace(['TA'], '0')\n",
    "hot_encoded_df['ATA'] = hot_encoded_df['ATA'].replace(['ASY'], '0')\n",
    "hot_encoded_df['ATA'] = hot_encoded_df['ATA'].replace(['NAP'], '0')\n",
    "\n",
    "hot_encoded_df['TA'] = hot_encoded_df['TA'].replace(['ATA'], '0')\n",
    "hot_encoded_df['TA'] = hot_encoded_df['TA'].replace(['TA'], '1')\n",
    "hot_encoded_df['TA'] = hot_encoded_df['TA'].replace(['ASY'], '0')\n",
    "hot_encoded_df['TA'] = hot_encoded_df['TA'].replace(['NAP'], '0')\n",
    "\n",
    "hot_encoded_df['ASY'] = hot_encoded_df['ASY'].replace(['ATA'], '0')\n",
    "hot_encoded_df['ASY'] = hot_encoded_df['ASY'].replace(['TA'], '0')\n",
    "hot_encoded_df['ASY'] = hot_encoded_df['ASY'].replace(['ASY'], '1')\n",
    "hot_encoded_df['ASY'] = hot_encoded_df['ASY'].replace(['NAP'], '0')\n",
    "\n",
    "hot_encoded_df['NAP'] = hot_encoded_df['NAP'].replace(['ATA'], '0')\n",
    "hot_encoded_df['NAP'] = hot_encoded_df['NAP'].replace(['TA'], '0')\n",
    "hot_encoded_df['NAP'] = hot_encoded_df['NAP'].replace(['ASY'], '0')\n",
    "hot_encoded_df['NAP'] = hot_encoded_df['NAP'].replace(['NAP'], '1')\n",
    "\n",
    "hot_encoded_df['Normal'] = hot_encoded_df['Normal'].replace(['Normal'], '1')\n",
    "hot_encoded_df['Normal'] = hot_encoded_df['Normal'].replace(['ST'], '0')\n",
    "hot_encoded_df['Normal'] = hot_encoded_df['Normal'].replace(['LVH'], '0')\n",
    "\n",
    "hot_encoded_df['ST'] = hot_encoded_df['ST'].replace(['Normal'], '0')\n",
    "hot_encoded_df['ST'] = hot_encoded_df['ST'].replace(['ST'], '1')\n",
    "hot_encoded_df['ST'] = hot_encoded_df['ST'].replace(['LVH'], '0')\n",
    "\n",
    "hot_encoded_df['LVH'] = hot_encoded_df['LVH'].replace(['Normal'], '0')\n",
    "hot_encoded_df['LVH'] = hot_encoded_df['LVH'].replace(['ST'], '0')\n",
    "hot_encoded_df['LVH'] = hot_encoded_df['LVH'].replace(['LVH'], '1')\n",
    "\n",
    "hot_encoded_df['Up'] = hot_encoded_df['Up'].replace(['Up'], '1')\n",
    "hot_encoded_df['Up'] = hot_encoded_df['Up'].replace(['Flat'], '0')\n",
    "hot_encoded_df['Up'] = hot_encoded_df['Up'].replace(['Down'], '0')\n",
    "\n",
    "hot_encoded_df['Flat'] = hot_encoded_df['Flat'].replace(['Up'], '0')\n",
    "hot_encoded_df['Flat'] = hot_encoded_df['Flat'].replace(['Flat'], '1')\n",
    "hot_encoded_df['Flat'] = hot_encoded_df['Flat'].replace(['Down'], '0')\n",
    "\n",
    "hot_encoded_df['Down'] = hot_encoded_df['Down'].replace(['Up'], '0')\n",
    "hot_encoded_df['Down'] = hot_encoded_df['Down'].replace(['Flat'], '0')\n",
    "hot_encoded_df['Down'] = hot_encoded_df['Down'].replace(['Down'], '1')\n",
    "\n",
    "hot_encoded_df['ExerciseAngina'] = hot_encoded_df['ExerciseAngina'].replace(['Y'], '1')\n",
    "hot_encoded_df['ExerciseAngina'] = hot_encoded_df['ExerciseAngina'].replace(['N'], '0')\n",
    "\n",
    "heart_disease_column = hot_encoded_df.pop('HeartDisease')\n",
    "hot_encoded_df.insert(19, 'HeartDisease', heart_disease_column);\n",
    "\n",
    "hot_encoded_df"
   ]
  },
  {
   "cell_type": "markdown",
   "id": "5351de2d",
   "metadata": {},
   "source": [
    "# Scale Data:"
   ]
  },
  {
   "cell_type": "code",
   "execution_count": 715,
   "id": "98cdb4de",
   "metadata": {},
   "outputs": [],
   "source": [
    "feature_cols = ['Age', 'Male', 'Female', 'ATA', 'ASY', 'TA', 'NAP', 'RestingBP', 'Cholesterol', 'FastingBS', 'Normal', 'ST','LVH', 'MaxHR', 'ExerciseAngina', 'Oldpeak', 'Up','Flat','Down']\n",
    "\n",
    "X = hot_encoded_df[feature_cols]\n",
    "\n",
    "scaler = StandardScaler()\n",
    "scaler.fit(X.values)\n",
    "heart_disease_df_scale = scaler.transform(X.values)\n",
    "df_scale = pd.DataFrame(heart_disease_df_scale, columns=X.columns)\n",
    "df_scale.insert(19, 'HeartDisease', heart_disease_column);"
   ]
  },
  {
   "cell_type": "markdown",
   "id": "bb9481ec",
   "metadata": {},
   "source": [
    "# K-Means:"
   ]
  },
  {
   "cell_type": "markdown",
   "id": "7415f2d4",
   "metadata": {},
   "source": [
    "## First we will get the accuracy and plot the clusters for the one-hot-encoding data"
   ]
  },
  {
   "cell_type": "markdown",
   "id": "f3f3538a",
   "metadata": {},
   "source": [
    "### Normally we shouldn't use a unsupervised learning algorithm for data that has a label."
   ]
  },
  {
   "cell_type": "code",
   "execution_count": 716,
   "id": "e464cbd4",
   "metadata": {
    "scrolled": true
   },
   "outputs": [
    {
     "data": {
      "text/html": [
       "<div>\n",
       "<style scoped>\n",
       "    .dataframe tbody tr th:only-of-type {\n",
       "        vertical-align: middle;\n",
       "    }\n",
       "\n",
       "    .dataframe tbody tr th {\n",
       "        vertical-align: top;\n",
       "    }\n",
       "\n",
       "    .dataframe thead th {\n",
       "        text-align: right;\n",
       "    }\n",
       "</style>\n",
       "<table border=\"1\" class=\"dataframe\">\n",
       "  <thead>\n",
       "    <tr style=\"text-align: right;\">\n",
       "      <th></th>\n",
       "      <th>Age</th>\n",
       "      <th>Male</th>\n",
       "      <th>Female</th>\n",
       "      <th>ATA</th>\n",
       "      <th>ASY</th>\n",
       "      <th>TA</th>\n",
       "      <th>NAP</th>\n",
       "      <th>RestingBP</th>\n",
       "      <th>Cholesterol</th>\n",
       "      <th>FastingBS</th>\n",
       "      <th>Normal</th>\n",
       "      <th>ST</th>\n",
       "      <th>LVH</th>\n",
       "      <th>MaxHR</th>\n",
       "      <th>ExerciseAngina</th>\n",
       "      <th>Oldpeak</th>\n",
       "      <th>Up</th>\n",
       "      <th>Flat</th>\n",
       "      <th>Down</th>\n",
       "      <th>HeartDisease</th>\n",
       "    </tr>\n",
       "  </thead>\n",
       "  <tbody>\n",
       "    <tr>\n",
       "      <th>0</th>\n",
       "      <td>-1.433140</td>\n",
       "      <td>0.515952</td>\n",
       "      <td>-0.515952</td>\n",
       "      <td>2.075177</td>\n",
       "      <td>-1.084138</td>\n",
       "      <td>-0.229679</td>\n",
       "      <td>-0.532838</td>\n",
       "      <td>0.410909</td>\n",
       "      <td>0.825070</td>\n",
       "      <td>-0.551341</td>\n",
       "      <td>0.814275</td>\n",
       "      <td>-0.490449</td>\n",
       "      <td>-0.507478</td>\n",
       "      <td>1.382928</td>\n",
       "      <td>-0.823556</td>\n",
       "      <td>-0.832432</td>\n",
       "      <td>1.150674</td>\n",
       "      <td>-1.002181</td>\n",
       "      <td>-0.271448</td>\n",
       "      <td>0</td>\n",
       "    </tr>\n",
       "    <tr>\n",
       "      <th>1</th>\n",
       "      <td>-0.478484</td>\n",
       "      <td>-1.938163</td>\n",
       "      <td>1.938163</td>\n",
       "      <td>-0.481887</td>\n",
       "      <td>-1.084138</td>\n",
       "      <td>-0.229679</td>\n",
       "      <td>1.876744</td>\n",
       "      <td>1.491752</td>\n",
       "      <td>-0.171961</td>\n",
       "      <td>-0.551341</td>\n",
       "      <td>0.814275</td>\n",
       "      <td>-0.490449</td>\n",
       "      <td>-0.507478</td>\n",
       "      <td>0.754157</td>\n",
       "      <td>-0.823556</td>\n",
       "      <td>0.105664</td>\n",
       "      <td>-0.869056</td>\n",
       "      <td>0.997824</td>\n",
       "      <td>-0.271448</td>\n",
       "      <td>1</td>\n",
       "    </tr>\n",
       "    <tr>\n",
       "      <th>2</th>\n",
       "      <td>-1.751359</td>\n",
       "      <td>0.515952</td>\n",
       "      <td>-0.515952</td>\n",
       "      <td>2.075177</td>\n",
       "      <td>-1.084138</td>\n",
       "      <td>-0.229679</td>\n",
       "      <td>-0.532838</td>\n",
       "      <td>-0.129513</td>\n",
       "      <td>0.770188</td>\n",
       "      <td>-0.551341</td>\n",
       "      <td>-1.228087</td>\n",
       "      <td>2.038947</td>\n",
       "      <td>-0.507478</td>\n",
       "      <td>-1.525138</td>\n",
       "      <td>-0.823556</td>\n",
       "      <td>-0.832432</td>\n",
       "      <td>1.150674</td>\n",
       "      <td>-1.002181</td>\n",
       "      <td>-0.271448</td>\n",
       "      <td>0</td>\n",
       "    </tr>\n",
       "    <tr>\n",
       "      <th>3</th>\n",
       "      <td>-0.584556</td>\n",
       "      <td>-1.938163</td>\n",
       "      <td>1.938163</td>\n",
       "      <td>-0.481887</td>\n",
       "      <td>0.922392</td>\n",
       "      <td>-0.229679</td>\n",
       "      <td>-0.532838</td>\n",
       "      <td>0.302825</td>\n",
       "      <td>0.139040</td>\n",
       "      <td>-0.551341</td>\n",
       "      <td>0.814275</td>\n",
       "      <td>-0.490449</td>\n",
       "      <td>-0.507478</td>\n",
       "      <td>-1.132156</td>\n",
       "      <td>1.214246</td>\n",
       "      <td>0.574711</td>\n",
       "      <td>-0.869056</td>\n",
       "      <td>0.997824</td>\n",
       "      <td>-0.271448</td>\n",
       "      <td>1</td>\n",
       "    </tr>\n",
       "    <tr>\n",
       "      <th>4</th>\n",
       "      <td>0.051881</td>\n",
       "      <td>0.515952</td>\n",
       "      <td>-0.515952</td>\n",
       "      <td>-0.481887</td>\n",
       "      <td>-1.084138</td>\n",
       "      <td>-0.229679</td>\n",
       "      <td>1.876744</td>\n",
       "      <td>0.951331</td>\n",
       "      <td>-0.034755</td>\n",
       "      <td>-0.551341</td>\n",
       "      <td>0.814275</td>\n",
       "      <td>-0.490449</td>\n",
       "      <td>-0.507478</td>\n",
       "      <td>-0.581981</td>\n",
       "      <td>-0.823556</td>\n",
       "      <td>-0.832432</td>\n",
       "      <td>1.150674</td>\n",
       "      <td>-1.002181</td>\n",
       "      <td>-0.271448</td>\n",
       "      <td>0</td>\n",
       "    </tr>\n",
       "  </tbody>\n",
       "</table>\n",
       "</div>"
      ],
      "text/plain": [
       "        Age      Male    Female       ATA       ASY        TA       NAP  \\\n",
       "0 -1.433140  0.515952 -0.515952  2.075177 -1.084138 -0.229679 -0.532838   \n",
       "1 -0.478484 -1.938163  1.938163 -0.481887 -1.084138 -0.229679  1.876744   \n",
       "2 -1.751359  0.515952 -0.515952  2.075177 -1.084138 -0.229679 -0.532838   \n",
       "3 -0.584556 -1.938163  1.938163 -0.481887  0.922392 -0.229679 -0.532838   \n",
       "4  0.051881  0.515952 -0.515952 -0.481887 -1.084138 -0.229679  1.876744   \n",
       "\n",
       "   RestingBP  Cholesterol  FastingBS    Normal        ST       LVH     MaxHR  \\\n",
       "0   0.410909     0.825070  -0.551341  0.814275 -0.490449 -0.507478  1.382928   \n",
       "1   1.491752    -0.171961  -0.551341  0.814275 -0.490449 -0.507478  0.754157   \n",
       "2  -0.129513     0.770188  -0.551341 -1.228087  2.038947 -0.507478 -1.525138   \n",
       "3   0.302825     0.139040  -0.551341  0.814275 -0.490449 -0.507478 -1.132156   \n",
       "4   0.951331    -0.034755  -0.551341  0.814275 -0.490449 -0.507478 -0.581981   \n",
       "\n",
       "   ExerciseAngina   Oldpeak        Up      Flat      Down  HeartDisease  \n",
       "0       -0.823556 -0.832432  1.150674 -1.002181 -0.271448             0  \n",
       "1       -0.823556  0.105664 -0.869056  0.997824 -0.271448             1  \n",
       "2       -0.823556 -0.832432  1.150674 -1.002181 -0.271448             0  \n",
       "3        1.214246  0.574711 -0.869056  0.997824 -0.271448             1  \n",
       "4       -0.823556 -0.832432  1.150674 -1.002181 -0.271448             0  "
      ]
     },
     "execution_count": 716,
     "metadata": {},
     "output_type": "execute_result"
    }
   ],
   "source": [
    "\n",
    "X = df_scale[feature_cols]\n",
    "y = df['HeartDisease']\n",
    "X_train, X_test, y_train, y_test = train_test_split(X, y, test_size=0.25, random_state=3)\n",
    "df_scale.head()"
   ]
  },
  {
   "cell_type": "code",
   "execution_count": 717,
   "id": "108c6330",
   "metadata": {},
   "outputs": [],
   "source": [
    "pca = PCA(n_components=2).fit(X_train)\n",
    "pca_result = pca.transform(X_train)"
   ]
  },
  {
   "cell_type": "code",
   "execution_count": 718,
   "id": "096a66ce",
   "metadata": {},
   "outputs": [
    {
     "name": "stdout",
     "output_type": "stream",
     "text": [
      "Kmeans accuracy:  0.2565217391304348\n"
     ]
    }
   ],
   "source": [
    "kmeans = KMeans(n_clusters = 3)\n",
    "kmeans.fit(X_train)\n",
    "\n",
    "kmeans_predict = kmeans.predict(X_test)\n",
    "kmeans_score = accuracy_score(y_test, kmeans_predict)\n",
    "print('Kmeans accuracy: ', kmeans_score)"
   ]
  },
  {
   "cell_type": "markdown",
   "id": "8f86906f",
   "metadata": {},
   "source": [
    "### The accuracy score calculated from k-means is not that great compared to algorithms and especially classifiers."
   ]
  },
  {
   "cell_type": "code",
   "execution_count": 719,
   "id": "3dd348b6",
   "metadata": {},
   "outputs": [
    {
     "data": {
      "text/plain": [
       "<function matplotlib.pyplot.show(close=None, block=None)>"
      ]
     },
     "execution_count": 719,
     "metadata": {},
     "output_type": "execute_result"
    },
    {
     "data": {

      "image/png": "[encoded data removed]",
      "text/plain": [
       "<Figure size 432x288 with 1 Axes>"
      ]
     },
     "metadata": {
      "needs_background": "light"
     },
     "output_type": "display_data"
    }
   ],
   "source": [
    "%matplotlib inline\n",
    "\n",
    "labels = kmeans.labels_\n",
    "centers = kmeans.cluster_centers_\n",
    "\n",
    "# Plotting the results:\n",
    "plt.figure\n",
    "\n",
    "for l, c in zip([0,1,2], ['red', 'blue', 'green']):\n",
    "    \n",
    "    current_members = (labels == l)\n",
    "    current_center = centers[l]\n",
    "    \n",
    "    plt.scatter(pca_result[current_members,0], pca_result[current_members,1], color = c, marker='x')\n",
    "    plt.plot(current_center[0], current_center[1], 'o', markerfacecolor = c,\n",
    "            markeredgecolor = 'k', markersize=7)\n",
    "    \n",
    "# Defining The Range of X-Axis and Y-Axis:\n",
    "plt.xlim([-10, 10])\n",
    "plt.ylim([-4, 5])\n",
    "\n",
    "# Labels, Title, Legend:\n",
    "plt.xlabel('PCA 1')\n",
    "plt.ylabel('PCA 2')\n",
    "plt.title('KMeans for heart disease dataset')\n",
    "\n",
    "plt.show"
   ]
  },
  {
   "cell_type": "markdown",
   "id": "eaa43fca",
   "metadata": {},
   "source": [
    "### Here we see the scatter plot for the trained data"
   ]
  },
  {
   "cell_type": "markdown",
   "id": "c8f06f10",
   "metadata": {},
   "source": [
    "# Logistic Regression:"
   ]
  },
  {
   "cell_type": "markdown",
   "id": "d17d212c",
   "metadata": {},
   "source": [
    "# Split data and train model using Logistic Regression:"
   ]
  },
  {
   "cell_type": "code",
   "execution_count": 720,
   "id": "6b2d2710",
   "metadata": {},
   "outputs": [
    {
     "data": {
      "text/plain": [
       "LogisticRegression(max_iter=2000)"
      ]
     },
     "execution_count": 720,
     "metadata": {},
     "output_type": "execute_result"
    }
   ],
   "source": [
    "X_train, X_test, y_train, y_test = train_test_split(X, y, test_size=0.25, random_state=4)\n",
    "my_logreg = LogisticRegression(max_iter=2000)\n",
    "my_logreg.fit(X_train, y_train)"
   ]
  },
  {
   "cell_type": "markdown",
   "id": "a4932ddc",
   "metadata": {},
   "source": [
    "# Estimate the Probability of an Event Happening:\n",
    "Estimate the likelihood of each label happening"
   ]
  },
  {
   "cell_type": "code",
   "execution_count": 721,
   "id": "ff423cfe",
   "metadata": {},
   "outputs": [],
   "source": [
    "# Predict the Binary Lbel:\n",
    "y_predict_lr = my_logreg.predict(X_test)\n",
    "\n",
    "# Estimate the probability of each label:\n",
    "y_predict_prob_log_r = my_logreg.predict_proba(X_test)"
   ]
  },
  {
   "cell_type": "code",
   "execution_count": 722,
   "id": "c3dc4052",
   "metadata": {},
   "outputs": [
    {
     "name": "stdout",
     "output_type": "stream",
     "text": [
      "THIS IS THE ACTUAL LABLE\n",
      "476    0\n",
      "244    1\n",
      "701    0\n",
      "634    0\n",
      "687    0\n",
      "      ..\n",
      "90     0\n",
      "695    1\n",
      "214    1\n",
      "511    1\n",
      "833    0\n",
      "Name: HeartDisease, Length: 230, dtype: int64\n",
      "PREDICTED LABEL\n",
      "[1 1 0 0 0 1 1 1 0 0 0 1 0 0 0 1 0 0 0 1 1 1 0 0 1 1 0 1 1 1 1 1 1 1 1 0 1\n",
      " 1 1 1 1 0 1 1 1 1 1 1 0 1 1 0 0 0 0 0 1 1 0 1 1 0 0 1 1 1 0 1 0 0 1 1 0 0\n",
      " 0 0 0 0 0 1 0 1 0 1 1 1 0 0 0 1 1 1 0 0 1 1 0 1 1 1 0 0 1 1 1 1 0 0 1 1 0\n",
      " 0 0 0 0 1 1 1 0 1 0 1 1 0 1 0 0 0 0 1 0 0 1 1 1 1 1 1 1 1 0 1 0 0 1 1 0 0\n",
      " 1 1 1 1 0 1 1 0 1 0 0 1 0 1 1 0 1 1 1 1 1 0 1 0 0 1 1 1 0 1 0 1 1 0 1 1 1\n",
      " 1 0 1 0 1 1 1 0 1 0 1 1 1 0 0 1 1 1 0 1 0 1 0 1 0 1 0 0 1 1 1 1 1 0 1 0 1\n",
      " 1 1 1 0 1 1 1 0]\n",
      "ESTMIATE THE LIKELIHOOD OF BOTH LABLE\n",
      "[[0.42952573 0.57047427]\n",
      " [0.06103703 0.93896297]\n",
      " [0.80756328 0.19243672]\n",
      " [0.76560882 0.23439118]\n",
      " [0.905484   0.094516  ]\n",
      " [0.04731256 0.95268744]\n",
      " [0.02469753 0.97530247]\n",
      " [0.14218146 0.85781854]\n",
      " [0.90480197 0.09519803]\n",
      " [0.9193517  0.0806483 ]\n",
      " [0.97770097 0.02229903]\n",
      " [0.39110226 0.60889774]\n",
      " [0.96143729 0.03856271]\n",
      " [0.93944062 0.06055938]\n",
      " [0.77806018 0.22193982]\n",
      " [0.04730327 0.95269673]\n",
      " [0.98138559 0.01861441]\n",
      " [0.90252378 0.09747622]\n",
      " [0.96665341 0.03334659]\n",
      " [0.16330706 0.83669294]\n",
      " [0.09376291 0.90623709]\n",
      " [0.36880653 0.63119347]\n",
      " [0.94223853 0.05776147]\n",
      " [0.86530733 0.13469267]\n",
      " [0.00836054 0.99163946]\n",
      " [0.08595253 0.91404747]\n",
      " [0.98955233 0.01044767]\n",
      " [0.33147269 0.66852731]\n",
      " [0.06662319 0.93337681]\n",
      " [0.47230925 0.52769075]\n",
      " [0.01784224 0.98215776]\n",
      " [0.48229236 0.51770764]\n",
      " [0.07136907 0.92863093]\n",
      " [0.05971069 0.94028931]\n",
      " [0.14339427 0.85660573]\n",
      " [0.95878768 0.04121232]\n",
      " [0.02237368 0.97762632]\n",
      " [0.04762704 0.95237296]\n",
      " [0.01001445 0.98998555]\n",
      " [0.1989362  0.8010638 ]\n",
      " [0.02179512 0.97820488]\n",
      " [0.98192907 0.01807093]\n",
      " [0.34630295 0.65369705]\n",
      " [0.14094189 0.85905811]\n",
      " [0.23134289 0.76865711]\n",
      " [0.05046188 0.94953812]\n",
      " [0.09850975 0.90149025]\n",
      " [0.06861558 0.93138442]\n",
      " [0.70128784 0.29871216]\n",
      " [0.49235842 0.50764158]\n",
      " [0.06017347 0.93982653]\n",
      " [0.7246667  0.2753333 ]\n",
      " [0.96680962 0.03319038]\n",
      " [0.98257958 0.01742042]\n",
      " [0.97545702 0.02454298]\n",
      " [0.85742771 0.14257229]\n",
      " [0.07341609 0.92658391]\n",
      " [0.22588637 0.77411363]\n",
      " [0.97889522 0.02110478]\n",
      " [0.01648894 0.98351106]\n",
      " [0.21299698 0.78700302]\n",
      " [0.99065762 0.00934238]\n",
      " [0.96467852 0.03532148]\n",
      " [0.13689111 0.86310889]\n",
      " [0.08056996 0.91943004]\n",
      " [0.01829214 0.98170786]\n",
      " [0.50043774 0.49956226]\n",
      " [0.0198807  0.9801193 ]\n",
      " [0.96697945 0.03302055]\n",
      " [0.99073313 0.00926687]\n",
      " [0.04943319 0.95056681]\n",
      " [0.42007644 0.57992356]\n",
      " [0.92278662 0.07721338]\n",
      " [0.86221824 0.13778176]\n",
      " [0.73716588 0.26283412]\n",
      " [0.5293924  0.4706076 ]\n",
      " [0.70808434 0.29191566]\n",
      " [0.75133352 0.24866648]\n",
      " [0.9195903  0.0804097 ]\n",
      " [0.043622   0.956378  ]\n",
      " [0.56907091 0.43092909]\n",
      " [0.05883998 0.94116002]\n",
      " [0.89673262 0.10326738]\n",
      " [0.12129925 0.87870075]\n",
      " [0.02914171 0.97085829]\n",
      " [0.40580999 0.59419001]\n",
      " [0.93513332 0.06486668]\n",
      " [0.98855086 0.01144914]\n",
      " [0.89936005 0.10063995]\n",
      " [0.01927447 0.98072553]\n",
      " [0.07647077 0.92352923]\n",
      " [0.17052982 0.82947018]\n",
      " [0.78346628 0.21653372]\n",
      " [0.5994871  0.4005129 ]\n",
      " [0.14086579 0.85913421]\n",
      " [0.19012774 0.80987226]\n",
      " [0.62774769 0.37225231]\n",
      " [0.07448323 0.92551677]\n",
      " [0.01728087 0.98271913]\n",
      " [0.21039503 0.78960497]\n",
      " [0.98064939 0.01935061]\n",
      " [0.91552639 0.08447361]\n",
      " [0.09913063 0.90086937]\n",
      " [0.0855731  0.9144269 ]\n",
      " [0.0342575  0.9657425 ]\n",
      " [0.22868834 0.77131166]\n",
      " [0.97834124 0.02165876]\n",
      " [0.91810032 0.08189968]\n",
      " [0.29180655 0.70819345]\n",
      " [0.06262767 0.93737233]\n",
      " [0.54845079 0.45154921]\n",
      " [0.71428945 0.28571055]\n",
      " [0.7469092  0.2530908 ]\n",
      " [0.89480096 0.10519904]\n",
      " [0.96008485 0.03991515]\n",
      " [0.08516831 0.91483169]\n",
      " [0.01513153 0.98486847]\n",
      " [0.02619116 0.97380884]\n",
      " [0.91393866 0.08606134]\n",
      " [0.32279385 0.67720615]\n",
      " [0.95158055 0.04841945]\n",
      " [0.05751222 0.94248778]\n",
      " [0.13421787 0.86578213]\n",
      " [0.95990979 0.04009021]\n",
      " [0.07597336 0.92402664]\n",
      " [0.98655724 0.01344276]\n",
      " [0.71473161 0.28526839]\n",
      " [0.79866119 0.20133881]\n",
      " [0.91270258 0.08729742]\n",
      " [0.18216459 0.81783541]\n",
      " [0.85505738 0.14494262]\n",
      " [0.84005799 0.15994201]\n",
      " [0.06933089 0.93066911]\n",
      " [0.18822498 0.81177502]\n",
      " [0.24339652 0.75660348]\n",
      " [0.23690518 0.76309482]\n",
      " [0.31491007 0.68508993]\n",
      " [0.05179102 0.94820898]\n",
      " [0.15618801 0.84381199]\n",
      " [0.25471838 0.74528162]\n",
      " [0.5768166  0.4231834 ]\n",
      " [0.02507235 0.97492765]\n",
      " [0.94365879 0.05634121]\n",
      " [0.94549498 0.05450502]\n",
      " [0.01811275 0.98188725]\n",
      " [0.18156778 0.81843222]\n",
      " [0.57998366 0.42001634]\n",
      " [0.93064461 0.06935539]\n",
      " [0.04211448 0.95788552]\n",
      " [0.17942233 0.82057767]\n",
      " [0.08692943 0.91307057]\n",
      " [0.13948072 0.86051928]\n",
      " [0.96760084 0.03239916]\n",
      " [0.20903241 0.79096759]\n",
      " [0.15323216 0.84676784]\n",
      " [0.69585285 0.30414715]\n",
      " [0.05099063 0.94900937]\n",
      " [0.63881983 0.36118017]\n",
      " [0.88172878 0.11827122]\n",
      " [0.00781166 0.99218834]\n",
      " [0.98370611 0.01629389]\n",
      " [0.00832974 0.99167026]\n",
      " [0.06603516 0.93396484]\n",
      " [0.93781847 0.06218153]\n",
      " [0.12968009 0.87031991]\n",
      " [0.32217034 0.67782966]\n",
      " [0.06970202 0.93029798]\n",
      " [0.02099948 0.97900052]\n",
      " [0.33003396 0.66996604]\n",
      " [0.93398428 0.06601572]\n",
      " [0.10970239 0.89029761]\n",
      " [0.98137294 0.01862706]\n",
      " [0.51680049 0.48319951]\n",
      " [0.486886   0.513114  ]\n",
      " [0.07591643 0.92408357]\n",
      " [0.47322357 0.52677643]\n",
      " [0.98553011 0.01446989]\n",
      " [0.00972482 0.99027518]\n",
      " [0.72326061 0.27673939]\n",
      " [0.10625138 0.89374862]\n",
      " [0.19265292 0.80734708]\n",
      " [0.94692965 0.05307035]\n",
      " [0.12793152 0.87206848]\n",
      " [0.40953301 0.59046699]\n",
      " [0.2931429  0.7068571 ]\n",
      " [0.05683019 0.94316981]\n",
      " [0.94348273 0.05651727]\n",
      " [0.0295379  0.9704621 ]\n",
      " [0.83461634 0.16538366]\n",
      " [0.29758168 0.70241832]\n",
      " [0.03163433 0.96836567]\n",
      " [0.32621788 0.67378212]\n",
      " [0.85749545 0.14250455]\n",
      " [0.26804742 0.73195258]\n",
      " [0.9612013  0.0387987 ]\n",
      " [0.25851588 0.74148412]\n",
      " [0.04138153 0.95861847]\n",
      " [0.02090854 0.97909146]\n",
      " [0.98563261 0.01436739]\n",
      " [0.83048536 0.16951464]\n",
      " [0.30271532 0.69728468]\n",
      " [0.47576511 0.52423489]\n",
      " [0.04585138 0.95414862]\n",
      " [0.92829717 0.07170283]\n",
      " [0.0128762  0.9871238 ]\n",
      " [0.65566819 0.34433181]\n",
      " [0.03079125 0.96920875]\n",
      " [0.90446478 0.09553522]\n",
      " [0.32899579 0.67100421]\n",
      " [0.96305345 0.03694655]\n",
      " [0.05453971 0.94546029]\n",
      " [0.98793511 0.01206489]\n",
      " [0.91027691 0.08972309]\n",
      " [0.07965877 0.92034123]\n",
      " [0.01236857 0.98763143]\n",
      " [0.07727821 0.92272179]\n",
      " [0.02129513 0.97870487]\n",
      " [0.14471023 0.85528977]\n",
      " [0.59802377 0.40197623]\n",
      " [0.02542654 0.97457346]\n",
      " [0.86801082 0.13198918]\n",
      " [0.00809245 0.99190755]\n",
      " [0.21779841 0.78220159]\n",
      " [0.00892874 0.99107126]\n",
      " [0.15287092 0.84712908]\n",
      " [0.98448085 0.01551915]\n",
      " [0.07084338 0.92915662]\n",
      " [0.04895222 0.95104778]\n",
      " [0.01430659 0.98569341]\n",
      " [0.52845145 0.47154855]]\n",
      "ESTIMATE THE LIKELIHOOD OF LABEL=1\n",
      "[0.57047427 0.93896297 0.19243672 0.23439118 0.094516   0.95268744\n",
      " 0.97530247 0.85781854 0.09519803 0.0806483  0.02229903 0.60889774\n",
      " 0.03856271 0.06055938 0.22193982 0.95269673 0.01861441 0.09747622\n",
      " 0.03334659 0.83669294 0.90623709 0.63119347 0.05776147 0.13469267\n",
      " 0.99163946 0.91404747 0.01044767 0.66852731 0.93337681 0.52769075\n",
      " 0.98215776 0.51770764 0.92863093 0.94028931 0.85660573 0.04121232\n",
      " 0.97762632 0.95237296 0.98998555 0.8010638  0.97820488 0.01807093\n",
      " 0.65369705 0.85905811 0.76865711 0.94953812 0.90149025 0.93138442\n",
      " 0.29871216 0.50764158 0.93982653 0.2753333  0.03319038 0.01742042\n",
      " 0.02454298 0.14257229 0.92658391 0.77411363 0.02110478 0.98351106\n",
      " 0.78700302 0.00934238 0.03532148 0.86310889 0.91943004 0.98170786\n",
      " 0.49956226 0.9801193  0.03302055 0.00926687 0.95056681 0.57992356\n",
      " 0.07721338 0.13778176 0.26283412 0.4706076  0.29191566 0.24866648\n",
      " 0.0804097  0.956378   0.43092909 0.94116002 0.10326738 0.87870075\n",
      " 0.97085829 0.59419001 0.06486668 0.01144914 0.10063995 0.98072553\n",
      " 0.92352923 0.82947018 0.21653372 0.4005129  0.85913421 0.80987226\n",
      " 0.37225231 0.92551677 0.98271913 0.78960497 0.01935061 0.08447361\n",
      " 0.90086937 0.9144269  0.9657425  0.77131166 0.02165876 0.08189968\n",
      " 0.70819345 0.93737233 0.45154921 0.28571055 0.2530908  0.10519904\n",
      " 0.03991515 0.91483169 0.98486847 0.97380884 0.08606134 0.67720615\n",
      " 0.04841945 0.94248778 0.86578213 0.04009021 0.92402664 0.01344276\n",
      " 0.28526839 0.20133881 0.08729742 0.81783541 0.14494262 0.15994201\n",
      " 0.93066911 0.81177502 0.75660348 0.76309482 0.68508993 0.94820898\n",
      " 0.84381199 0.74528162 0.4231834  0.97492765 0.05634121 0.05450502\n",
      " 0.98188725 0.81843222 0.42001634 0.06935539 0.95788552 0.82057767\n",
      " 0.91307057 0.86051928 0.03239916 0.79096759 0.84676784 0.30414715\n",
      " 0.94900937 0.36118017 0.11827122 0.99218834 0.01629389 0.99167026\n",
      " 0.93396484 0.06218153 0.87031991 0.67782966 0.93029798 0.97900052\n",
      " 0.66996604 0.06601572 0.89029761 0.01862706 0.48319951 0.513114\n",
      " 0.92408357 0.52677643 0.01446989 0.99027518 0.27673939 0.89374862\n",
      " 0.80734708 0.05307035 0.87206848 0.59046699 0.7068571  0.94316981\n",
      " 0.05651727 0.9704621  0.16538366 0.70241832 0.96836567 0.67378212\n",
      " 0.14250455 0.73195258 0.0387987  0.74148412 0.95861847 0.97909146\n",
      " 0.01436739 0.16951464 0.69728468 0.52423489 0.95414862 0.07170283\n",
      " 0.9871238  0.34433181 0.96920875 0.09553522 0.67100421 0.03694655\n",
      " 0.94546029 0.01206489 0.08972309 0.92034123 0.98763143 0.92272179\n",
      " 0.97870487 0.85528977 0.40197623 0.97457346 0.13198918 0.99190755\n",
      " 0.78220159 0.99107126 0.84712908 0.01551915 0.92915662 0.95104778\n",
      " 0.98569341 0.47154855]\n"
     ]
    }
   ],
   "source": [
    "# print the actual label of the testing set:\n",
    "print('THIS IS THE ACTUAL LABLE')\n",
    "print(y_test)\n",
    "\n",
    "# print the predicted label for the testing set:\n",
    "print('PREDICTED LABEL')\n",
    "print(y_predict_lr)\n",
    "\n",
    "# print the estmiated likelihood of both label for the testing set:\n",
    "print('ESTMIATE THE LIKELIHOOD OF BOTH LABLE')\n",
    "print(y_predict_prob_log_r)\n",
    "\n",
    "\n",
    "print('ESTIMATE THE LIKELIHOOD OF LABEL=1')\n",
    "print(y_predict_prob_log_r[:,1])"
   ]
  },
  {
   "cell_type": "markdown",
   "id": "ffdd2d17",
   "metadata": {},
   "source": [
    "# Accuracy Evaluation"
   ]
  },
  {
   "cell_type": "code",
   "execution_count": 723,
   "id": "710e0d1f",
   "metadata": {},
   "outputs": [
    {
     "name": "stdout",
     "output_type": "stream",
     "text": [
      "0.8869565217391304\n"
     ]
    }
   ],
   "source": [
    "score_logreg = accuracy_score(y_test, y_predict_lr)\n",
    "print(score_logreg)"
   ]
  },
  {
   "cell_type": "markdown",
   "id": "974e0188",
   "metadata": {},
   "source": [
    "# True Positive Rate (TPR) and False Positive Rate (FPR):"
   ]
  },
  {
   "cell_type": "code",
   "execution_count": 724,
   "id": "ec5302b1",
   "metadata": {},
   "outputs": [],
   "source": [
    "fpr, tpr, thresholds = metrics.roc_curve(y_test, y_predict_prob_log_r[:,1], pos_label=1)\n"
   ]
  },
  {
   "cell_type": "code",
   "execution_count": 725,
   "id": "a1a84672",
   "metadata": {},
   "outputs": [
    {
     "name": "stdout",
     "output_type": "stream",
     "text": [
      "[0.         0.         0.         0.00952381 0.00952381 0.01904762\n",
      " 0.01904762 0.02857143 0.02857143 0.03809524 0.03809524 0.04761905\n",
      " 0.04761905 0.05714286 0.05714286 0.06666667 0.06666667 0.08571429\n",
      " 0.08571429 0.0952381  0.0952381  0.1047619  0.1047619  0.11428571\n",
      " 0.11428571 0.12380952 0.12380952 0.16190476 0.16190476 0.17142857\n",
      " 0.17142857 0.18095238 0.18095238 0.2        0.2        0.26666667\n",
      " 0.26666667 0.27619048 0.27619048 0.40952381 0.40952381 0.41904762\n",
      " 0.41904762 0.67619048 0.67619048 0.68571429 0.68571429 1.        ]\n"
     ]
    }
   ],
   "source": [
    "print(fpr)"
   ]
  },
  {
   "cell_type": "code",
   "execution_count": 726,
   "id": "cbfdd3b2",
   "metadata": {},
   "outputs": [
    {
     "name": "stdout",
     "output_type": "stream",
     "text": [
      "[0.    0.008 0.36  0.36  0.376 0.376 0.584 0.584 0.592 0.592 0.632 0.632\n",
      " 0.704 0.704 0.736 0.736 0.792 0.792 0.808 0.808 0.824 0.824 0.832 0.832\n",
      " 0.904 0.904 0.912 0.912 0.92  0.92  0.936 0.936 0.944 0.944 0.952 0.952\n",
      " 0.96  0.96  0.968 0.968 0.976 0.976 0.984 0.984 0.992 0.992 1.    1.   ]\n"
     ]
    }
   ],
   "source": [
    "print(tpr)"
   ]
  },
  {
   "cell_type": "markdown",
   "id": "c976ae10",
   "metadata": {},
   "source": [
    "# AUC:"
   ]
  },
  {
   "cell_type": "code",
   "execution_count": 727,
   "id": "ce6d2764",
   "metadata": {},
   "outputs": [
    {
     "name": "stdout",
     "output_type": "stream",
     "text": [
      "0.9432380952380953\n"
     ]
    }
   ],
   "source": [
    "AUC = metrics.auc(fpr, tpr)\n",
    "\n",
    "print(AUC)"
   ]
  },
  {
   "cell_type": "markdown",
   "id": "3b3e5708",
   "metadata": {},
   "source": [
    "# ROC Curve:"
   ]
  },
  {
   "cell_type": "code",
   "execution_count": 728,
   "id": "07ce68e5",
   "metadata": {},
   "outputs": [
    {
     "data": {
      "image/png": "[encoded data removed]",
      "text/plain": [
       "<Figure size 432x288 with 1 Axes>"
      ]
     },
     "metadata": {
      "needs_background": "light"
     },
     "output_type": "display_data"
    }
   ],
   "source": [
    "%matplotlib inline\n",
    "\n",
    "plt.figure()\n",
    "\n",
    "# Roc Curve:\n",
    "plt.plot(fpr, tpr, color='red', lw=2, \n",
    "         label='ROC Curve (area = %0.2f)' % AUC)\n",
    "\n",
    "\n",
    "# Random Guess line:\n",
    "plt.plot([0, 1], [0, 1], color='blue', lw=1, linestyle='--')\n",
    "\n",
    "# Defining The Range of X-Axis and Y-Axis:\n",
    "plt.xlim([-0.005, 1.005])\n",
    "plt.ylim([0.0, 1.01])\n",
    "\n",
    "# Labels, Title, Legend:\n",
    "plt.xlabel('False Positive Rate')\n",
    "plt.ylabel('True Positive Rate')\n",
    "plt.title('Receiver operating characteristic')\n",
    "plt.legend(loc=\"lower right\")\n",
    "\n",
    "plt.show()"
   ]
  },
  {
   "cell_type": "markdown",
   "id": "183feb29",
   "metadata": {},
   "source": [
    "# Repeat the Process with Smaller Number of Features"
   ]
  },
  {
   "cell_type": "code",
   "execution_count": null,
   "id": "a7e4a148",
   "metadata": {},
   "outputs": [],
   "source": []
  },
  {
   "cell_type": "markdown",
   "id": "b1bb2c30",
   "metadata": {},
   "source": [
    "# Decision Tree classifier"
   ]
  },
  {
   "cell_type": "code",
   "execution_count": 729,
   "id": "9eaa7288",
   "metadata": {},
   "outputs": [],
   "source": [
    "X_train, X_test, y_train, y_test = train_test_split(X, y, test_size = 0.35, random_state = 3)\n"
   ]
  },
  {
   "cell_type": "code",
   "execution_count": 730,
   "id": "f31bf94e",
   "metadata": {},
   "outputs": [],
   "source": [
    "my_decisiontree = DecisionTreeClassifier(random_state = 3)\n"
   ]
  },
  {
   "cell_type": "code",
   "execution_count": 731,
   "id": "5382cd1a",
   "metadata": {},
   "outputs": [],
   "source": [
    "my_decisiontree.fit(X_train, y_train)\n",
    "y_predict_dt = my_decisiontree.predict(X_test)\n",
    "\n"
   ]
  },
  {
   "cell_type": "code",
   "execution_count": 732,
   "id": "d85d49a7",
   "metadata": {},
   "outputs": [
    {
     "name": "stdout",
     "output_type": "stream",
     "text": [
      "0.7950310559006211\n"
     ]
    }
   ],
   "source": [
    "score_dt = accuracy_score(y_test, y_predict_dt)\n",
    "print(score_dt)"
   ]
  },
  {
   "cell_type": "markdown",
   "id": "bb318350",
   "metadata": {},
   "source": [
    "# Random Forest"
   ]
  },
  {
   "cell_type": "code",
   "execution_count": 733,
   "id": "d27374a6",
   "metadata": {},
   "outputs": [],
   "source": [
    "X_train, X_test, y_train, y_test = train_test_split(X, y, random_state=3)\n"
   ]
  },
  {
   "cell_type": "code",
   "execution_count": 734,
   "id": "02f91816",
   "metadata": {},
   "outputs": [
    {
     "data": {
      "text/plain": [
       "RandomForestClassifier(n_estimators=500, random_state=3)"
      ]
     },
     "execution_count": 734,
     "metadata": {},
     "output_type": "execute_result"
    }
   ],
   "source": [
    "rf = RandomForestClassifier(n_estimators=500,random_state=3)\n",
    "rf.fit(X_train, y_train)"
   ]
  },
  {
   "cell_type": "code",
   "execution_count": 735,
   "id": "64fde601",
   "metadata": {},
   "outputs": [
    {
     "name": "stdout",
     "output_type": "stream",
     "text": [
      "This is one of my many decision trees from random forest\n"
     ]
    },
    {
     "data": {
      "image/png": "[encoded data removed]",
      "text/plain": [
       "<Figure size 432x288 with 1 Axes>"
      ]
     },
     "metadata": {
      "needs_background": "light"
     },
     "output_type": "display_data"
    }
   ],
   "source": [
    "plot_tree(rf.estimators_[1], \n",
    "          feature_names= rf, \n",
    "          class_names= ['0','1'], \n",
    "          filled=True, \n",
    "          impurity=True, \n",
    "          rounded=True)\n",
    "\n",
    "print('This is one of my many decision trees from random forest')\n",
    "\n"
   ]
  },
  {
   "cell_type": "code",
   "execution_count": 736,
   "id": "4e979f02",
   "metadata": {},
   "outputs": [
    {
     "data": {
      "image/png": "[encoded data removed]",
      "text/plain": [
       "<Figure size 720x720 with 1 Axes>"
      ]
     },
     "metadata": {
      "needs_background": "light"
     },
     "output_type": "display_data"
    },
    {
     "name": "stdout",
     "output_type": "stream",
     "text": [
      "This is the accuracy score with random forest 0.9173913043478261\n",
      "This is the area under curve 0.9574557387057387\n"
     ]
    }
   ],
   "source": [
    "y_score1 = rf.predict_proba(X_test)[:,1]\n",
    "false_positive_rate1, true_positive_rate1, threshold1 = roc_curve(y_test, y_score1)\n",
    "\n",
    "plt.subplots(1, figsize=(10,10))\n",
    "plt.title('Receiver Operating Characteristic - Random Forest')\n",
    "plt.plot(false_positive_rate1, true_positive_rate1)\n",
    "plt.plot([0, 1], ls=\"--\")\n",
    "plt.plot([0, 0], [1, 0] , c=\".7\"), plt.plot([1, 1] , c=\".7\")\n",
    "plt.ylabel('True Positive Rate')\n",
    "plt.xlabel('False Positive Rate')\n",
    "plt.show()\n",
    "\n",
    "y_predict_RandomForest2 = rf.predict(X_test)\n",
    "score_RandomForest2 = accuracy_score(y_test, y_predict_RandomForest2)\n",
    "print(\"This is the accuracy score with random forest\", score_RandomForest2)\n",
    "\n",
    "# AUC:\n",
    "AUC = metrics.auc(false_positive_rate1, true_positive_rate1)\n",
    "print('This is the area under curve', AUC)"
   ]
  },
  {
   "cell_type": "markdown",
   "id": "21e5c999",
   "metadata": {},
   "source": [
    "# Now we are going to use machine learning algorithm K-Nearest Neighbor to predict Heart Disease."
   ]
  },
  {
   "cell_type": "code",
   "execution_count": 737,
   "id": "599e6e7d",
   "metadata": {},
   "outputs": [],
   "source": [
    "# The purpose of this project is to use machine learning algorithm K-Nearest Neighbor to predict Heart Disease.\n",
    "\n",
    "# The following lines will import needed libraries.\n",
    "from sklearn.neighbors import KNeighborsClassifier\n",
    "from sklearn.preprocessing import scale"
   ]
  },
  {
   "cell_type": "code",
   "execution_count": 738,
   "id": "d9f89814",
   "metadata": {},
   "outputs": [],
   "source": [
    "# Create a new data frame\n",
    "\n",
    "df_he = hot_encoded_df"
   ]
  },
  {
   "cell_type": "code",
   "execution_count": 739,
   "id": "3320ff0c",
   "metadata": {},
   "outputs": [],
   "source": [
    "# Create our test data\n",
    "\n",
    "X_all_train, X_all_test, y_train, y_test = train_test_split(X, y, test_size = 0.25, random_state = 5)"
   ]
  },
  {
   "cell_type": "code",
   "execution_count": 740,
   "id": "511637bd",
   "metadata": {},
   "outputs": [],
   "source": [
    "# Instaniate our Nearest Neighbor Classifier with k = 3\n",
    "\n",
    "k = 3\n",
    "my_knn_3 = KNeighborsClassifier(n_neighbors = k)"
   ]
  },
  {
   "cell_type": "code",
   "execution_count": 741,
   "id": "4266379d",
   "metadata": {},
   "outputs": [
    {
     "data": {
      "text/plain": [
       "KNeighborsClassifier(n_neighbors=3)"
      ]
     },
     "execution_count": 741,
     "metadata": {},
     "output_type": "execute_result"
    }
   ],
   "source": [
    "# Train our machine\n",
    "\n",
    "my_knn_3.fit(X_all_train, y_train)"
   ]
  },
  {
   "cell_type": "code",
   "execution_count": 742,
   "id": "6ff57ab6",
   "metadata": {},
   "outputs": [],
   "source": [
    "# Predict the value\n",
    "\n",
    "y_predict = my_knn_3.predict(X_all_test)"
   ]
  },
  {
   "cell_type": "code",
   "execution_count": 743,
   "id": "759917f4",
   "metadata": {},
   "outputs": [
    {
     "name": "stdout",
     "output_type": "stream",
     "text": [
      "0.8565217391304348\n"
     ]
    }
   ],
   "source": [
    "# Check the predicted value versus actual\n",
    "\n",
    "accuracy = accuracy_score(y_test, y_predict)\n",
    "print(accuracy)"
   ]
  },
  {
   "cell_type": "code",
   "execution_count": 744,
   "id": "d0a8d2e2",
   "metadata": {},
   "outputs": [
    {
     "name": "stdout",
     "output_type": "stream",
     "text": [
      "[0.808695652173913, 0.8565217391304348, 0.8652173913043478, 0.8608695652173913, 0.8956521739130435, 0.8869565217391304, 0.8869565217391304, 0.8782608695652174, 0.8739130434782608, 0.8608695652173913]\n"
     ]
    }
   ],
   "source": [
    "# Trying different k-values\n",
    "\n",
    "klist = [1,3,5,7,11,13,15,16,17,19]\n",
    "acclist = []\n",
    "\n",
    "for k in klist:\n",
    "    knn_i = KNeighborsClassifier(n_neighbors = k)\n",
    "    knn_i.fit(X_all_train,y_train)\n",
    "    y_predict = knn_i.predict(X_all_test)\n",
    "    accuracy = accuracy_score(y_test, y_predict)\n",
    "    acclist.append(accuracy)\n",
    "\n",
    "print(acclist)"
   ]
  },
  {
   "cell_type": "markdown",
   "id": "315e6988",
   "metadata": {},
   "source": [
    "# Results\n",
    "\n",
    "We can see that for k = 11 we get an accuracy of 89.56% which is greater than 85.653% when k = 3.\n",
    "Therefore going ahead we will use k = 11 to test which features are the best features."
   ]
  },
  {
   "cell_type": "markdown",
   "id": "e5d6218e",
   "metadata": {},
   "source": [
    "## Using the best k(k = 11) from klist to check which feature is the best feature."
   ]
  },
  {
   "cell_type": "code",
   "execution_count": 745,
   "id": "e24f0118",
   "metadata": {},
   "outputs": [
    {
     "name": "stdout",
     "output_type": "stream",
     "text": [
      "0.6217391304347826\n"
     ]
    }
   ],
   "source": [
    "feature_cols = ['Age']\n",
    "X = df_he[feature_cols]\n",
    "X_train, X_test, y_train, y_test = train_test_split(X, y, test_size = 0.25, random_state = 5)\n",
    "k = 11\n",
    "knn_3 = KNeighborsClassifier(n_neighbors = k)\n",
    "knn_3.fit(X_train, y_train)\n",
    "y_predict = knn_3.predict(X_test)\n",
    "accuracy = accuracy_score(y_test, y_predict)\n",
    "print(accuracy)\n",
    "acclist1 = [19]\n",
    "acclist1.append(accuracy)"
   ]
  },
  {
   "cell_type": "code",
   "execution_count": 746,
   "id": "3d54c5cb",
   "metadata": {},
   "outputs": [
    {
     "name": "stdout",
     "output_type": "stream",
     "text": [
      "0.7\n"
     ]
    }
   ],
   "source": [
    "feature_cols = ['Male']\n",
    "X = df_he[feature_cols]\n",
    "X_train, X_test, y_train, y_test = train_test_split(X, y, test_size = 0.25, random_state = 5)\n",
    "k = 11\n",
    "knn_3 = KNeighborsClassifier(n_neighbors = k)\n",
    "knn_3.fit(X_train, y_train)\n",
    "y_predict = knn_3.predict(X_test)\n",
    "accuracy = accuracy_score(y_test, y_predict)\n",
    "print(accuracy)\n",
    "acclist1.append(accuracy)"
   ]
  },
  {
   "cell_type": "code",
   "execution_count": 747,
   "id": "8b817dde",
   "metadata": {},
   "outputs": [
    {
     "name": "stdout",
     "output_type": "stream",
     "text": [
      "0.7\n"
     ]
    }
   ],
   "source": [
    "feature_cols = ['Female']\n",
    "X = df_he[feature_cols]\n",
    "X_train, X_test, y_train, y_test = train_test_split(X, y, test_size = 0.25, random_state = 5)\n",
    "k = 11\n",
    "knn_3 = KNeighborsClassifier(n_neighbors = k)\n",
    "knn_3.fit(X_train, y_train)\n",
    "y_predict = knn_3.predict(X_test)\n",
    "accuracy = accuracy_score(y_test, y_predict)\n",
    "print(accuracy)\n",
    "acclist1.append(accuracy)"
   ]
  },
  {
   "cell_type": "code",
   "execution_count": 748,
   "id": "43d9e675",
   "metadata": {},
   "outputs": [
    {
     "name": "stdout",
     "output_type": "stream",
     "text": [
      "0.7\n"
     ]
    }
   ],
   "source": [
    "feature_cols = ['ATA']\n",
    "X = df_he[feature_cols]\n",
    "X_train, X_test, y_train, y_test = train_test_split(X, y, test_size = 0.25, random_state = 5)\n",
    "k = 11\n",
    "knn_3 = KNeighborsClassifier(n_neighbors = k)\n",
    "knn_3.fit(X_train, y_train)\n",
    "y_predict = knn_3.predict(X_test)\n",
    "accuracy = accuracy_score(y_test, y_predict)\n",
    "print(accuracy)\n",
    "acclist1.append(accuracy)"
   ]
  },
  {
   "cell_type": "code",
   "execution_count": 749,
   "id": "30e1b05d",
   "metadata": {},
   "outputs": [
    {
     "name": "stdout",
     "output_type": "stream",
     "text": [
      "0.7608695652173914\n"
     ]
    }
   ],
   "source": [
    "feature_cols = ['ASY']\n",
    "X = df_he[feature_cols]\n",
    "X_train, X_test, y_train, y_test = train_test_split(X, y, test_size = 0.25, random_state = 5)\n",
    "k = 11\n",
    "knn_3 = KNeighborsClassifier(n_neighbors = k)\n",
    "knn_3.fit(X_train, y_train)\n",
    "y_predict = knn_3.predict(X_test)\n",
    "accuracy = accuracy_score(y_test, y_predict)\n",
    "print(accuracy)\n",
    "acclist1.append(accuracy)"
   ]
  },
  {
   "cell_type": "code",
   "execution_count": 750,
   "id": "a671df56",
   "metadata": {},
   "outputs": [
    {
     "name": "stdout",
     "output_type": "stream",
     "text": [
      "0.5608695652173913\n"
     ]
    }
   ],
   "source": [
    "feature_cols = ['TA']\n",
    "X = df_he[feature_cols]\n",
    "X_train, X_test, y_train, y_test = train_test_split(X, y, test_size = 0.25, random_state = 5)\n",
    "k = 11\n",
    "knn_3 = KNeighborsClassifier(n_neighbors = k)\n",
    "knn_3.fit(X_train, y_train)\n",
    "y_predict = knn_3.predict(X_test)\n",
    "accuracy = accuracy_score(y_test, y_predict)\n",
    "print(accuracy)\n",
    "acclist1.append(accuracy)"
   ]
  },
  {
   "cell_type": "code",
   "execution_count": 751,
   "id": "7c33456b",
   "metadata": {},
   "outputs": [
    {
     "name": "stdout",
     "output_type": "stream",
     "text": [
      "0.6565217391304348\n"
     ]
    }
   ],
   "source": [
    "feature_cols = ['NAP']\n",
    "X = df_he[feature_cols]\n",
    "X_train, X_test, y_train, y_test = train_test_split(X, y, test_size = 0.25, random_state = 5)\n",
    "k = 11\n",
    "knn_3 = KNeighborsClassifier(n_neighbors = k)\n",
    "knn_3.fit(X_train, y_train)\n",
    "y_predict = knn_3.predict(X_test)\n",
    "accuracy = accuracy_score(y_test, y_predict)\n",
    "print(accuracy)\n",
    "acclist1.append(accuracy)"
   ]
  },
  {
   "cell_type": "code",
   "execution_count": 752,
   "id": "86041728",
   "metadata": {},
   "outputs": [
    {
     "name": "stdout",
     "output_type": "stream",
     "text": [
      "0.5478260869565217\n"
     ]
    }
   ],
   "source": [
    "feature_cols = ['RestingBP']\n",
    "X = df_he[feature_cols]\n",
    "X_train, X_test, y_train, y_test = train_test_split(X, y, test_size = 0.25, random_state = 5)\n",
    "k = 11\n",
    "knn_3 = KNeighborsClassifier(n_neighbors = k)\n",
    "knn_3.fit(X_train, y_train)\n",
    "y_predict = knn_3.predict(X_test)\n",
    "accuracy = accuracy_score(y_test, y_predict)\n",
    "print(accuracy)\n",
    "acclist1.append(accuracy)"
   ]
  },
  {
   "cell_type": "code",
   "execution_count": 753,
   "id": "35ddecbb",
   "metadata": {},
   "outputs": [
    {
     "name": "stdout",
     "output_type": "stream",
     "text": [
      "0.5739130434782609\n"
     ]
    }
   ],
   "source": [
    "feature_cols = ['Cholesterol']\n",
    "X = df_he[feature_cols]\n",
    "X_train, X_test, y_train, y_test = train_test_split(X, y, test_size = 0.25, random_state = 5)\n",
    "k = 11\n",
    "knn_3 = KNeighborsClassifier(n_neighbors = k)\n",
    "knn_3.fit(X_train, y_train)\n",
    "y_predict = knn_3.predict(X_test)\n",
    "accuracy = accuracy_score(y_test, y_predict)\n",
    "print(accuracy)\n",
    "acclist1 = []\n",
    "acclist1.append(accuracy)"
   ]
  },
  {
   "cell_type": "code",
   "execution_count": 754,
   "id": "6562c33b",
   "metadata": {},
   "outputs": [
    {
     "name": "stdout",
     "output_type": "stream",
     "text": [
      "0.6043478260869565\n"
     ]
    }
   ],
   "source": [
    "feature_cols = ['FastingBS']\n",
    "X = df_he[feature_cols]\n",
    "X_train, X_test, y_train, y_test = train_test_split(X, y, test_size = 0.25, random_state = 5)\n",
    "k = 11\n",
    "knn_3 = KNeighborsClassifier(n_neighbors = k)\n",
    "knn_3.fit(X_train, y_train)\n",
    "y_predict = knn_3.predict(X_test)\n",
    "accuracy = accuracy_score(y_test, y_predict)\n",
    "print(accuracy)\n",
    "acclist1.append(accuracy)"
   ]
  },
  {
   "cell_type": "code",
   "execution_count": 755,
   "id": "0df5c968",
   "metadata": {},
   "outputs": [
    {
     "name": "stdout",
     "output_type": "stream",
     "text": [
      "0.5782608695652174\n"
     ]
    }
   ],
   "source": [
    "feature_cols = ['Normal']\n",
    "X = df_he[feature_cols]\n",
    "X_train, X_test, y_train, y_test = train_test_split(X, y, test_size = 0.25, random_state = 5)\n",
    "k = 11\n",
    "knn_3 = KNeighborsClassifier(n_neighbors = k)\n",
    "knn_3.fit(X_train, y_train)\n",
    "y_predict = knn_3.predict(X_test)\n",
    "accuracy = accuracy_score(y_test, y_predict)\n",
    "print(accuracy)\n",
    "acclist1.append(accuracy)"
   ]
  },
  {
   "cell_type": "code",
   "execution_count": 756,
   "id": "9b5d508b",
   "metadata": {},
   "outputs": [
    {
     "name": "stdout",
     "output_type": "stream",
     "text": [
      "0.5043478260869565\n"
     ]
    }
   ],
   "source": [
    "feature_cols = ['ST']\n",
    "X = df_he[feature_cols]\n",
    "X_train, X_test, y_train, y_test = train_test_split(X, y, test_size = 0.25, random_state = 5)\n",
    "k = 11\n",
    "knn_3 = KNeighborsClassifier(n_neighbors = k)\n",
    "knn_3.fit(X_train, y_train)\n",
    "y_predict = knn_3.predict(X_test)\n",
    "accuracy = accuracy_score(y_test, y_predict)\n",
    "print(accuracy)\n",
    "acclist1.append(accuracy)"
   ]
  },
  {
   "cell_type": "code",
   "execution_count": 757,
   "id": "7faeab55",
   "metadata": {},
   "outputs": [
    {
     "name": "stdout",
     "output_type": "stream",
     "text": [
      "0.5782608695652174\n"
     ]
    }
   ],
   "source": [
    "feature_cols = ['LVH']\n",
    "X = df_he[feature_cols]\n",
    "X_train, X_test, y_train, y_test = train_test_split(X, y, test_size = 0.25, random_state = 5)\n",
    "k = 11\n",
    "knn_3 = KNeighborsClassifier(n_neighbors = k)\n",
    "knn_3.fit(X_train, y_train)\n",
    "y_predict = knn_3.predict(X_test)\n",
    "accuracy = accuracy_score(y_test, y_predict)\n",
    "print(accuracy)\n",
    "acclist1.append(accuracy)"
   ]
  },
  {
   "cell_type": "code",
   "execution_count": 758,
   "id": "f9bb056c",
   "metadata": {},
   "outputs": [
    {
     "name": "stdout",
     "output_type": "stream",
     "text": [
      "0.6652173913043479\n"
     ]
    }
   ],
   "source": [
    "feature_cols = ['MaxHR']\n",
    "X = df_he[feature_cols]\n",
    "X_train, X_test, y_train, y_test = train_test_split(X, y, test_size = 0.25, random_state = 5)\n",
    "k = 11\n",
    "knn_3 = KNeighborsClassifier(n_neighbors = k)\n",
    "knn_3.fit(X_train, y_train)\n",
    "y_predict = knn_3.predict(X_test)\n",
    "accuracy = accuracy_score(y_test, y_predict)\n",
    "print(accuracy)\n",
    "acclist1.append(accuracy)"
   ]
  },
  {
   "cell_type": "code",
   "execution_count": 759,
   "id": "2b97f529",
   "metadata": {},
   "outputs": [
    {
     "name": "stdout",
     "output_type": "stream",
     "text": [
      "0.7434782608695653\n"
     ]
    }
   ],
   "source": [
    "feature_cols = ['ExerciseAngina']\n",
    "X = df_he[feature_cols]\n",
    "X_train, X_test, y_train, y_test = train_test_split(X, y, test_size = 0.25, random_state = 5)\n",
    "k = 11\n",
    "knn_3 = KNeighborsClassifier(n_neighbors = k)\n",
    "knn_3.fit(X_train, y_train)\n",
    "y_predict = knn_3.predict(X_test)\n",
    "accuracy = accuracy_score(y_test, y_predict)\n",
    "print(accuracy)\n",
    "acclist1.append(accuracy)"
   ]
  },
  {
   "cell_type": "code",
   "execution_count": 760,
   "id": "e8baeb09",
   "metadata": {},
   "outputs": [
    {
     "name": "stdout",
     "output_type": "stream",
     "text": [
      "0.6782608695652174\n"
     ]
    }
   ],
   "source": [
    "feature_cols = ['Oldpeak']\n",
    "X = df_he[feature_cols]\n",
    "X_train, X_test, y_train, y_test = train_test_split(X, y, test_size = 0.25, random_state = 5)\n",
    "k = 11\n",
    "knn_3 = KNeighborsClassifier(n_neighbors = k)\n",
    "knn_3.fit(X_train, y_train)\n",
    "y_predict = knn_3.predict(X_test)\n",
    "accuracy = accuracy_score(y_test, y_predict)\n",
    "print(accuracy)\n",
    "acclist1.append(accuracy)"
   ]
  },
  {
   "cell_type": "code",
   "execution_count": 761,
   "id": "3f38a231",
   "metadata": {},
   "outputs": [
    {
     "name": "stdout",
     "output_type": "stream",
     "text": [
      "0.8043478260869565\n"
     ]
    }
   ],
   "source": [
    "feature_cols = ['Up']\n",
    "X = df_he[feature_cols]\n",
    "X_train, X_test, y_train, y_test = train_test_split(X, y, test_size = 0.25, random_state = 5)\n",
    "k = 11\n",
    "knn_3 = KNeighborsClassifier(n_neighbors = k)\n",
    "knn_3.fit(X_train, y_train)\n",
    "y_predict = knn_3.predict(X_test)\n",
    "accuracy = accuracy_score(y_test, y_predict)\n",
    "print(accuracy)\n",
    "acclist1.append(accuracy)"
   ]
  },
  {
   "cell_type": "code",
   "execution_count": 762,
   "id": "a83079b8",
   "metadata": {},
   "outputs": [
    {
     "name": "stdout",
     "output_type": "stream",
     "text": [
      "0.7565217391304347\n"
     ]
    }
   ],
   "source": [
    "feature_cols = ['Flat']\n",
    "X = df_he[feature_cols]\n",
    "X_train, X_test, y_train, y_test = train_test_split(X, y, test_size = 0.25, random_state = 5)\n",
    "k = 11\n",
    "knn_3 = KNeighborsClassifier(n_neighbors = k)\n",
    "knn_3.fit(X_train, y_train)\n",
    "y_predict = knn_3.predict(X_test)\n",
    "accuracy = accuracy_score(y_test, y_predict)\n",
    "print(accuracy)\n",
    "acclist1.append(accuracy)"
   ]
  },
  {
   "cell_type": "code",
   "execution_count": 763,
   "id": "3abf5d60",
   "metadata": {},
   "outputs": [
    {
     "name": "stdout",
     "output_type": "stream",
     "text": [
      "0.5782608695652174\n"
     ]
    }
   ],
   "source": [
    "feature_cols = ['Down']\n",
    "X = df_he[feature_cols]\n",
    "X_train, X_test, y_train, y_test = train_test_split(X, y, test_size = 0.25, random_state = 5)\n",
    "k = 11\n",
    "knn_3 = KNeighborsClassifier(n_neighbors = k)\n",
    "knn_3.fit(X_train, y_train)\n",
    "y_predict = knn_3.predict(X_test)\n",
    "accuracy = accuracy_score(y_test, y_predict)\n",
    "print(accuracy)\n",
    "acclist1.append(accuracy)"
   ]
  },
  {
   "cell_type": "markdown",
   "id": "c108918a",
   "metadata": {},
   "source": [
    "## List the best features in order by accuracy:\n",
    "\n",
    "1st 'Up'\n",
    "\n",
    "2nd 'ASY'\n",
    "\n",
    "3rd 'Flat'\n",
    "\n",
    "4th 'ExerciseAngina'\n",
    "\n",
    "5th (tie) 'Male' & 'Female' & 'ATA'\n",
    "\n",
    "6th 'Oldpeak'\n",
    "\n",
    "7th 'MaxHR'\n",
    "\n",
    "8th 'NAP' \n",
    "\n",
    "9th 'Age'\n",
    "\n",
    "10th 'FastingBS'\n",
    "\n",
    "11th (tie) 'Normal' & 'LVH' & 'Down'\n",
    "\n",
    "12th 'Cholesterol' \n",
    "\n",
    "13th 'TA'\n",
    "\n",
    "14th 'RestingBP'\n",
    "\n",
    "15th 'ST'"
   ]
  },
  {
   "cell_type": "markdown",
   "id": "422ccb20",
   "metadata": {},
   "source": [
    "## Test the best combination of the top four features.\n",
    "\n",
    "Now we are going to test which combination of the best features gives us the highest accuracy."
   ]
  },
  {
   "cell_type": "code",
   "execution_count": 764,
   "id": "a6bb0035",
   "metadata": {},
   "outputs": [],
   "source": [
    "feature_cols = ['Up','ASY']\n",
    "X = df_he[feature_cols]\n",
    "X_train, X_test, y_train, y_test = train_test_split(X, y, test_size = 0.25, random_state = 5)\n",
    "k = 11\n",
    "knn_3 = KNeighborsClassifier(n_neighbors = k)\n",
    "knn_3.fit(X_train, y_train)\n",
    "y_predict = knn_3.predict(X_test)\n",
    "accuracy = accuracy_score(y_test, y_predict)\n",
    "acclist2 = []\n",
    "acclist2.append(accuracy)"
   ]
  },
  {
   "cell_type": "code",
   "execution_count": 765,
   "id": "02ac9d6d",
   "metadata": {},
   "outputs": [],
   "source": [
    "feature_cols = ['Up','Flat']\n",
    "X = df_he[feature_cols]\n",
    "X_train, X_test, y_train, y_test = train_test_split(X, y, test_size = 0.25, random_state = 5)\n",
    "k = 11\n",
    "knn_3 = KNeighborsClassifier(n_neighbors = k)\n",
    "knn_3.fit(X_train, y_train)\n",
    "y_predict = knn_3.predict(X_test)\n",
    "accuracy = accuracy_score(y_test, y_predict)\n",
    "acclist2.append(accuracy)"
   ]
  },
  {
   "cell_type": "code",
   "execution_count": 766,
   "id": "81f60114",
   "metadata": {},
   "outputs": [],
   "source": [
    "feature_cols = ['Up','ExerciseAngina']\n",
    "X = df_he[feature_cols]\n",
    "X_train, X_test, y_train, y_test = train_test_split(X, y, test_size = 0.25, random_state = 5)\n",
    "k = 11\n",
    "knn_3 = KNeighborsClassifier(n_neighbors = k)\n",
    "knn_3.fit(X_train, y_train)\n",
    "y_predict = knn_3.predict(X_test)\n",
    "accuracy = accuracy_score(y_test, y_predict)\n",
    "acclist2.append(accuracy)"
   ]
  },
  {
   "cell_type": "code",
   "execution_count": 767,
   "id": "65a7f5c6",
   "metadata": {},
   "outputs": [],
   "source": [
    "feature_cols = ['ASY','Flat']\n",
    "X = df_he[feature_cols]\n",
    "X_train, X_test, y_train, y_test = train_test_split(X, y, test_size = 0.25, random_state = 5)\n",
    "k = 11\n",
    "knn_3 = KNeighborsClassifier(n_neighbors = k)\n",
    "knn_3.fit(X_train, y_train)\n",
    "y_predict = knn_3.predict(X_test)\n",
    "accuracy = accuracy_score(y_test, y_predict)\n",
    "acclist2.append(accuracy)"
   ]
  },
  {
   "cell_type": "code",
   "execution_count": 768,
   "id": "ef2dc3de",
   "metadata": {},
   "outputs": [],
   "source": [
    "feature_cols = ['ASY','ExerciseAngina']\n",
    "X = df_he[feature_cols]\n",
    "X_train, X_test, y_train, y_test = train_test_split(X, y, test_size = 0.25, random_state = 5)\n",
    "k = 11\n",
    "knn_3 = KNeighborsClassifier(n_neighbors = k)\n",
    "knn_3.fit(X_train, y_train)\n",
    "y_predict = knn_3.predict(X_test)\n",
    "accuracy = accuracy_score(y_test, y_predict)\n",
    "acclist2.append(accuracy)"
   ]
  },
  {
   "cell_type": "code",
   "execution_count": 769,
   "id": "11c7447f",
   "metadata": {},
   "outputs": [],
   "source": [
    "feature_cols = ['Flat','ExerciseAngina']\n",
    "X = df_he[feature_cols]\n",
    "X_train, X_test, y_train, y_test = train_test_split(X, y, test_size = 0.25, random_state = 5)\n",
    "k = 11\n",
    "knn_3 = KNeighborsClassifier(n_neighbors = k)\n",
    "knn_3.fit(X_train, y_train)\n",
    "y_predict = knn_3.predict(X_test)\n",
    "accuracy = accuracy_score(y_test, y_predict)\n",
    "acclist2.append(accuracy)"
   ]
  },
  {
   "cell_type": "code",
   "execution_count": 770,
   "id": "a6459266",
   "metadata": {},
   "outputs": [
    {
     "name": "stdout",
     "output_type": "stream",
     "text": [
      "[0.8043478260869565, 0.8043478260869565, 0.8130434782608695, 0.808695652173913, 0.808695652173913, 0.808695652173913]\n"
     ]
    }
   ],
   "source": [
    "print(acclist2)"
   ]
  },
  {
   "cell_type": "markdown",
   "id": "dc6aa78c",
   "metadata": {},
   "source": [
    "## 1st & 4th\n",
    "\n",
    "We can see that the first and fourth best features being the ST_Slope = 'Up' and ExerciseAngina gives us the best accuracy. "
   ]
  },
  {
   "cell_type": "markdown",
   "id": "e46ec9ea",
   "metadata": {},
   "source": [
    "## Predicting the probalbility & showing the performance"
   ]
  },
  {
   "cell_type": "code",
   "execution_count": 771,
   "id": "ecba58c3",
   "metadata": {},
   "outputs": [
    {
     "data": {
      "text/plain": [
       "KNeighborsClassifier(n_neighbors=11)"
      ]
     },
     "execution_count": 771,
     "metadata": {},
     "output_type": "execute_result"
    }
   ],
   "source": [
    "# Instaniate our Nearest Neighbor Classifier with k = 11\n",
    "\n",
    "k = 11\n",
    "my_knn_11 = KNeighborsClassifier(n_neighbors = k)\n",
    "my_knn_11.fit(X_all_train, y_train)"
   ]
  },
  {
   "cell_type": "code",
   "execution_count": 772,
   "id": "5be7845c",
   "metadata": {},
   "outputs": [],
   "source": [
    "# Predict the Probability\n",
    "\n",
    "y_predict_proba_knn = my_knn_11.predict_proba(X_all_test)"
   ]
  },
  {
   "cell_type": "code",
   "execution_count": 773,
   "id": "f3ed4b9d",
   "metadata": {},
   "outputs": [],
   "source": [
    "fpr, tpr, thresholds = metrics.roc_curve(y_test, y_predict_proba_knn[:,1], pos_label = 1)"
   ]
  },
  {
   "cell_type": "code",
   "execution_count": 774,
   "id": "b096109d",
   "metadata": {},
   "outputs": [
    {
     "name": "stdout",
     "output_type": "stream",
     "text": [
      "0.9251608402449423\n"
     ]
    }
   ],
   "source": [
    "AUC = metrics.auc(fpr, tpr)\n",
    "print(AUC)"
   ]
  },
  {
   "cell_type": "code",
   "execution_count": 775,
   "id": "a8c9fe09",
   "metadata": {},
   "outputs": [
    {
     "data": {
      "image/png": "[encoded data removed]",
      "text/plain": [
       "<Figure size 432x288 with 1 Axes>"
      ]
     },
     "metadata": {
      "needs_background": "light"
     },
     "output_type": "display_data"
    }
   ],
   "source": [
    "# Show the ROC\n",
    "\n",
    "%matplotlib inline\n",
    "\n",
    "plt.figure()\n",
    "\n",
    "# Roc Curve:\n",
    "plt.plot(fpr, tpr, color='red', lw=2, \n",
    "         label='ROC Curve (area = %0.2f)' % AUC)\n",
    "\n",
    "# Random Guess line:\n",
    "plt.plot([0, 1], [0, 1], color='blue', lw=1, linestyle='--')\n",
    "\n",
    "# Defining The Range of X-Axis and Y-Axis:\n",
    "plt.xlim([-0.005, 1.005])\n",
    "plt.ylim([0.0, 1.01])\n",
    "\n",
    "# Labels, Title, Legend:\n",
    "plt.xlabel('False Positive Rate')\n",
    "plt.ylabel('True Positive Rate')\n",
    "plt.title('Receiver operating characteristic')\n",
    "plt.legend(loc = \"lower right\")\n",
    "\n",
    "plt.show()"
   ]
  },
  {
   "cell_type": "markdown",
   "id": "300ef551",
   "metadata": {},
   "source": [
    "As shown thanks to the graph above we can see that nearest neighbor has only a preformance rate of 92.51%. Therefore we can only say its reliable almost 93% of the time."
   ]
  },
  {
   "cell_type": "markdown",
   "id": "1c6d61f2",
   "metadata": {},
   "source": [
    "Start of LinearRegression Model:"
   ]
  },
  {
   "cell_type": "code",
   "execution_count": 776,
   "id": "30c74ff1",
   "metadata": {},
   "outputs": [
    {
     "name": "stdout",
     "output_type": "stream",
     "text": [
      "[0.52223295 0.93414912 0.92231951 0.74827795 0.26635152 0.75857625\n",
      " 1.18382503 0.63538766 0.18445595 0.45264088 0.50601304 0.35525527\n",
      " 0.10782969 0.5161639  0.97510394 0.25383619 0.79251722 0.80090786\n",
      " 0.61481136 0.4824058  0.46458135 0.70487153 1.23163613 0.47727843\n",
      " 0.26259156 0.46916753 0.76149321 0.54559102 0.1315926  0.86485681\n",
      " 1.00224239 0.46894389 0.84504013 0.30117328 0.31799957 0.22399485\n",
      " 1.14595847 0.38037276 0.44279552 1.04847724 0.78321432 0.71934902\n",
      " 0.25869139 0.74698929 0.29736602 0.88567021 0.6674022  0.3298803\n",
      " 0.16541046 0.48217726 0.58644109 0.8268284  0.82081386 0.16519421\n",
      " 0.5592906  0.64527229 0.29622488 0.20122643 0.69851636 0.59103069\n",
      " 0.15193597 0.82635152 0.2778182  0.77165752 0.68837069 0.1458761\n",
      " 0.47290406 1.03364261 0.34723298 0.68134066 0.29424482 0.28656035\n",
      " 0.3374782  0.60463228 0.60316057 0.29940117 0.8257975  0.70461296\n",
      " 0.20808463 0.41093733 1.13531513 0.53901094 0.88107528 0.62343803\n",
      " 0.24921071 0.68869007 0.45323858 0.7142511  0.31848001 0.41611884\n",
      " 0.04703049 0.86622386 0.56650417 0.50985407 0.62664579 0.7338764\n",
      " 0.2415262  0.22477104 0.60724331 0.49656088 0.92523973 0.40401662\n",
      " 1.27193478 0.75636523 0.30939476 0.69521207 0.69098702 0.64756569\n",
      " 0.70329162 0.27972791 1.01877961 0.98381026 0.52939699 0.14977466\n",
      " 0.51983371 0.40276811 0.42999207 0.21958806 1.04016803 0.29735418\n",
      " 0.54340355 0.78992367 0.4146475  0.58498821 0.33916925 0.48717897\n",
      " 0.3985639  0.20262753 0.10072709 0.11716065 0.66453222 0.49000964\n",
      " 0.25761324 0.75430329 0.36523502 1.00865244 0.52022021 0.41454852\n",
      " 0.49827161 0.73775007 1.01624825 0.30146864 0.24194471 0.46682958\n",
      " 0.74204583 0.08284151 0.37208893 0.20661667 0.53952958 0.81861738\n",
      " 0.84744751 0.7364347  0.71520253 0.51819816 0.28665707 0.54664908\n",
      " 0.92294855 0.9787458  0.3411943  0.90636347 0.39361399 0.34310473\n",
      " 0.14956211 1.16108548 0.45928046 0.6316401  0.4253775  0.48256341\n",
      " 0.81678641 0.26590108 0.79100887 0.19735547 0.9049906  0.57199131\n",
      " 0.15762184 0.45043829 0.23936083 0.57735628 0.61746956 0.53227218\n",
      " 0.24805186 0.6662236  0.51021384 0.62615434 0.5481163  0.38147783\n",
      " 1.04636551 0.56702139 0.3509555  0.5881847  1.03106248 0.71388216\n",
      " 0.1771783  0.66261498 0.56026208 0.3723509  0.35369111 0.11703082\n",
      " 0.75475624 0.72592019 0.95942839 0.24409761 0.79119682 0.67725331\n",
      " 0.65422605 0.5282481  0.98966378 0.30114235 0.71746429 0.47715027\n",
      " 0.57482779 0.17246949 0.23358941 0.82986949 0.53017665 0.26701331\n",
      " 0.50629504 0.21293749 0.76270616 0.52244926 0.5054517  0.63525784\n",
      " 0.73460173 0.20866786 0.41244672 0.9500117  0.84042661 0.47609057\n",
      " 0.4494875  0.73234687]\n"
     ]
    }
   ],
   "source": [
    "from sklearn.linear_model import LinearRegression\n",
    "feature_cols = ['Age','RestingBP','Cholesterol','FastingBS',\n",
    "                'MaxHR','Oldpeak']\n",
    "X = df[feature_cols]\n",
    "y = df['HeartDisease']\n",
    "\n",
    "X_train, X_test, y_train, y_test = train_test_split(X, y, test_size=0.25,random_state=3)\n",
    "#creating new linear regression model\n",
    "my_lin_reg = LinearRegression()\n",
    "my_lin_reg.fit(X_train,y_train)\n",
    "\n",
    "y_pred = my_lin_reg.predict(X_test)\n",
    "print(y_pred)"
   ]
  },
  {
   "cell_type": "code",
   "execution_count": 777,
   "id": "f00b2768",
   "metadata": {},
   "outputs": [
    {
     "data": {
      "text/plain": [
       "0.1512107862645914"
      ]
     },
     "execution_count": 777,
     "metadata": {},
     "output_type": "execute_result"
    }
   ],
   "source": [
    "from sklearn import metrics\n",
    "#calculating mse\n",
    "mse = metrics.mean_squared_error(y_test, y_pred)\n",
    "mse"
   ]
  },
  {
   "cell_type": "code",
   "execution_count": 778,
   "id": "c2c11ef8",
   "metadata": {},
   "outputs": [
    {
     "name": "stdout",
     "output_type": "stream",
     "text": [
      "Below is our accuracy score before applying One Hot Coding:\n",
      "0.3888583112967902\n",
      "Unlike other methods we use RMSE as our accuracy score. The lower the number for RMSE the better.\n"
     ]
    }
   ],
   "source": [
    "#calculating rmse(accuracy score)\n",
    "rmse = np.sqrt(mse)\n",
    "print('Below is our accuracy score before applying One Hot Coding:')\n",
    "print(rmse)\n",
    "print('Unlike other methods we use RMSE as our accuracy score. The lower the number for RMSE the better.')"
   ]
  },
  {
   "cell_type": "markdown",
   "id": "f03f1053",
   "metadata": {},
   "source": [
    "Now this will be our rmse after one hot encoding:"
   ]
  },
  {
   "cell_type": "code",
   "execution_count": 779,
   "id": "4657ecf1",
   "metadata": {},
   "outputs": [
    {
     "name": "stdout",
     "output_type": "stream",
     "text": [
      "[ 0.8455563   0.85465754  0.85750671  0.94717267  0.14063674  1.02173233\n",
      "  1.15038925  0.69823008  0.09286257  0.3087418   0.25374795  0.20564453\n",
      " -0.11040038  0.68307353  1.26395215 -0.08292784  0.98713524  0.91470444\n",
      "  0.87630181  0.67072848  0.63408449  0.83934509  0.90500798  0.78728955\n",
      "  0.32814957  0.85556589  0.87254762  0.29486629  0.0491408   1.11835697\n",
      "  1.01848707  0.48291306  0.97342761 -0.08240757  0.49277294 -0.19765651\n",
      "  1.10685352  0.06881551  0.83999787  0.51560441  0.95040042  1.04036908\n",
      "  0.09841389  0.33575941 -0.05168825  0.83484311  0.69309591  0.35614916\n",
      "  0.40930372  0.88769075  0.89020022  0.7847952   0.76106106 -0.08525512\n",
      "  0.60162681  0.9393379  -0.05629599  0.2878524   0.9907888   0.52325966\n",
      " -0.08909645  0.72547662  0.10232384  1.00237206  0.57322956 -0.07856279\n",
      "  0.14054839  0.87395252 -0.04863982  0.63038922  0.41308115 -0.09716582\n",
      " -0.08280713  0.88380742  0.443389   -0.13385028  1.0292324   0.90594329\n",
      "  0.34318611  0.12022239  1.09200536  0.61415246  0.65235192  0.65829185\n",
      "  0.04092834  0.61729301  0.41364547  0.92541735  0.09102214  0.35139559\n",
      "  0.01299855  0.86728594  0.30714759  0.03780061  0.77849386  0.83719281\n",
      "  0.23898178  0.31230707  0.40820008  0.22883382  1.09141472  0.61155037\n",
      "  1.0775122   0.37633565  0.06219744  0.94719982  0.80379555  0.92800089\n",
      "  0.96305771  0.24479365  1.12574033  1.01604478  0.35306436 -0.1078277\n",
      " -0.02669273  0.4945533   0.18038678  0.08030956  1.1080897  -0.13858629\n",
      "  0.93714365  0.93147871  0.19524908  0.13562691 -0.05057814  0.72094863\n",
      "  0.34754789  0.07726289 -0.08725753 -0.08421404  0.94257578  0.39753457\n",
      "  0.07961726  0.90701488 -0.11576632  1.01372756  0.9239449   0.38135039\n",
      " -0.00228284  0.72408469  0.74496732  0.12347437  0.11709779  0.40345095\n",
      "  0.98976116 -0.00553706  0.62112826  0.14723305  0.6382724   0.82179285\n",
      "  1.00824555  0.93602494  0.94676848  0.37019079  0.30525769  0.19650556\n",
      "  0.80745816  0.72564203  0.21240563  0.98718542  0.21685439  0.32197771\n",
      "  0.09640098  1.09577313  0.39195569  0.93170428  0.30343621  0.09559956\n",
      "  0.80332894  0.32769714  1.03609729  0.61918903  1.07068439  0.53071654\n",
      "  0.26958616  0.14824164  0.77733511  0.46030703  0.96381079  0.55961836\n",
      "  0.18716233  0.89766058  0.09192042  0.44915752  0.88545235  0.57423681\n",
      "  1.05973493  0.13486806  0.46414451  0.92482988  1.00452571  0.85548804\n",
      "  0.66074436  0.94811794  0.69674024  0.38284442  0.37102262  0.01264057\n",
      "  0.85399937  0.45847294  1.09051568  0.07919713  0.94747304  0.32659362\n",
      "  1.02919747  0.77574775  0.9276594   0.29781917  0.9918771   0.73200534\n",
      "  0.84415729  0.37672454  0.09971891  0.68670536  0.24968326  0.08063991\n",
      "  0.4583834   0.11474641  0.81693769  0.07883704  0.27303159  0.37072534\n",
      "  0.85231957  0.06911838  0.1665019   0.99814681  0.86440102  0.24048332\n",
      "  0.69270652  0.78852688]\n"
     ]
    }
   ],
   "source": [
    "feature_cols = ['Age', 'Male', 'Female', 'ATA', 'ASY', 'TA', 'NAP', 'RestingBP', 'Cholesterol', 'FastingBS', \n",
    "                'Normal', 'ST','LVH', 'MaxHR', 'ExerciseAngina', 'Oldpeak', 'Up','Flat','Down']\n",
    "X = hot_encoded_df[feature_cols]\n",
    "y = hot_encoded_df['HeartDisease']\n",
    "X_train, X_test, y_train, y_test = train_test_split(X, y, test_size=0.25,random_state=3)\n",
    "\n",
    "linreg = LinearRegression()\n",
    "linreg.fit(X_train,y_train)\n",
    "\n",
    "y_prediction = linreg.predict(X_test)\n",
    "\n",
    "print(y_prediction)"
   ]
  },
  {
   "cell_type": "code",
   "execution_count": 780,
   "id": "08019119",
   "metadata": {},
   "outputs": [
    {
     "data": {
      "text/plain": [
       "0.0878453087965088"
      ]
     },
     "execution_count": 780,
     "metadata": {},
     "output_type": "execute_result"
    }
   ],
   "source": [
    "#calculating mse\n",
    "OHC_mse = metrics.mean_squared_error(y_test, y_prediction)\n",
    "OHC_mse"
   ]
  },
  {
   "cell_type": "code",
   "execution_count": 781,
   "id": "196e9a4a",
   "metadata": {},
   "outputs": [
    {
     "name": "stdout",
     "output_type": "stream",
     "text": [
      "RMSE for data frame with One Hot Coding:\n",
      "0.3888583112967902\n"
     ]
    }
   ],
   "source": [
    "#Calculating rmse\n",
    "OHC_rmse = np.sqrt(mse)\n",
    "print('RMSE for data frame with One Hot Coding:')\n",
    "print(OHC_rmse)"
   ]
  },
  {
   "cell_type": "markdown",
   "id": "97aa5d52",
   "metadata": {},
   "source": [
    "rmse score before and after One Hot Coding are the same."
   ]
  }
 ],
 "metadata": {
  "kernelspec": {
   "display_name": "Python 3",
   "language": "python",
   "name": "python3"
  },
  "language_info": {
   "codemirror_mode": {
    "name": "ipython",
    "version": 3
   },
   "file_extension": ".py",
   "mimetype": "text/x-python",
   "name": "python",
   "nbconvert_exporter": "python",
   "pygments_lexer": "ipython3",
   "version": "3.8.8"
  }
 },
 "nbformat": 4,
 "nbformat_minor": 5
}
