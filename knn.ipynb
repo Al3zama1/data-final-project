{
 "cells": [
  {
   "cell_type": "code",
   "execution_count": 47,
   "metadata": {},
   "outputs": [],
   "source": [
    "from sklearn.model_selection import train_test_split\n",
    "from sklearn.metrics import accuracy_score, roc_curve\n",
    "from sklearn import metrics\n",
    "import seaborn as sns\n",
    "from sklearn.decomposition import PCA\n",
    "from sklearn.preprocessing import StandardScaler\n",
    "\n",
    "import pandas as pd\n",
    "import numpy as np\n",
    "import matplotlib.pyplot as plt\n",
    "\n",
    "from sklearn.neighbors import KNeighborsClassifier"
   ]
  },
  {
   "cell_type": "markdown",
   "metadata": {},
   "source": [
    "# Fetch Data:"
   ]
  },
  {
   "cell_type": "code",
   "execution_count": 48,
   "metadata": {},
   "outputs": [
    {
     "data": {
      "text/html": [
       "<div>\n",
       "<style scoped>\n",
       "    .dataframe tbody tr th:only-of-type {\n",
       "        vertical-align: middle;\n",
       "    }\n",
       "\n",
       "    .dataframe tbody tr th {\n",
       "        vertical-align: top;\n",
       "    }\n",
       "\n",
       "    .dataframe thead th {\n",
       "        text-align: right;\n",
       "    }\n",
       "</style>\n",
       "<table border=\"1\" class=\"dataframe\">\n",
       "  <thead>\n",
       "    <tr style=\"text-align: right;\">\n",
       "      <th></th>\n",
       "      <th>Age</th>\n",
       "      <th>Sex</th>\n",
       "      <th>ChestPainType</th>\n",
       "      <th>RestingBP</th>\n",
       "      <th>Cholesterol</th>\n",
       "      <th>FastingBS</th>\n",
       "      <th>RestingECG</th>\n",
       "      <th>MaxHR</th>\n",
       "      <th>ExerciseAngina</th>\n",
       "      <th>Oldpeak</th>\n",
       "      <th>ST_Slope</th>\n",
       "      <th>HeartDisease</th>\n",
       "    </tr>\n",
       "  </thead>\n",
       "  <tbody>\n",
       "    <tr>\n",
       "      <th>0</th>\n",
       "      <td>40</td>\n",
       "      <td>M</td>\n",
       "      <td>ATA</td>\n",
       "      <td>140</td>\n",
       "      <td>289</td>\n",
       "      <td>0</td>\n",
       "      <td>Normal</td>\n",
       "      <td>172</td>\n",
       "      <td>N</td>\n",
       "      <td>0.0</td>\n",
       "      <td>Up</td>\n",
       "      <td>0</td>\n",
       "    </tr>\n",
       "    <tr>\n",
       "      <th>1</th>\n",
       "      <td>49</td>\n",
       "      <td>F</td>\n",
       "      <td>NAP</td>\n",
       "      <td>160</td>\n",
       "      <td>180</td>\n",
       "      <td>0</td>\n",
       "      <td>Normal</td>\n",
       "      <td>156</td>\n",
       "      <td>N</td>\n",
       "      <td>1.0</td>\n",
       "      <td>Flat</td>\n",
       "      <td>1</td>\n",
       "    </tr>\n",
       "    <tr>\n",
       "      <th>2</th>\n",
       "      <td>37</td>\n",
       "      <td>M</td>\n",
       "      <td>ATA</td>\n",
       "      <td>130</td>\n",
       "      <td>283</td>\n",
       "      <td>0</td>\n",
       "      <td>ST</td>\n",
       "      <td>98</td>\n",
       "      <td>N</td>\n",
       "      <td>0.0</td>\n",
       "      <td>Up</td>\n",
       "      <td>0</td>\n",
       "    </tr>\n",
       "    <tr>\n",
       "      <th>3</th>\n",
       "      <td>48</td>\n",
       "      <td>F</td>\n",
       "      <td>ASY</td>\n",
       "      <td>138</td>\n",
       "      <td>214</td>\n",
       "      <td>0</td>\n",
       "      <td>Normal</td>\n",
       "      <td>108</td>\n",
       "      <td>Y</td>\n",
       "      <td>1.5</td>\n",
       "      <td>Flat</td>\n",
       "      <td>1</td>\n",
       "    </tr>\n",
       "    <tr>\n",
       "      <th>4</th>\n",
       "      <td>54</td>\n",
       "      <td>M</td>\n",
       "      <td>NAP</td>\n",
       "      <td>150</td>\n",
       "      <td>195</td>\n",
       "      <td>0</td>\n",
       "      <td>Normal</td>\n",
       "      <td>122</td>\n",
       "      <td>N</td>\n",
       "      <td>0.0</td>\n",
       "      <td>Up</td>\n",
       "      <td>0</td>\n",
       "    </tr>\n",
       "    <tr>\n",
       "      <th>...</th>\n",
       "      <td>...</td>\n",
       "      <td>...</td>\n",
       "      <td>...</td>\n",
       "      <td>...</td>\n",
       "      <td>...</td>\n",
       "      <td>...</td>\n",
       "      <td>...</td>\n",
       "      <td>...</td>\n",
       "      <td>...</td>\n",
       "      <td>...</td>\n",
       "      <td>...</td>\n",
       "      <td>...</td>\n",
       "    </tr>\n",
       "    <tr>\n",
       "      <th>913</th>\n",
       "      <td>45</td>\n",
       "      <td>M</td>\n",
       "      <td>TA</td>\n",
       "      <td>110</td>\n",
       "      <td>264</td>\n",
       "      <td>0</td>\n",
       "      <td>Normal</td>\n",
       "      <td>132</td>\n",
       "      <td>N</td>\n",
       "      <td>1.2</td>\n",
       "      <td>Flat</td>\n",
       "      <td>1</td>\n",
       "    </tr>\n",
       "    <tr>\n",
       "      <th>914</th>\n",
       "      <td>68</td>\n",
       "      <td>M</td>\n",
       "      <td>ASY</td>\n",
       "      <td>144</td>\n",
       "      <td>193</td>\n",
       "      <td>1</td>\n",
       "      <td>Normal</td>\n",
       "      <td>141</td>\n",
       "      <td>N</td>\n",
       "      <td>3.4</td>\n",
       "      <td>Flat</td>\n",
       "      <td>1</td>\n",
       "    </tr>\n",
       "    <tr>\n",
       "      <th>915</th>\n",
       "      <td>57</td>\n",
       "      <td>M</td>\n",
       "      <td>ASY</td>\n",
       "      <td>130</td>\n",
       "      <td>131</td>\n",
       "      <td>0</td>\n",
       "      <td>Normal</td>\n",
       "      <td>115</td>\n",
       "      <td>Y</td>\n",
       "      <td>1.2</td>\n",
       "      <td>Flat</td>\n",
       "      <td>1</td>\n",
       "    </tr>\n",
       "    <tr>\n",
       "      <th>916</th>\n",
       "      <td>57</td>\n",
       "      <td>F</td>\n",
       "      <td>ATA</td>\n",
       "      <td>130</td>\n",
       "      <td>236</td>\n",
       "      <td>0</td>\n",
       "      <td>LVH</td>\n",
       "      <td>174</td>\n",
       "      <td>N</td>\n",
       "      <td>0.0</td>\n",
       "      <td>Flat</td>\n",
       "      <td>1</td>\n",
       "    </tr>\n",
       "    <tr>\n",
       "      <th>917</th>\n",
       "      <td>38</td>\n",
       "      <td>M</td>\n",
       "      <td>NAP</td>\n",
       "      <td>138</td>\n",
       "      <td>175</td>\n",
       "      <td>0</td>\n",
       "      <td>Normal</td>\n",
       "      <td>173</td>\n",
       "      <td>N</td>\n",
       "      <td>0.0</td>\n",
       "      <td>Up</td>\n",
       "      <td>0</td>\n",
       "    </tr>\n",
       "  </tbody>\n",
       "</table>\n",
       "<p>918 rows × 12 columns</p>\n",
       "</div>"
      ],
      "text/plain": [
       "     Age Sex ChestPainType  RestingBP  Cholesterol  FastingBS RestingECG  \\\n",
       "0     40   M           ATA        140          289          0     Normal   \n",
       "1     49   F           NAP        160          180          0     Normal   \n",
       "2     37   M           ATA        130          283          0         ST   \n",
       "3     48   F           ASY        138          214          0     Normal   \n",
       "4     54   M           NAP        150          195          0     Normal   \n",
       "..   ...  ..           ...        ...          ...        ...        ...   \n",
       "913   45   M            TA        110          264          0     Normal   \n",
       "914   68   M           ASY        144          193          1     Normal   \n",
       "915   57   M           ASY        130          131          0     Normal   \n",
       "916   57   F           ATA        130          236          0        LVH   \n",
       "917   38   M           NAP        138          175          0     Normal   \n",
       "\n",
       "     MaxHR ExerciseAngina  Oldpeak ST_Slope  HeartDisease  \n",
       "0      172              N      0.0       Up             0  \n",
       "1      156              N      1.0     Flat             1  \n",
       "2       98              N      0.0       Up             0  \n",
       "3      108              Y      1.5     Flat             1  \n",
       "4      122              N      0.0       Up             0  \n",
       "..     ...            ...      ...      ...           ...  \n",
       "913    132              N      1.2     Flat             1  \n",
       "914    141              N      3.4     Flat             1  \n",
       "915    115              Y      1.2     Flat             1  \n",
       "916    174              N      0.0     Flat             1  \n",
       "917    173              N      0.0       Up             0  \n",
       "\n",
       "[918 rows x 12 columns]"
      ]
     },
     "execution_count": 48,
     "metadata": {},
     "output_type": "execute_result"
    }
   ],
   "source": [
    "df = pd.read_csv('https://raw.githubusercontent.com/stay-fcsd/data-final-project/main/heart.csv')\n",
    "df"
   ]
  },
  {
   "cell_type": "markdown",
   "metadata": {},
   "source": [
    "# Hot Encoding:\n",
    "Convert categoricla features into dummy columns in the feature table with a binary value for each of the possible categorical values"
   ]
  },
  {
   "cell_type": "code",
   "execution_count": 49,
   "metadata": {},
   "outputs": [
    {
     "name": "stderr",
     "output_type": "stream",
     "text": [
      "/var/folders/xz/gd28q0w92sqd0rq28sz11kq40000gn/T/ipykernel_18818/2609551469.py:8: FutureWarning: In a future version of pandas all arguments of DataFrame.drop except for the argument 'labels' will be keyword-only\n",
      "  hot_encoded_df = hot_encoded_df.drop('Sex', 1)\n",
      "/var/folders/xz/gd28q0w92sqd0rq28sz11kq40000gn/T/ipykernel_18818/2609551469.py:15: FutureWarning: In a future version of pandas all arguments of DataFrame.drop except for the argument 'labels' will be keyword-only\n",
      "  hot_encoded_df = hot_encoded_df.drop('ChestPainType', 1)\n",
      "/var/folders/xz/gd28q0w92sqd0rq28sz11kq40000gn/T/ipykernel_18818/2609551469.py:21: FutureWarning: In a future version of pandas all arguments of DataFrame.drop except for the argument 'labels' will be keyword-only\n",
      "  hot_encoded_df = hot_encoded_df.drop('RestingECG', 1)\n",
      "/var/folders/xz/gd28q0w92sqd0rq28sz11kq40000gn/T/ipykernel_18818/2609551469.py:29: FutureWarning: In a future version of pandas all arguments of DataFrame.drop except for the argument 'labels' will be keyword-only\n",
      "  hot_encoded_df = hot_encoded_df.drop('ST_Slope', 1)\n"
     ]
    },
    {
     "data": {
      "text/html": [
       "<div>\n",
       "<style scoped>\n",
       "    .dataframe tbody tr th:only-of-type {\n",
       "        vertical-align: middle;\n",
       "    }\n",
       "\n",
       "    .dataframe tbody tr th {\n",
       "        vertical-align: top;\n",
       "    }\n",
       "\n",
       "    .dataframe thead th {\n",
       "        text-align: right;\n",
       "    }\n",
       "</style>\n",
       "<table border=\"1\" class=\"dataframe\">\n",
       "  <thead>\n",
       "    <tr style=\"text-align: right;\">\n",
       "      <th></th>\n",
       "      <th>Age</th>\n",
       "      <th>RestingBP</th>\n",
       "      <th>Cholesterol</th>\n",
       "      <th>FastingBS</th>\n",
       "      <th>MaxHR</th>\n",
       "      <th>ExerciseAngina</th>\n",
       "      <th>Oldpeak</th>\n",
       "      <th>Male</th>\n",
       "      <th>Female</th>\n",
       "      <th>ATA</th>\n",
       "      <th>TA</th>\n",
       "      <th>ASY</th>\n",
       "      <th>NAP</th>\n",
       "      <th>Normal</th>\n",
       "      <th>ST</th>\n",
       "      <th>LVH</th>\n",
       "      <th>Up</th>\n",
       "      <th>Flat</th>\n",
       "      <th>Down</th>\n",
       "      <th>HeartDisease</th>\n",
       "    </tr>\n",
       "  </thead>\n",
       "  <tbody>\n",
       "    <tr>\n",
       "      <th>0</th>\n",
       "      <td>40</td>\n",
       "      <td>140</td>\n",
       "      <td>289</td>\n",
       "      <td>0</td>\n",
       "      <td>172</td>\n",
       "      <td>0</td>\n",
       "      <td>0.0</td>\n",
       "      <td>1</td>\n",
       "      <td>0</td>\n",
       "      <td>1</td>\n",
       "      <td>0</td>\n",
       "      <td>0</td>\n",
       "      <td>0</td>\n",
       "      <td>1</td>\n",
       "      <td>0</td>\n",
       "      <td>0</td>\n",
       "      <td>1</td>\n",
       "      <td>0</td>\n",
       "      <td>0</td>\n",
       "      <td>0</td>\n",
       "    </tr>\n",
       "    <tr>\n",
       "      <th>1</th>\n",
       "      <td>49</td>\n",
       "      <td>160</td>\n",
       "      <td>180</td>\n",
       "      <td>0</td>\n",
       "      <td>156</td>\n",
       "      <td>0</td>\n",
       "      <td>1.0</td>\n",
       "      <td>0</td>\n",
       "      <td>1</td>\n",
       "      <td>0</td>\n",
       "      <td>0</td>\n",
       "      <td>0</td>\n",
       "      <td>1</td>\n",
       "      <td>1</td>\n",
       "      <td>0</td>\n",
       "      <td>0</td>\n",
       "      <td>0</td>\n",
       "      <td>1</td>\n",
       "      <td>0</td>\n",
       "      <td>1</td>\n",
       "    </tr>\n",
       "    <tr>\n",
       "      <th>2</th>\n",
       "      <td>37</td>\n",
       "      <td>130</td>\n",
       "      <td>283</td>\n",
       "      <td>0</td>\n",
       "      <td>98</td>\n",
       "      <td>0</td>\n",
       "      <td>0.0</td>\n",
       "      <td>1</td>\n",
       "      <td>0</td>\n",
       "      <td>1</td>\n",
       "      <td>0</td>\n",
       "      <td>0</td>\n",
       "      <td>0</td>\n",
       "      <td>0</td>\n",
       "      <td>1</td>\n",
       "      <td>0</td>\n",
       "      <td>1</td>\n",
       "      <td>0</td>\n",
       "      <td>0</td>\n",
       "      <td>0</td>\n",
       "    </tr>\n",
       "    <tr>\n",
       "      <th>3</th>\n",
       "      <td>48</td>\n",
       "      <td>138</td>\n",
       "      <td>214</td>\n",
       "      <td>0</td>\n",
       "      <td>108</td>\n",
       "      <td>1</td>\n",
       "      <td>1.5</td>\n",
       "      <td>0</td>\n",
       "      <td>1</td>\n",
       "      <td>0</td>\n",
       "      <td>0</td>\n",
       "      <td>1</td>\n",
       "      <td>0</td>\n",
       "      <td>1</td>\n",
       "      <td>0</td>\n",
       "      <td>0</td>\n",
       "      <td>0</td>\n",
       "      <td>1</td>\n",
       "      <td>0</td>\n",
       "      <td>1</td>\n",
       "    </tr>\n",
       "    <tr>\n",
       "      <th>4</th>\n",
       "      <td>54</td>\n",
       "      <td>150</td>\n",
       "      <td>195</td>\n",
       "      <td>0</td>\n",
       "      <td>122</td>\n",
       "      <td>0</td>\n",
       "      <td>0.0</td>\n",
       "      <td>1</td>\n",
       "      <td>0</td>\n",
       "      <td>0</td>\n",
       "      <td>0</td>\n",
       "      <td>0</td>\n",
       "      <td>1</td>\n",
       "      <td>1</td>\n",
       "      <td>0</td>\n",
       "      <td>0</td>\n",
       "      <td>1</td>\n",
       "      <td>0</td>\n",
       "      <td>0</td>\n",
       "      <td>0</td>\n",
       "    </tr>\n",
       "    <tr>\n",
       "      <th>...</th>\n",
       "      <td>...</td>\n",
       "      <td>...</td>\n",
       "      <td>...</td>\n",
       "      <td>...</td>\n",
       "      <td>...</td>\n",
       "      <td>...</td>\n",
       "      <td>...</td>\n",
       "      <td>...</td>\n",
       "      <td>...</td>\n",
       "      <td>...</td>\n",
       "      <td>...</td>\n",
       "      <td>...</td>\n",
       "      <td>...</td>\n",
       "      <td>...</td>\n",
       "      <td>...</td>\n",
       "      <td>...</td>\n",
       "      <td>...</td>\n",
       "      <td>...</td>\n",
       "      <td>...</td>\n",
       "      <td>...</td>\n",
       "    </tr>\n",
       "    <tr>\n",
       "      <th>913</th>\n",
       "      <td>45</td>\n",
       "      <td>110</td>\n",
       "      <td>264</td>\n",
       "      <td>0</td>\n",
       "      <td>132</td>\n",
       "      <td>0</td>\n",
       "      <td>1.2</td>\n",
       "      <td>1</td>\n",
       "      <td>0</td>\n",
       "      <td>0</td>\n",
       "      <td>1</td>\n",
       "      <td>0</td>\n",
       "      <td>0</td>\n",
       "      <td>1</td>\n",
       "      <td>0</td>\n",
       "      <td>0</td>\n",
       "      <td>0</td>\n",
       "      <td>1</td>\n",
       "      <td>0</td>\n",
       "      <td>1</td>\n",
       "    </tr>\n",
       "    <tr>\n",
       "      <th>914</th>\n",
       "      <td>68</td>\n",
       "      <td>144</td>\n",
       "      <td>193</td>\n",
       "      <td>1</td>\n",
       "      <td>141</td>\n",
       "      <td>0</td>\n",
       "      <td>3.4</td>\n",
       "      <td>1</td>\n",
       "      <td>0</td>\n",
       "      <td>0</td>\n",
       "      <td>0</td>\n",
       "      <td>1</td>\n",
       "      <td>0</td>\n",
       "      <td>1</td>\n",
       "      <td>0</td>\n",
       "      <td>0</td>\n",
       "      <td>0</td>\n",
       "      <td>1</td>\n",
       "      <td>0</td>\n",
       "      <td>1</td>\n",
       "    </tr>\n",
       "    <tr>\n",
       "      <th>915</th>\n",
       "      <td>57</td>\n",
       "      <td>130</td>\n",
       "      <td>131</td>\n",
       "      <td>0</td>\n",
       "      <td>115</td>\n",
       "      <td>1</td>\n",
       "      <td>1.2</td>\n",
       "      <td>1</td>\n",
       "      <td>0</td>\n",
       "      <td>0</td>\n",
       "      <td>0</td>\n",
       "      <td>1</td>\n",
       "      <td>0</td>\n",
       "      <td>1</td>\n",
       "      <td>0</td>\n",
       "      <td>0</td>\n",
       "      <td>0</td>\n",
       "      <td>1</td>\n",
       "      <td>0</td>\n",
       "      <td>1</td>\n",
       "    </tr>\n",
       "    <tr>\n",
       "      <th>916</th>\n",
       "      <td>57</td>\n",
       "      <td>130</td>\n",
       "      <td>236</td>\n",
       "      <td>0</td>\n",
       "      <td>174</td>\n",
       "      <td>0</td>\n",
       "      <td>0.0</td>\n",
       "      <td>0</td>\n",
       "      <td>1</td>\n",
       "      <td>1</td>\n",
       "      <td>0</td>\n",
       "      <td>0</td>\n",
       "      <td>0</td>\n",
       "      <td>0</td>\n",
       "      <td>0</td>\n",
       "      <td>1</td>\n",
       "      <td>0</td>\n",
       "      <td>1</td>\n",
       "      <td>0</td>\n",
       "      <td>1</td>\n",
       "    </tr>\n",
       "    <tr>\n",
       "      <th>917</th>\n",
       "      <td>38</td>\n",
       "      <td>138</td>\n",
       "      <td>175</td>\n",
       "      <td>0</td>\n",
       "      <td>173</td>\n",
       "      <td>0</td>\n",
       "      <td>0.0</td>\n",
       "      <td>1</td>\n",
       "      <td>0</td>\n",
       "      <td>0</td>\n",
       "      <td>0</td>\n",
       "      <td>0</td>\n",
       "      <td>1</td>\n",
       "      <td>1</td>\n",
       "      <td>0</td>\n",
       "      <td>0</td>\n",
       "      <td>1</td>\n",
       "      <td>0</td>\n",
       "      <td>0</td>\n",
       "      <td>0</td>\n",
       "    </tr>\n",
       "  </tbody>\n",
       "</table>\n",
       "<p>918 rows × 20 columns</p>\n",
       "</div>"
      ],
      "text/plain": [
       "     Age  RestingBP  Cholesterol  FastingBS  MaxHR ExerciseAngina  Oldpeak  \\\n",
       "0     40        140          289          0    172              0      0.0   \n",
       "1     49        160          180          0    156              0      1.0   \n",
       "2     37        130          283          0     98              0      0.0   \n",
       "3     48        138          214          0    108              1      1.5   \n",
       "4     54        150          195          0    122              0      0.0   \n",
       "..   ...        ...          ...        ...    ...            ...      ...   \n",
       "913   45        110          264          0    132              0      1.2   \n",
       "914   68        144          193          1    141              0      3.4   \n",
       "915   57        130          131          0    115              1      1.2   \n",
       "916   57        130          236          0    174              0      0.0   \n",
       "917   38        138          175          0    173              0      0.0   \n",
       "\n",
       "    Male Female ATA TA ASY NAP Normal ST LVH Up Flat Down  HeartDisease  \n",
       "0      1      0   1  0   0   0      1  0   0  1    0    0             0  \n",
       "1      0      1   0  0   0   1      1  0   0  0    1    0             1  \n",
       "2      1      0   1  0   0   0      0  1   0  1    0    0             0  \n",
       "3      0      1   0  0   1   0      1  0   0  0    1    0             1  \n",
       "4      1      0   0  0   0   1      1  0   0  1    0    0             0  \n",
       "..   ...    ...  .. ..  ..  ..    ... ..  .. ..  ...  ...           ...  \n",
       "913    1      0   0  1   0   0      1  0   0  0    1    0             1  \n",
       "914    1      0   0  0   1   0      1  0   0  0    1    0             1  \n",
       "915    1      0   0  0   1   0      1  0   0  0    1    0             1  \n",
       "916    0      1   1  0   0   0      0  0   1  0    1    0             1  \n",
       "917    1      0   0  0   0   1      1  0   0  1    0    0             0  \n",
       "\n",
       "[918 rows x 20 columns]"
      ]
     },
     "execution_count": 49,
     "metadata": {},
     "output_type": "execute_result"
    }
   ],
   "source": [
    "hot_encoded_df = df.copy()\n",
    "\n",
    "gender_column = df[[\"Sex\"]]\n",
    "\n",
    "hot_encoded_df['Male'] = gender_column\n",
    "hot_encoded_df['Female'] = gender_column\n",
    "\n",
    "hot_encoded_df = hot_encoded_df.drop('Sex', 1)\n",
    "\n",
    "chest_pain_type_column = df[[\"ChestPainType\"]]\n",
    "hot_encoded_df['ATA'] = chest_pain_type_column\n",
    "hot_encoded_df['TA'] = chest_pain_type_column\n",
    "hot_encoded_df['ASY'] = chest_pain_type_column\n",
    "hot_encoded_df['NAP'] = chest_pain_type_column\n",
    "hot_encoded_df = hot_encoded_df.drop('ChestPainType', 1)\n",
    "\n",
    "resting_ECG_column = df[[\"RestingECG\"]]\n",
    "hot_encoded_df['Normal'] = resting_ECG_column\n",
    "hot_encoded_df['ST'] = resting_ECG_column\n",
    "hot_encoded_df['LVH'] = resting_ECG_column\n",
    "hot_encoded_df = hot_encoded_df.drop('RestingECG', 1)\n",
    "\n",
    "ST_slope_column = df[[\"ST_Slope\"]]\n",
    "\n",
    "hot_encoded_df['Up'] = ST_slope_column\n",
    "hot_encoded_df['Flat'] = ST_slope_column\n",
    "hot_encoded_df['Down'] = ST_slope_column\n",
    "\n",
    "hot_encoded_df = hot_encoded_df.drop('ST_Slope', 1)\n",
    "\n",
    "hot_encoded_df['Male'] = hot_encoded_df['Male'].replace(['M'], '1')\n",
    "hot_encoded_df['Male'] = hot_encoded_df['Male'].replace(['F'], '0')\n",
    "\n",
    "hot_encoded_df['Female'] = hot_encoded_df['Female'].replace(['M'], '0')\n",
    "hot_encoded_df['Female'] = hot_encoded_df['Female'].replace(['F'], '1')\n",
    "\n",
    "hot_encoded_df['ATA'] = hot_encoded_df['ATA'].replace(['ATA'], '1')\n",
    "hot_encoded_df['ATA'] = hot_encoded_df['ATA'].replace(['TA'], '0')\n",
    "hot_encoded_df['ATA'] = hot_encoded_df['ATA'].replace(['ASY'], '0')\n",
    "hot_encoded_df['ATA'] = hot_encoded_df['ATA'].replace(['NAP'], '0')\n",
    "\n",
    "hot_encoded_df['TA'] = hot_encoded_df['TA'].replace(['ATA'], '0')\n",
    "hot_encoded_df['TA'] = hot_encoded_df['TA'].replace(['TA'], '1')\n",
    "hot_encoded_df['TA'] = hot_encoded_df['TA'].replace(['ASY'], '0')\n",
    "hot_encoded_df['TA'] = hot_encoded_df['TA'].replace(['NAP'], '0')\n",
    "\n",
    "hot_encoded_df['ASY'] = hot_encoded_df['ASY'].replace(['ATA'], '0')\n",
    "hot_encoded_df['ASY'] = hot_encoded_df['ASY'].replace(['TA'], '0')\n",
    "hot_encoded_df['ASY'] = hot_encoded_df['ASY'].replace(['ASY'], '1')\n",
    "hot_encoded_df['ASY'] = hot_encoded_df['ASY'].replace(['NAP'], '0')\n",
    "\n",
    "hot_encoded_df['NAP'] = hot_encoded_df['NAP'].replace(['ATA'], '0')\n",
    "hot_encoded_df['NAP'] = hot_encoded_df['NAP'].replace(['TA'], '0')\n",
    "hot_encoded_df['NAP'] = hot_encoded_df['NAP'].replace(['ASY'], '0')\n",
    "hot_encoded_df['NAP'] = hot_encoded_df['NAP'].replace(['NAP'], '1')\n",
    "\n",
    "hot_encoded_df['Normal'] = hot_encoded_df['Normal'].replace(['Normal'], '1')\n",
    "hot_encoded_df['Normal'] = hot_encoded_df['Normal'].replace(['ST'], '0')\n",
    "hot_encoded_df['Normal'] = hot_encoded_df['Normal'].replace(['LVH'], '0')\n",
    "\n",
    "hot_encoded_df['ST'] = hot_encoded_df['ST'].replace(['Normal'], '0')\n",
    "hot_encoded_df['ST'] = hot_encoded_df['ST'].replace(['ST'], '1')\n",
    "hot_encoded_df['ST'] = hot_encoded_df['ST'].replace(['LVH'], '0')\n",
    "\n",
    "hot_encoded_df['LVH'] = hot_encoded_df['LVH'].replace(['Normal'], '0')\n",
    "hot_encoded_df['LVH'] = hot_encoded_df['LVH'].replace(['ST'], '0')\n",
    "hot_encoded_df['LVH'] = hot_encoded_df['LVH'].replace(['LVH'], '1')\n",
    "\n",
    "hot_encoded_df['Up'] = hot_encoded_df['Up'].replace(['Up'], '1')\n",
    "hot_encoded_df['Up'] = hot_encoded_df['Up'].replace(['Flat'], '0')\n",
    "hot_encoded_df['Up'] = hot_encoded_df['Up'].replace(['Down'], '0')\n",
    "\n",
    "hot_encoded_df['Flat'] = hot_encoded_df['Flat'].replace(['Up'], '0')\n",
    "hot_encoded_df['Flat'] = hot_encoded_df['Flat'].replace(['Flat'], '1')\n",
    "hot_encoded_df['Flat'] = hot_encoded_df['Flat'].replace(['Down'], '0')\n",
    "\n",
    "hot_encoded_df['Down'] = hot_encoded_df['Down'].replace(['Up'], '0')\n",
    "hot_encoded_df['Down'] = hot_encoded_df['Down'].replace(['Flat'], '0')\n",
    "hot_encoded_df['Down'] = hot_encoded_df['Down'].replace(['Down'], '1')\n",
    "\n",
    "hot_encoded_df['ExerciseAngina'] = hot_encoded_df['ExerciseAngina'].replace(['Y'], '1')\n",
    "hot_encoded_df['ExerciseAngina'] = hot_encoded_df['ExerciseAngina'].replace(['N'], '0')\n",
    "\n",
    "heart_disease_column = hot_encoded_df.pop('HeartDisease')\n",
    "hot_encoded_df.insert(19, 'HeartDisease', heart_disease_column);\n",
    "\n",
    "hot_encoded_df"
   ]
  },
  {
   "cell_type": "markdown",
   "metadata": {},
   "source": [
    "# Scale Data:"
   ]
  },
  {
   "cell_type": "code",
   "execution_count": 50,
   "metadata": {},
   "outputs": [],
   "source": [
    "feature_cols = ['Age', 'Male', 'Female', 'ATA', 'ASY', 'TA', 'NAP', 'RestingBP', 'Cholesterol', 'FastingBS', 'Normal', 'ST','LVH', 'MaxHR', 'ExerciseAngina', 'Oldpeak', 'Up','Flat','Down']\n",
    "\n",
    "X = hot_encoded_df[feature_cols]\n",
    "\n",
    "scaler = StandardScaler()\n",
    "scaler.fit(X.values)\n",
    "heart_disease_df_scale = scaler.transform(X.values)\n",
    "df_scale = pd.DataFrame(heart_disease_df_scale, columns=X.columns)\n",
    "df_scale.insert(19, 'HeartDisease', heart_disease_column);"
   ]
  },
  {
   "cell_type": "markdown",
   "metadata": {},
   "source": [
    "# K-Nearest Neighbor"
   ]
  },
  {
   "cell_type": "code",
   "execution_count": 51,
   "metadata": {},
   "outputs": [
    {
     "data": {
      "text/html": [
       "<div>\n",
       "<style scoped>\n",
       "    .dataframe tbody tr th:only-of-type {\n",
       "        vertical-align: middle;\n",
       "    }\n",
       "\n",
       "    .dataframe tbody tr th {\n",
       "        vertical-align: top;\n",
       "    }\n",
       "\n",
       "    .dataframe thead th {\n",
       "        text-align: right;\n",
       "    }\n",
       "</style>\n",
       "<table border=\"1\" class=\"dataframe\">\n",
       "  <thead>\n",
       "    <tr style=\"text-align: right;\">\n",
       "      <th></th>\n",
       "      <th>Age</th>\n",
       "      <th>Male</th>\n",
       "      <th>Female</th>\n",
       "      <th>ATA</th>\n",
       "      <th>ASY</th>\n",
       "      <th>TA</th>\n",
       "      <th>NAP</th>\n",
       "      <th>RestingBP</th>\n",
       "      <th>Cholesterol</th>\n",
       "      <th>FastingBS</th>\n",
       "      <th>Normal</th>\n",
       "      <th>ST</th>\n",
       "      <th>LVH</th>\n",
       "      <th>MaxHR</th>\n",
       "      <th>ExerciseAngina</th>\n",
       "      <th>Oldpeak</th>\n",
       "      <th>Up</th>\n",
       "      <th>Flat</th>\n",
       "      <th>Down</th>\n",
       "      <th>HeartDisease</th>\n",
       "    </tr>\n",
       "  </thead>\n",
       "  <tbody>\n",
       "    <tr>\n",
       "      <th>0</th>\n",
       "      <td>-1.433140</td>\n",
       "      <td>0.515952</td>\n",
       "      <td>-0.515952</td>\n",
       "      <td>2.075177</td>\n",
       "      <td>-1.084138</td>\n",
       "      <td>-0.229679</td>\n",
       "      <td>-0.532838</td>\n",
       "      <td>0.410909</td>\n",
       "      <td>0.825070</td>\n",
       "      <td>-0.551341</td>\n",
       "      <td>0.814275</td>\n",
       "      <td>-0.490449</td>\n",
       "      <td>-0.507478</td>\n",
       "      <td>1.382928</td>\n",
       "      <td>-0.823556</td>\n",
       "      <td>-0.832432</td>\n",
       "      <td>1.150674</td>\n",
       "      <td>-1.002181</td>\n",
       "      <td>-0.271448</td>\n",
       "      <td>0</td>\n",
       "    </tr>\n",
       "    <tr>\n",
       "      <th>1</th>\n",
       "      <td>-0.478484</td>\n",
       "      <td>-1.938163</td>\n",
       "      <td>1.938163</td>\n",
       "      <td>-0.481887</td>\n",
       "      <td>-1.084138</td>\n",
       "      <td>-0.229679</td>\n",
       "      <td>1.876744</td>\n",
       "      <td>1.491752</td>\n",
       "      <td>-0.171961</td>\n",
       "      <td>-0.551341</td>\n",
       "      <td>0.814275</td>\n",
       "      <td>-0.490449</td>\n",
       "      <td>-0.507478</td>\n",
       "      <td>0.754157</td>\n",
       "      <td>-0.823556</td>\n",
       "      <td>0.105664</td>\n",
       "      <td>-0.869056</td>\n",
       "      <td>0.997824</td>\n",
       "      <td>-0.271448</td>\n",
       "      <td>1</td>\n",
       "    </tr>\n",
       "    <tr>\n",
       "      <th>2</th>\n",
       "      <td>-1.751359</td>\n",
       "      <td>0.515952</td>\n",
       "      <td>-0.515952</td>\n",
       "      <td>2.075177</td>\n",
       "      <td>-1.084138</td>\n",
       "      <td>-0.229679</td>\n",
       "      <td>-0.532838</td>\n",
       "      <td>-0.129513</td>\n",
       "      <td>0.770188</td>\n",
       "      <td>-0.551341</td>\n",
       "      <td>-1.228087</td>\n",
       "      <td>2.038947</td>\n",
       "      <td>-0.507478</td>\n",
       "      <td>-1.525138</td>\n",
       "      <td>-0.823556</td>\n",
       "      <td>-0.832432</td>\n",
       "      <td>1.150674</td>\n",
       "      <td>-1.002181</td>\n",
       "      <td>-0.271448</td>\n",
       "      <td>0</td>\n",
       "    </tr>\n",
       "    <tr>\n",
       "      <th>3</th>\n",
       "      <td>-0.584556</td>\n",
       "      <td>-1.938163</td>\n",
       "      <td>1.938163</td>\n",
       "      <td>-0.481887</td>\n",
       "      <td>0.922392</td>\n",
       "      <td>-0.229679</td>\n",
       "      <td>-0.532838</td>\n",
       "      <td>0.302825</td>\n",
       "      <td>0.139040</td>\n",
       "      <td>-0.551341</td>\n",
       "      <td>0.814275</td>\n",
       "      <td>-0.490449</td>\n",
       "      <td>-0.507478</td>\n",
       "      <td>-1.132156</td>\n",
       "      <td>1.214246</td>\n",
       "      <td>0.574711</td>\n",
       "      <td>-0.869056</td>\n",
       "      <td>0.997824</td>\n",
       "      <td>-0.271448</td>\n",
       "      <td>1</td>\n",
       "    </tr>\n",
       "    <tr>\n",
       "      <th>4</th>\n",
       "      <td>0.051881</td>\n",
       "      <td>0.515952</td>\n",
       "      <td>-0.515952</td>\n",
       "      <td>-0.481887</td>\n",
       "      <td>-1.084138</td>\n",
       "      <td>-0.229679</td>\n",
       "      <td>1.876744</td>\n",
       "      <td>0.951331</td>\n",
       "      <td>-0.034755</td>\n",
       "      <td>-0.551341</td>\n",
       "      <td>0.814275</td>\n",
       "      <td>-0.490449</td>\n",
       "      <td>-0.507478</td>\n",
       "      <td>-0.581981</td>\n",
       "      <td>-0.823556</td>\n",
       "      <td>-0.832432</td>\n",
       "      <td>1.150674</td>\n",
       "      <td>-1.002181</td>\n",
       "      <td>-0.271448</td>\n",
       "      <td>0</td>\n",
       "    </tr>\n",
       "  </tbody>\n",
       "</table>\n",
       "</div>"
      ],
      "text/plain": [
       "        Age      Male    Female       ATA       ASY        TA       NAP  \\\n",
       "0 -1.433140  0.515952 -0.515952  2.075177 -1.084138 -0.229679 -0.532838   \n",
       "1 -0.478484 -1.938163  1.938163 -0.481887 -1.084138 -0.229679  1.876744   \n",
       "2 -1.751359  0.515952 -0.515952  2.075177 -1.084138 -0.229679 -0.532838   \n",
       "3 -0.584556 -1.938163  1.938163 -0.481887  0.922392 -0.229679 -0.532838   \n",
       "4  0.051881  0.515952 -0.515952 -0.481887 -1.084138 -0.229679  1.876744   \n",
       "\n",
       "   RestingBP  Cholesterol  FastingBS    Normal        ST       LVH     MaxHR  \\\n",
       "0   0.410909     0.825070  -0.551341  0.814275 -0.490449 -0.507478  1.382928   \n",
       "1   1.491752    -0.171961  -0.551341  0.814275 -0.490449 -0.507478  0.754157   \n",
       "2  -0.129513     0.770188  -0.551341 -1.228087  2.038947 -0.507478 -1.525138   \n",
       "3   0.302825     0.139040  -0.551341  0.814275 -0.490449 -0.507478 -1.132156   \n",
       "4   0.951331    -0.034755  -0.551341  0.814275 -0.490449 -0.507478 -0.581981   \n",
       "\n",
       "   ExerciseAngina   Oldpeak        Up      Flat      Down  HeartDisease  \n",
       "0       -0.823556 -0.832432  1.150674 -1.002181 -0.271448             0  \n",
       "1       -0.823556  0.105664 -0.869056  0.997824 -0.271448             1  \n",
       "2       -0.823556 -0.832432  1.150674 -1.002181 -0.271448             0  \n",
       "3        1.214246  0.574711 -0.869056  0.997824 -0.271448             1  \n",
       "4       -0.823556 -0.832432  1.150674 -1.002181 -0.271448             0  "
      ]
     },
     "execution_count": 51,
     "metadata": {},
     "output_type": "execute_result"
    }
   ],
   "source": [
    "X = df_scale[feature_cols]\n",
    "y = df['HeartDisease']\n",
    "X_train, X_test, y_train, y_test = train_test_split(X, y, test_size=0.25, random_state=3)\n",
    "df_scale.head()"
   ]
  },
  {
   "cell_type": "code",
   "execution_count": 52,
   "metadata": {},
   "outputs": [],
   "source": [
    "# Create a new data frame\n",
    "\n",
    "df_he = hot_encoded_df"
   ]
  },
  {
   "cell_type": "code",
   "execution_count": 53,
   "metadata": {},
   "outputs": [],
   "source": [
    "# Create our test data\n",
    "\n",
    "X_all_train, X_all_test, y_train, y_test = train_test_split(X, y, test_size = 0.25, random_state = 5)"
   ]
  },
  {
   "cell_type": "code",
   "execution_count": 54,
   "metadata": {},
   "outputs": [],
   "source": [
    "# Instaniate our Nearest Neighbor Classifier with k = 3\n",
    "\n",
    "k = 3\n",
    "my_knn_3 = KNeighborsClassifier(n_neighbors = k)"
   ]
  },
  {
   "cell_type": "code",
   "execution_count": 55,
   "metadata": {},
   "outputs": [
    {
     "data": {
      "text/plain": [
       "KNeighborsClassifier(n_neighbors=3)"
      ]
     },
     "execution_count": 55,
     "metadata": {},
     "output_type": "execute_result"
    }
   ],
   "source": [
    "# Train our machine\n",
    "\n",
    "my_knn_3.fit(X_all_train, y_train)"
   ]
  },
  {
   "cell_type": "code",
   "execution_count": 56,
   "metadata": {},
   "outputs": [],
   "source": [
    "# Predict the value\n",
    "\n",
    "y_predict = my_knn_3.predict(X_all_test)"
   ]
  },
  {
   "cell_type": "code",
   "execution_count": 57,
   "metadata": {},
   "outputs": [
    {
     "name": "stdout",
     "output_type": "stream",
     "text": [
      "0.8565217391304348\n"
     ]
    }
   ],
   "source": [
    "# Check the predicted value versus actual\n",
    "\n",
    "accuracy = accuracy_score(y_test, y_predict)\n",
    "print(accuracy)"
   ]
  },
  {
   "cell_type": "code",
   "execution_count": 58,
   "metadata": {},
   "outputs": [
    {
     "name": "stdout",
     "output_type": "stream",
     "text": [
      "[0.808695652173913, 0.8565217391304348, 0.8652173913043478, 0.8608695652173913, 0.8956521739130435, 0.8869565217391304, 0.8869565217391304, 0.8782608695652174, 0.8739130434782608, 0.8608695652173913]\n"
     ]
    }
   ],
   "source": [
    "# Trying different k-values\n",
    "\n",
    "klist = [1,3,5,7,11,13,15,16,17,19]\n",
    "acclist = []\n",
    "\n",
    "for k in klist:\n",
    "    knn_i = KNeighborsClassifier(n_neighbors = k)\n",
    "    knn_i.fit(X_all_train,y_train)\n",
    "    y_predict = knn_i.predict(X_all_test)\n",
    "    accuracy = accuracy_score(y_test, y_predict)\n",
    "    acclist.append(accuracy)\n",
    "\n",
    "print(acclist)"
   ]
  },
  {
   "cell_type": "markdown",
   "metadata": {},
   "source": [
    "# Results\n",
    "\n",
    "We can see that for k = 11 we get an accuracy of 89.56% which is greater than 85.653% when k = 3.\n",
    "Therefore going ahead we will use k = 11 to test which features are the best features."
   ]
  },
  {
   "cell_type": "markdown",
   "metadata": {},
   "source": [
    "## Using the best k(k = 11) from klist to check which feature is the best feature."
   ]
  },
  {
   "cell_type": "code",
   "execution_count": 59,
   "metadata": {},
   "outputs": [
    {
     "name": "stdout",
     "output_type": "stream",
     "text": [
      "0.6217391304347826\n"
     ]
    }
   ],
   "source": [
    "feature_cols = ['Age']\n",
    "X = df_he[feature_cols]\n",
    "X_train, X_test, y_train, y_test = train_test_split(X, y, test_size = 0.25, random_state = 5)\n",
    "k = 11\n",
    "knn_3 = KNeighborsClassifier(n_neighbors = k)\n",
    "knn_3.fit(X_train, y_train)\n",
    "y_predict = knn_3.predict(X_test)\n",
    "accuracy = accuracy_score(y_test, y_predict)\n",
    "print(accuracy)\n",
    "acclist1 = [19]\n",
    "acclist1.append(accuracy)"
   ]
  },
  {
   "cell_type": "code",
   "execution_count": 60,
   "metadata": {},
   "outputs": [
    {
     "name": "stdout",
     "output_type": "stream",
     "text": [
      "0.7\n"
     ]
    }
   ],
   "source": [
    "feature_cols = ['Male']\n",
    "X = df_he[feature_cols]\n",
    "X_train, X_test, y_train, y_test = train_test_split(X, y, test_size = 0.25, random_state = 5)\n",
    "k = 11\n",
    "knn_3 = KNeighborsClassifier(n_neighbors = k)\n",
    "knn_3.fit(X_train, y_train)\n",
    "y_predict = knn_3.predict(X_test)\n",
    "accuracy = accuracy_score(y_test, y_predict)\n",
    "print(accuracy)\n",
    "acclist1.append(accuracy)"
   ]
  },
  {
   "cell_type": "code",
   "execution_count": 61,
   "metadata": {},
   "outputs": [
    {
     "name": "stdout",
     "output_type": "stream",
     "text": [
      "0.7\n"
     ]
    }
   ],
   "source": [
    "feature_cols = ['Female']\n",
    "X = df_he[feature_cols]\n",
    "X_train, X_test, y_train, y_test = train_test_split(X, y, test_size = 0.25, random_state = 5)\n",
    "k = 11\n",
    "knn_3 = KNeighborsClassifier(n_neighbors = k)\n",
    "knn_3.fit(X_train, y_train)\n",
    "y_predict = knn_3.predict(X_test)\n",
    "accuracy = accuracy_score(y_test, y_predict)\n",
    "print(accuracy)\n",
    "acclist1.append(accuracy)"
   ]
  },
  {
   "cell_type": "code",
   "execution_count": 62,
   "metadata": {},
   "outputs": [
    {
     "name": "stdout",
     "output_type": "stream",
     "text": [
      "0.7\n"
     ]
    }
   ],
   "source": [
    "feature_cols = ['ATA']\n",
    "X = df_he[feature_cols]\n",
    "X_train, X_test, y_train, y_test = train_test_split(X, y, test_size = 0.25, random_state = 5)\n",
    "k = 11\n",
    "knn_3 = KNeighborsClassifier(n_neighbors = k)\n",
    "knn_3.fit(X_train, y_train)\n",
    "y_predict = knn_3.predict(X_test)\n",
    "accuracy = accuracy_score(y_test, y_predict)\n",
    "print(accuracy)\n",
    "acclist1.append(accuracy)"
   ]
  },
  {
   "cell_type": "code",
   "execution_count": 63,
   "metadata": {},
   "outputs": [
    {
     "name": "stdout",
     "output_type": "stream",
     "text": [
      "0.7608695652173914\n"
     ]
    }
   ],
   "source": [
    "feature_cols = ['ASY']\n",
    "X = df_he[feature_cols]\n",
    "X_train, X_test, y_train, y_test = train_test_split(X, y, test_size = 0.25, random_state = 5)\n",
    "k = 11\n",
    "knn_3 = KNeighborsClassifier(n_neighbors = k)\n",
    "knn_3.fit(X_train, y_train)\n",
    "y_predict = knn_3.predict(X_test)\n",
    "accuracy = accuracy_score(y_test, y_predict)\n",
    "print(accuracy)\n",
    "acclist1.append(accuracy)"
   ]
  },
  {
   "cell_type": "code",
   "execution_count": 64,
   "metadata": {},
   "outputs": [
    {
     "name": "stdout",
     "output_type": "stream",
     "text": [
      "0.5608695652173913\n"
     ]
    }
   ],
   "source": [
    "feature_cols = ['TA']\n",
    "X = df_he[feature_cols]\n",
    "X_train, X_test, y_train, y_test = train_test_split(X, y, test_size = 0.25, random_state = 5)\n",
    "k = 11\n",
    "knn_3 = KNeighborsClassifier(n_neighbors = k)\n",
    "knn_3.fit(X_train, y_train)\n",
    "y_predict = knn_3.predict(X_test)\n",
    "accuracy = accuracy_score(y_test, y_predict)\n",
    "print(accuracy)\n",
    "acclist1.append(accuracy)"
   ]
  },
  {
   "cell_type": "code",
   "execution_count": 65,
   "metadata": {},
   "outputs": [
    {
     "name": "stdout",
     "output_type": "stream",
     "text": [
      "0.6565217391304348\n"
     ]
    }
   ],
   "source": [
    "feature_cols = ['NAP']\n",
    "X = df_he[feature_cols]\n",
    "X_train, X_test, y_train, y_test = train_test_split(X, y, test_size = 0.25, random_state = 5)\n",
    "k = 11\n",
    "knn_3 = KNeighborsClassifier(n_neighbors = k)\n",
    "knn_3.fit(X_train, y_train)\n",
    "y_predict = knn_3.predict(X_test)\n",
    "accuracy = accuracy_score(y_test, y_predict)\n",
    "print(accuracy)\n",
    "acclist1.append(accuracy)"
   ]
  },
  {
   "cell_type": "code",
   "execution_count": 66,
   "metadata": {},
   "outputs": [
    {
     "name": "stdout",
     "output_type": "stream",
     "text": [
      "0.5478260869565217\n"
     ]
    }
   ],
   "source": [
    "feature_cols = ['RestingBP']\n",
    "X = df_he[feature_cols]\n",
    "X_train, X_test, y_train, y_test = train_test_split(X, y, test_size = 0.25, random_state = 5)\n",
    "k = 11\n",
    "knn_3 = KNeighborsClassifier(n_neighbors = k)\n",
    "knn_3.fit(X_train, y_train)\n",
    "y_predict = knn_3.predict(X_test)\n",
    "accuracy = accuracy_score(y_test, y_predict)\n",
    "print(accuracy)\n",
    "acclist1.append(accuracy)"
   ]
  },
  {
   "cell_type": "code",
   "execution_count": 67,
   "metadata": {},
   "outputs": [
    {
     "name": "stdout",
     "output_type": "stream",
     "text": [
      "0.5739130434782609\n"
     ]
    }
   ],
   "source": [
    "feature_cols = ['Cholesterol']\n",
    "X = df_he[feature_cols]\n",
    "X_train, X_test, y_train, y_test = train_test_split(X, y, test_size = 0.25, random_state = 5)\n",
    "k = 11\n",
    "knn_3 = KNeighborsClassifier(n_neighbors = k)\n",
    "knn_3.fit(X_train, y_train)\n",
    "y_predict = knn_3.predict(X_test)\n",
    "accuracy = accuracy_score(y_test, y_predict)\n",
    "print(accuracy)\n",
    "acclist1 = []\n",
    "acclist1.append(accuracy)"
   ]
  },
  {
   "cell_type": "code",
   "execution_count": 68,
   "metadata": {},
   "outputs": [
    {
     "name": "stdout",
     "output_type": "stream",
     "text": [
      "0.6043478260869565\n"
     ]
    }
   ],
   "source": [
    "feature_cols = ['FastingBS']\n",
    "X = df_he[feature_cols]\n",
    "X_train, X_test, y_train, y_test = train_test_split(X, y, test_size = 0.25, random_state = 5)\n",
    "k = 11\n",
    "knn_3 = KNeighborsClassifier(n_neighbors = k)\n",
    "knn_3.fit(X_train, y_train)\n",
    "y_predict = knn_3.predict(X_test)\n",
    "accuracy = accuracy_score(y_test, y_predict)\n",
    "print(accuracy)\n",
    "acclist1.append(accuracy)"
   ]
  },
  {
   "cell_type": "code",
   "execution_count": 69,
   "metadata": {},
   "outputs": [
    {
     "name": "stdout",
     "output_type": "stream",
     "text": [
      "0.5782608695652174\n"
     ]
    }
   ],
   "source": [
    "feature_cols = ['Normal']\n",
    "X = df_he[feature_cols]\n",
    "X_train, X_test, y_train, y_test = train_test_split(X, y, test_size = 0.25, random_state = 5)\n",
    "k = 11\n",
    "knn_3 = KNeighborsClassifier(n_neighbors = k)\n",
    "knn_3.fit(X_train, y_train)\n",
    "y_predict = knn_3.predict(X_test)\n",
    "accuracy = accuracy_score(y_test, y_predict)\n",
    "print(accuracy)\n",
    "acclist1.append(accuracy)"
   ]
  },
  {
   "cell_type": "code",
   "execution_count": 70,
   "metadata": {},
   "outputs": [
    {
     "name": "stdout",
     "output_type": "stream",
     "text": [
      "0.5043478260869565\n"
     ]
    }
   ],
   "source": [
    "feature_cols = ['ST']\n",
    "X = df_he[feature_cols]\n",
    "X_train, X_test, y_train, y_test = train_test_split(X, y, test_size = 0.25, random_state = 5)\n",
    "k = 11\n",
    "knn_3 = KNeighborsClassifier(n_neighbors = k)\n",
    "knn_3.fit(X_train, y_train)\n",
    "y_predict = knn_3.predict(X_test)\n",
    "accuracy = accuracy_score(y_test, y_predict)\n",
    "print(accuracy)\n",
    "acclist1.append(accuracy)"
   ]
  },
  {
   "cell_type": "code",
   "execution_count": 71,
   "metadata": {},
   "outputs": [
    {
     "name": "stdout",
     "output_type": "stream",
     "text": [
      "0.5782608695652174\n"
     ]
    }
   ],
   "source": [
    "feature_cols = ['LVH']\n",
    "X = df_he[feature_cols]\n",
    "X_train, X_test, y_train, y_test = train_test_split(X, y, test_size = 0.25, random_state = 5)\n",
    "k = 11\n",
    "knn_3 = KNeighborsClassifier(n_neighbors = k)\n",
    "knn_3.fit(X_train, y_train)\n",
    "y_predict = knn_3.predict(X_test)\n",
    "accuracy = accuracy_score(y_test, y_predict)\n",
    "print(accuracy)\n",
    "acclist1.append(accuracy)"
   ]
  },
  {
   "cell_type": "code",
   "execution_count": 72,
   "metadata": {},
   "outputs": [
    {
     "name": "stdout",
     "output_type": "stream",
     "text": [
      "0.6652173913043479\n"
     ]
    }
   ],
   "source": [
    "feature_cols = ['MaxHR']\n",
    "X = df_he[feature_cols]\n",
    "X_train, X_test, y_train, y_test = train_test_split(X, y, test_size = 0.25, random_state = 5)\n",
    "k = 11\n",
    "knn_3 = KNeighborsClassifier(n_neighbors = k)\n",
    "knn_3.fit(X_train, y_train)\n",
    "y_predict = knn_3.predict(X_test)\n",
    "accuracy = accuracy_score(y_test, y_predict)\n",
    "print(accuracy)\n",
    "acclist1.append(accuracy)"
   ]
  },
  {
   "cell_type": "code",
   "execution_count": 73,
   "metadata": {},
   "outputs": [
    {
     "name": "stdout",
     "output_type": "stream",
     "text": [
      "0.7434782608695653\n"
     ]
    }
   ],
   "source": [
    "feature_cols = ['ExerciseAngina']\n",
    "X = df_he[feature_cols]\n",
    "X_train, X_test, y_train, y_test = train_test_split(X, y, test_size = 0.25, random_state = 5)\n",
    "k = 11\n",
    "knn_3 = KNeighborsClassifier(n_neighbors = k)\n",
    "knn_3.fit(X_train, y_train)\n",
    "y_predict = knn_3.predict(X_test)\n",
    "accuracy = accuracy_score(y_test, y_predict)\n",
    "print(accuracy)\n",
    "acclist1.append(accuracy)"
   ]
  },
  {
   "cell_type": "code",
   "execution_count": 74,
   "metadata": {},
   "outputs": [
    {
     "name": "stdout",
     "output_type": "stream",
     "text": [
      "0.6782608695652174\n"
     ]
    }
   ],
   "source": [
    "feature_cols = ['Oldpeak']\n",
    "X = df_he[feature_cols]\n",
    "X_train, X_test, y_train, y_test = train_test_split(X, y, test_size = 0.25, random_state = 5)\n",
    "k = 11\n",
    "knn_3 = KNeighborsClassifier(n_neighbors = k)\n",
    "knn_3.fit(X_train, y_train)\n",
    "y_predict = knn_3.predict(X_test)\n",
    "accuracy = accuracy_score(y_test, y_predict)\n",
    "print(accuracy)\n",
    "acclist1.append(accuracy)"
   ]
  },
  {
   "cell_type": "code",
   "execution_count": 75,
   "metadata": {},
   "outputs": [
    {
     "name": "stdout",
     "output_type": "stream",
     "text": [
      "0.8043478260869565\n"
     ]
    }
   ],
   "source": [
    "feature_cols = ['Up']\n",
    "X = df_he[feature_cols]\n",
    "X_train, X_test, y_train, y_test = train_test_split(X, y, test_size = 0.25, random_state = 5)\n",
    "k = 11\n",
    "knn_3 = KNeighborsClassifier(n_neighbors = k)\n",
    "knn_3.fit(X_train, y_train)\n",
    "y_predict = knn_3.predict(X_test)\n",
    "accuracy = accuracy_score(y_test, y_predict)\n",
    "print(accuracy)\n",
    "acclist1.append(accuracy)"
   ]
  },
  {
   "cell_type": "code",
   "execution_count": 76,
   "metadata": {},
   "outputs": [
    {
     "name": "stdout",
     "output_type": "stream",
     "text": [
      "0.7565217391304347\n"
     ]
    }
   ],
   "source": [
    "feature_cols = ['Flat']\n",
    "X = df_he[feature_cols]\n",
    "X_train, X_test, y_train, y_test = train_test_split(X, y, test_size = 0.25, random_state = 5)\n",
    "k = 11\n",
    "knn_3 = KNeighborsClassifier(n_neighbors = k)\n",
    "knn_3.fit(X_train, y_train)\n",
    "y_predict = knn_3.predict(X_test)\n",
    "accuracy = accuracy_score(y_test, y_predict)\n",
    "print(accuracy)\n",
    "acclist1.append(accuracy)"
   ]
  },
  {
   "cell_type": "code",
   "execution_count": 77,
   "metadata": {},
   "outputs": [
    {
     "name": "stdout",
     "output_type": "stream",
     "text": [
      "0.5782608695652174\n"
     ]
    }
   ],
   "source": [
    "feature_cols = ['Down']\n",
    "X = df_he[feature_cols]\n",
    "X_train, X_test, y_train, y_test = train_test_split(X, y, test_size = 0.25, random_state = 5)\n",
    "k = 11\n",
    "knn_3 = KNeighborsClassifier(n_neighbors = k)\n",
    "knn_3.fit(X_train, y_train)\n",
    "y_predict = knn_3.predict(X_test)\n",
    "accuracy = accuracy_score(y_test, y_predict)\n",
    "print(accuracy)\n",
    "acclist1.append(accuracy)"
   ]
  },
  {
   "cell_type": "markdown",
   "metadata": {},
   "source": [
    "## List the best features in order by accuracy:\n",
    "\n",
    "1st 'Up'\n",
    "\n",
    "2nd 'ASY'\n",
    "\n",
    "3rd 'Flat'\n",
    "\n",
    "4th 'ExerciseAngina'\n",
    "\n",
    "5th (tie) 'Male' & 'Female' & 'ATA'\n",
    "\n",
    "6th 'Oldpeak'\n",
    "\n",
    "7th 'MaxHR'\n",
    "\n",
    "8th 'NAP' \n",
    "\n",
    "9th 'Age'\n",
    "\n",
    "10th 'FastingBS'\n",
    "\n",
    "11th (tie) 'Normal' & 'LVH' & 'Down'\n",
    "\n",
    "12th 'Cholesterol' \n",
    "\n",
    "13th 'TA'\n",
    "\n",
    "14th 'RestingBP'\n",
    "\n",
    "15th 'ST'"
   ]
  },
  {
   "cell_type": "markdown",
   "metadata": {},
   "source": [
    "## Test the best combination of the top four features.\n",
    "\n",
    "Now we are going to test which combination of the best features gives us the highest accuracy."
   ]
  },
  {
   "cell_type": "code",
   "execution_count": 78,
   "metadata": {},
   "outputs": [],
   "source": [
    "feature_cols = ['Up','ASY']\n",
    "X = df_he[feature_cols]\n",
    "X_train, X_test, y_train, y_test = train_test_split(X, y, test_size = 0.25, random_state = 5)\n",
    "k = 11\n",
    "knn_3 = KNeighborsClassifier(n_neighbors = k)\n",
    "knn_3.fit(X_train, y_train)\n",
    "y_predict = knn_3.predict(X_test)\n",
    "accuracy = accuracy_score(y_test, y_predict)\n",
    "acclist2 = []\n",
    "acclist2.append(accuracy)"
   ]
  },
  {
   "cell_type": "code",
   "execution_count": 79,
   "metadata": {},
   "outputs": [],
   "source": [
    "feature_cols = ['Up','Flat']\n",
    "X = df_he[feature_cols]\n",
    "X_train, X_test, y_train, y_test = train_test_split(X, y, test_size = 0.25, random_state = 5)\n",
    "k = 11\n",
    "knn_3 = KNeighborsClassifier(n_neighbors = k)\n",
    "knn_3.fit(X_train, y_train)\n",
    "y_predict = knn_3.predict(X_test)\n",
    "accuracy = accuracy_score(y_test, y_predict)\n",
    "acclist2.append(accuracy)"
   ]
  },
  {
   "cell_type": "code",
   "execution_count": 80,
   "metadata": {},
   "outputs": [],
   "source": [
    "feature_cols = ['Up','ExerciseAngina']\n",
    "X = df_he[feature_cols]\n",
    "X_train, X_test, y_train, y_test = train_test_split(X, y, test_size = 0.25, random_state = 5)\n",
    "k = 11\n",
    "knn_3 = KNeighborsClassifier(n_neighbors = k)\n",
    "knn_3.fit(X_train, y_train)\n",
    "y_predict = knn_3.predict(X_test)\n",
    "accuracy = accuracy_score(y_test, y_predict)\n",
    "acclist2.append(accuracy)"
   ]
  },
  {
   "cell_type": "code",
   "execution_count": 81,
   "metadata": {},
   "outputs": [],
   "source": [
    "feature_cols = ['ASY','Flat']\n",
    "X = df_he[feature_cols]\n",
    "X_train, X_test, y_train, y_test = train_test_split(X, y, test_size = 0.25, random_state = 5)\n",
    "k = 11\n",
    "knn_3 = KNeighborsClassifier(n_neighbors = k)\n",
    "knn_3.fit(X_train, y_train)\n",
    "y_predict = knn_3.predict(X_test)\n",
    "accuracy = accuracy_score(y_test, y_predict)\n",
    "acclist2.append(accuracy)"
   ]
  },
  {
   "cell_type": "code",
   "execution_count": 82,
   "metadata": {},
   "outputs": [],
   "source": [
    "feature_cols = ['ASY','ExerciseAngina']\n",
    "X = df_he[feature_cols]\n",
    "X_train, X_test, y_train, y_test = train_test_split(X, y, test_size = 0.25, random_state = 5)\n",
    "k = 11\n",
    "knn_3 = KNeighborsClassifier(n_neighbors = k)\n",
    "knn_3.fit(X_train, y_train)\n",
    "y_predict = knn_3.predict(X_test)\n",
    "accuracy = accuracy_score(y_test, y_predict)\n",
    "acclist2.append(accuracy)"
   ]
  },
  {
   "cell_type": "code",
   "execution_count": 83,
   "metadata": {},
   "outputs": [],
   "source": [
    "feature_cols = ['Flat','ExerciseAngina']\n",
    "X = df_he[feature_cols]\n",
    "X_train, X_test, y_train, y_test = train_test_split(X, y, test_size = 0.25, random_state = 5)\n",
    "k = 11\n",
    "knn_3 = KNeighborsClassifier(n_neighbors = k)\n",
    "knn_3.fit(X_train, y_train)\n",
    "y_predict = knn_3.predict(X_test)\n",
    "accuracy = accuracy_score(y_test, y_predict)\n",
    "acclist2.append(accuracy)"
   ]
  },
  {
   "cell_type": "code",
   "execution_count": 84,
   "metadata": {},
   "outputs": [
    {
     "name": "stdout",
     "output_type": "stream",
     "text": [
      "[0.8043478260869565, 0.8043478260869565, 0.8130434782608695, 0.808695652173913, 0.808695652173913, 0.808695652173913]\n"
     ]
    }
   ],
   "source": [
    "print(acclist2)"
   ]
  },
  {
   "cell_type": "markdown",
   "metadata": {},
   "source": [
    "## 1st & 4th\n",
    "\n",
    "We can see that the first and fourth best features being the ST_Slope = 'Up' and ExerciseAngina gives us the best accuracy. "
   ]
  },
  {
   "cell_type": "markdown",
   "metadata": {},
   "source": [
    "## Predicting the probalbility & showing the performance"
   ]
  },
  {
   "cell_type": "code",
   "execution_count": 85,
   "metadata": {},
   "outputs": [
    {
     "data": {
      "text/plain": [
       "KNeighborsClassifier(n_neighbors=11)"
      ]
     },
     "execution_count": 85,
     "metadata": {},
     "output_type": "execute_result"
    }
   ],
   "source": [
    "# Instaniate our Nearest Neighbor Classifier with k = 11\n",
    "\n",
    "k = 11\n",
    "my_knn_11 = KNeighborsClassifier(n_neighbors = k)\n",
    "my_knn_11.fit(X_all_train, y_train)"
   ]
  },
  {
   "cell_type": "code",
   "execution_count": 86,
   "metadata": {},
   "outputs": [],
   "source": [
    "# Predict the Probability\n",
    "\n",
    "y_predict_proba_knn = my_knn_11.predict_proba(X_all_test)"
   ]
  },
  {
   "cell_type": "code",
   "execution_count": 87,
   "metadata": {},
   "outputs": [],
   "source": [
    "fpr, tpr, thresholds = metrics.roc_curve(y_test, y_predict_proba_knn[:,1], pos_label = 1)"
   ]
  },
  {
   "cell_type": "code",
   "execution_count": 88,
   "metadata": {},
   "outputs": [
    {
     "name": "stdout",
     "output_type": "stream",
     "text": [
      "0.9251608402449423\n"
     ]
    }
   ],
   "source": [
    "AUC = metrics.auc(fpr, tpr)\n",
    "print(AUC)"
   ]
  },
  {
   "cell_type": "code",
   "execution_count": 89,
   "metadata": {},
   "outputs": [
    {
     "data": {
      "image/png": "[encoded data removed]",
      "text/plain": [
       "<Figure size 432x288 with 1 Axes>"
      ]
     },
     "metadata": {
      "needs_background": "light"
     },
     "output_type": "display_data"
    }
   ],
   "source": [
    "# Show the ROC\n",
    "\n",
    "%matplotlib inline\n",
    "\n",
    "plt.figure()\n",
    "\n",
    "# Roc Curve:\n",
    "plt.plot(fpr, tpr, color='red', lw=2, \n",
    "         label='ROC Curve (area = %0.2f)' % AUC)\n",
    "\n",
    "# Random Guess line:\n",
    "plt.plot([0, 1], [0, 1], color='blue', lw=1, linestyle='--')\n",
    "\n",
    "# Defining The Range of X-Axis and Y-Axis:\n",
    "plt.xlim([-0.005, 1.005])\n",
    "plt.ylim([0.0, 1.01])\n",
    "\n",
    "# Labels, Title, Legend:\n",
    "plt.xlabel('False Positive Rate')\n",
    "plt.ylabel('True Positive Rate')\n",
    "plt.title('Receiver operating characteristic')\n",
    "plt.legend(loc = \"lower right\")\n",
    "\n",
    "plt.show()"
   ]
  },
  {
   "cell_type": "markdown",
   "metadata": {},
   "source": [
    "As shown thanks to the graph above we can see that nearest neighbor has only a preformance rate of 92.51%. Therefore we can only say its reliable almost 93% of the time."
   ]
  },
  {
   "cell_type": "code",
   "execution_count": null,
   "metadata": {},
   "outputs": [],
   "source": []
  }
 ],
 "metadata": {
  "interpreter": {
   "hash": "0ed06966b55709e884aa4ffbf8d20d071c2a1cfa7bda4b100a4546341033beb6"
  },
  "kernelspec": {
   "display_name": "Python 3.9.6 64-bit ('data-sc': conda)",
   "language": "python",
   "name": "python3"
  },
  "language_info": {
   "codemirror_mode": {
    "name": "ipython",
    "version": 3
   },
   "file_extension": ".py",
   "mimetype": "text/x-python",
   "name": "python",
   "nbconvert_exporter": "python",
   "pygments_lexer": "ipython3",
   "version": "3.9.6"
  },
  "orig_nbformat": 4
 },
 "nbformat": 4,
 "nbformat_minor": 2
}
