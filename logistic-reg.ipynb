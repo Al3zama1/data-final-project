{
 "cells": [
  {
   "cell_type": "code",
   "execution_count": 1235,
   "metadata": {},
   "outputs": [],
   "source": [
    "from sklearn.linear_model import LogisticRegression\n",
    "import pandas as pd\n",
    "import numpy as np\n",
    "from sklearn import metrics\n",
    "import matplotlib.pyplot as plt\n",
    "from sklearn.metrics import accuracy_score, roc_curve\n",
    "from sklearn.model_selection import train_test_split, cross_val_score\n",
    "from sklearn.preprocessing import StandardScaler"
   ]
  },
  {
   "cell_type": "markdown",
   "metadata": {},
   "source": [
    "# Logistic Regression"
   ]
  },
  {
   "cell_type": "markdown",
   "metadata": {},
   "source": [
    "# Fetch Data:"
   ]
  },
  {
   "cell_type": "code",
   "execution_count": 1236,
   "metadata": {},
   "outputs": [
    {
     "data": {
      "text/html": [
       "<div>\n",
       "<style scoped>\n",
       "    .dataframe tbody tr th:only-of-type {\n",
       "        vertical-align: middle;\n",
       "    }\n",
       "\n",
       "    .dataframe tbody tr th {\n",
       "        vertical-align: top;\n",
       "    }\n",
       "\n",
       "    .dataframe thead th {\n",
       "        text-align: right;\n",
       "    }\n",
       "</style>\n",
       "<table border=\"1\" class=\"dataframe\">\n",
       "  <thead>\n",
       "    <tr style=\"text-align: right;\">\n",
       "      <th></th>\n",
       "      <th>Age</th>\n",
       "      <th>Sex</th>\n",
       "      <th>ChestPainType</th>\n",
       "      <th>RestingBP</th>\n",
       "      <th>Cholesterol</th>\n",
       "      <th>FastingBS</th>\n",
       "      <th>RestingECG</th>\n",
       "      <th>MaxHR</th>\n",
       "      <th>ExerciseAngina</th>\n",
       "      <th>Oldpeak</th>\n",
       "      <th>ST_Slope</th>\n",
       "      <th>HeartDisease</th>\n",
       "    </tr>\n",
       "  </thead>\n",
       "  <tbody>\n",
       "    <tr>\n",
       "      <th>0</th>\n",
       "      <td>40</td>\n",
       "      <td>M</td>\n",
       "      <td>ATA</td>\n",
       "      <td>140</td>\n",
       "      <td>289</td>\n",
       "      <td>0</td>\n",
       "      <td>Normal</td>\n",
       "      <td>172</td>\n",
       "      <td>N</td>\n",
       "      <td>0.0</td>\n",
       "      <td>Up</td>\n",
       "      <td>0</td>\n",
       "    </tr>\n",
       "    <tr>\n",
       "      <th>1</th>\n",
       "      <td>49</td>\n",
       "      <td>F</td>\n",
       "      <td>NAP</td>\n",
       "      <td>160</td>\n",
       "      <td>180</td>\n",
       "      <td>0</td>\n",
       "      <td>Normal</td>\n",
       "      <td>156</td>\n",
       "      <td>N</td>\n",
       "      <td>1.0</td>\n",
       "      <td>Flat</td>\n",
       "      <td>1</td>\n",
       "    </tr>\n",
       "    <tr>\n",
       "      <th>2</th>\n",
       "      <td>37</td>\n",
       "      <td>M</td>\n",
       "      <td>ATA</td>\n",
       "      <td>130</td>\n",
       "      <td>283</td>\n",
       "      <td>0</td>\n",
       "      <td>ST</td>\n",
       "      <td>98</td>\n",
       "      <td>N</td>\n",
       "      <td>0.0</td>\n",
       "      <td>Up</td>\n",
       "      <td>0</td>\n",
       "    </tr>\n",
       "    <tr>\n",
       "      <th>3</th>\n",
       "      <td>48</td>\n",
       "      <td>F</td>\n",
       "      <td>ASY</td>\n",
       "      <td>138</td>\n",
       "      <td>214</td>\n",
       "      <td>0</td>\n",
       "      <td>Normal</td>\n",
       "      <td>108</td>\n",
       "      <td>Y</td>\n",
       "      <td>1.5</td>\n",
       "      <td>Flat</td>\n",
       "      <td>1</td>\n",
       "    </tr>\n",
       "    <tr>\n",
       "      <th>4</th>\n",
       "      <td>54</td>\n",
       "      <td>M</td>\n",
       "      <td>NAP</td>\n",
       "      <td>150</td>\n",
       "      <td>195</td>\n",
       "      <td>0</td>\n",
       "      <td>Normal</td>\n",
       "      <td>122</td>\n",
       "      <td>N</td>\n",
       "      <td>0.0</td>\n",
       "      <td>Up</td>\n",
       "      <td>0</td>\n",
       "    </tr>\n",
       "    <tr>\n",
       "      <th>...</th>\n",
       "      <td>...</td>\n",
       "      <td>...</td>\n",
       "      <td>...</td>\n",
       "      <td>...</td>\n",
       "      <td>...</td>\n",
       "      <td>...</td>\n",
       "      <td>...</td>\n",
       "      <td>...</td>\n",
       "      <td>...</td>\n",
       "      <td>...</td>\n",
       "      <td>...</td>\n",
       "      <td>...</td>\n",
       "    </tr>\n",
       "    <tr>\n",
       "      <th>913</th>\n",
       "      <td>45</td>\n",
       "      <td>M</td>\n",
       "      <td>TA</td>\n",
       "      <td>110</td>\n",
       "      <td>264</td>\n",
       "      <td>0</td>\n",
       "      <td>Normal</td>\n",
       "      <td>132</td>\n",
       "      <td>N</td>\n",
       "      <td>1.2</td>\n",
       "      <td>Flat</td>\n",
       "      <td>1</td>\n",
       "    </tr>\n",
       "    <tr>\n",
       "      <th>914</th>\n",
       "      <td>68</td>\n",
       "      <td>M</td>\n",
       "      <td>ASY</td>\n",
       "      <td>144</td>\n",
       "      <td>193</td>\n",
       "      <td>1</td>\n",
       "      <td>Normal</td>\n",
       "      <td>141</td>\n",
       "      <td>N</td>\n",
       "      <td>3.4</td>\n",
       "      <td>Flat</td>\n",
       "      <td>1</td>\n",
       "    </tr>\n",
       "    <tr>\n",
       "      <th>915</th>\n",
       "      <td>57</td>\n",
       "      <td>M</td>\n",
       "      <td>ASY</td>\n",
       "      <td>130</td>\n",
       "      <td>131</td>\n",
       "      <td>0</td>\n",
       "      <td>Normal</td>\n",
       "      <td>115</td>\n",
       "      <td>Y</td>\n",
       "      <td>1.2</td>\n",
       "      <td>Flat</td>\n",
       "      <td>1</td>\n",
       "    </tr>\n",
       "    <tr>\n",
       "      <th>916</th>\n",
       "      <td>57</td>\n",
       "      <td>F</td>\n",
       "      <td>ATA</td>\n",
       "      <td>130</td>\n",
       "      <td>236</td>\n",
       "      <td>0</td>\n",
       "      <td>LVH</td>\n",
       "      <td>174</td>\n",
       "      <td>N</td>\n",
       "      <td>0.0</td>\n",
       "      <td>Flat</td>\n",
       "      <td>1</td>\n",
       "    </tr>\n",
       "    <tr>\n",
       "      <th>917</th>\n",
       "      <td>38</td>\n",
       "      <td>M</td>\n",
       "      <td>NAP</td>\n",
       "      <td>138</td>\n",
       "      <td>175</td>\n",
       "      <td>0</td>\n",
       "      <td>Normal</td>\n",
       "      <td>173</td>\n",
       "      <td>N</td>\n",
       "      <td>0.0</td>\n",
       "      <td>Up</td>\n",
       "      <td>0</td>\n",
       "    </tr>\n",
       "  </tbody>\n",
       "</table>\n",
       "<p>918 rows × 12 columns</p>\n",
       "</div>"
      ],
      "text/plain": [
       "     Age Sex ChestPainType  RestingBP  Cholesterol  FastingBS RestingECG  \\\n",
       "0     40   M           ATA        140          289          0     Normal   \n",
       "1     49   F           NAP        160          180          0     Normal   \n",
       "2     37   M           ATA        130          283          0         ST   \n",
       "3     48   F           ASY        138          214          0     Normal   \n",
       "4     54   M           NAP        150          195          0     Normal   \n",
       "..   ...  ..           ...        ...          ...        ...        ...   \n",
       "913   45   M            TA        110          264          0     Normal   \n",
       "914   68   M           ASY        144          193          1     Normal   \n",
       "915   57   M           ASY        130          131          0     Normal   \n",
       "916   57   F           ATA        130          236          0        LVH   \n",
       "917   38   M           NAP        138          175          0     Normal   \n",
       "\n",
       "     MaxHR ExerciseAngina  Oldpeak ST_Slope  HeartDisease  \n",
       "0      172              N      0.0       Up             0  \n",
       "1      156              N      1.0     Flat             1  \n",
       "2       98              N      0.0       Up             0  \n",
       "3      108              Y      1.5     Flat             1  \n",
       "4      122              N      0.0       Up             0  \n",
       "..     ...            ...      ...      ...           ...  \n",
       "913    132              N      1.2     Flat             1  \n",
       "914    141              N      3.4     Flat             1  \n",
       "915    115              Y      1.2     Flat             1  \n",
       "916    174              N      0.0     Flat             1  \n",
       "917    173              N      0.0       Up             0  \n",
       "\n",
       "[918 rows x 12 columns]"
      ]
     },
     "execution_count": 1236,
     "metadata": {},
     "output_type": "execute_result"
    }
   ],
   "source": [
    "df = pd.read_csv('https://raw.githubusercontent.com/stay-fcsd/data-final-project/main/heart.csv')\n",
    "df"
   ]
  },
  {
   "cell_type": "markdown",
   "metadata": {},
   "source": [
    "# Logistic Regression without Hot Encoding"
   ]
  },
  {
   "cell_type": "markdown",
   "metadata": {},
   "source": [
    "# Scale Data"
   ]
  },
  {
   "cell_type": "code",
   "execution_count": 1237,
   "metadata": {},
   "outputs": [
    {
     "data": {
      "text/html": [
       "<div>\n",
       "<style scoped>\n",
       "    .dataframe tbody tr th:only-of-type {\n",
       "        vertical-align: middle;\n",
       "    }\n",
       "\n",
       "    .dataframe tbody tr th {\n",
       "        vertical-align: top;\n",
       "    }\n",
       "\n",
       "    .dataframe thead th {\n",
       "        text-align: right;\n",
       "    }\n",
       "</style>\n",
       "<table border=\"1\" class=\"dataframe\">\n",
       "  <thead>\n",
       "    <tr style=\"text-align: right;\">\n",
       "      <th></th>\n",
       "      <th>Age</th>\n",
       "      <th>RestingBP</th>\n",
       "      <th>Cholesterol</th>\n",
       "      <th>FastingBS</th>\n",
       "      <th>MaxHR</th>\n",
       "      <th>Oldpeak</th>\n",
       "    </tr>\n",
       "  </thead>\n",
       "  <tbody>\n",
       "    <tr>\n",
       "      <th>0</th>\n",
       "      <td>-1.433140</td>\n",
       "      <td>0.410909</td>\n",
       "      <td>0.825070</td>\n",
       "      <td>-0.551341</td>\n",
       "      <td>1.382928</td>\n",
       "      <td>-0.832432</td>\n",
       "    </tr>\n",
       "    <tr>\n",
       "      <th>1</th>\n",
       "      <td>-0.478484</td>\n",
       "      <td>1.491752</td>\n",
       "      <td>-0.171961</td>\n",
       "      <td>-0.551341</td>\n",
       "      <td>0.754157</td>\n",
       "      <td>0.105664</td>\n",
       "    </tr>\n",
       "    <tr>\n",
       "      <th>2</th>\n",
       "      <td>-1.751359</td>\n",
       "      <td>-0.129513</td>\n",
       "      <td>0.770188</td>\n",
       "      <td>-0.551341</td>\n",
       "      <td>-1.525138</td>\n",
       "      <td>-0.832432</td>\n",
       "    </tr>\n",
       "    <tr>\n",
       "      <th>3</th>\n",
       "      <td>-0.584556</td>\n",
       "      <td>0.302825</td>\n",
       "      <td>0.139040</td>\n",
       "      <td>-0.551341</td>\n",
       "      <td>-1.132156</td>\n",
       "      <td>0.574711</td>\n",
       "    </tr>\n",
       "    <tr>\n",
       "      <th>4</th>\n",
       "      <td>0.051881</td>\n",
       "      <td>0.951331</td>\n",
       "      <td>-0.034755</td>\n",
       "      <td>-0.551341</td>\n",
       "      <td>-0.581981</td>\n",
       "      <td>-0.832432</td>\n",
       "    </tr>\n",
       "    <tr>\n",
       "      <th>...</th>\n",
       "      <td>...</td>\n",
       "      <td>...</td>\n",
       "      <td>...</td>\n",
       "      <td>...</td>\n",
       "      <td>...</td>\n",
       "      <td>...</td>\n",
       "    </tr>\n",
       "    <tr>\n",
       "      <th>913</th>\n",
       "      <td>-0.902775</td>\n",
       "      <td>-1.210356</td>\n",
       "      <td>0.596393</td>\n",
       "      <td>-0.551341</td>\n",
       "      <td>-0.188999</td>\n",
       "      <td>0.293283</td>\n",
       "    </tr>\n",
       "    <tr>\n",
       "      <th>914</th>\n",
       "      <td>1.536902</td>\n",
       "      <td>0.627078</td>\n",
       "      <td>-0.053049</td>\n",
       "      <td>1.813758</td>\n",
       "      <td>0.164684</td>\n",
       "      <td>2.357094</td>\n",
       "    </tr>\n",
       "    <tr>\n",
       "      <th>915</th>\n",
       "      <td>0.370100</td>\n",
       "      <td>-0.129513</td>\n",
       "      <td>-0.620168</td>\n",
       "      <td>-0.551341</td>\n",
       "      <td>-0.857069</td>\n",
       "      <td>0.293283</td>\n",
       "    </tr>\n",
       "    <tr>\n",
       "      <th>916</th>\n",
       "      <td>0.370100</td>\n",
       "      <td>-0.129513</td>\n",
       "      <td>0.340275</td>\n",
       "      <td>-0.551341</td>\n",
       "      <td>1.461525</td>\n",
       "      <td>-0.832432</td>\n",
       "    </tr>\n",
       "    <tr>\n",
       "      <th>917</th>\n",
       "      <td>-1.645286</td>\n",
       "      <td>0.302825</td>\n",
       "      <td>-0.217696</td>\n",
       "      <td>-0.551341</td>\n",
       "      <td>1.422226</td>\n",
       "      <td>-0.832432</td>\n",
       "    </tr>\n",
       "  </tbody>\n",
       "</table>\n",
       "<p>918 rows × 6 columns</p>\n",
       "</div>"
      ],
      "text/plain": [
       "          Age  RestingBP  Cholesterol  FastingBS     MaxHR   Oldpeak\n",
       "0   -1.433140   0.410909     0.825070  -0.551341  1.382928 -0.832432\n",
       "1   -0.478484   1.491752    -0.171961  -0.551341  0.754157  0.105664\n",
       "2   -1.751359  -0.129513     0.770188  -0.551341 -1.525138 -0.832432\n",
       "3   -0.584556   0.302825     0.139040  -0.551341 -1.132156  0.574711\n",
       "4    0.051881   0.951331    -0.034755  -0.551341 -0.581981 -0.832432\n",
       "..        ...        ...          ...        ...       ...       ...\n",
       "913 -0.902775  -1.210356     0.596393  -0.551341 -0.188999  0.293283\n",
       "914  1.536902   0.627078    -0.053049   1.813758  0.164684  2.357094\n",
       "915  0.370100  -0.129513    -0.620168  -0.551341 -0.857069  0.293283\n",
       "916  0.370100  -0.129513     0.340275  -0.551341  1.461525 -0.832432\n",
       "917 -1.645286   0.302825    -0.217696  -0.551341  1.422226 -0.832432\n",
       "\n",
       "[918 rows x 6 columns]"
      ]
     },
     "execution_count": 1237,
     "metadata": {},
     "output_type": "execute_result"
    }
   ],
   "source": [
    "log_reg_features_whe = ['Age', 'RestingBP', 'Cholesterol', 'FastingBS', 'MaxHR', 'Oldpeak']\n",
    "\n",
    "X0 = df[log_reg_features_whe]\n",
    "y = df['HeartDisease']\n",
    "\n",
    "scaler = StandardScaler()\n",
    "scaler.fit(X0.values)\n",
    "heart_disease_df_scale = scaler.transform(X0.values)\n",
    "\n",
    "\n",
    "df_scale = pd.DataFrame(heart_disease_df_scale, columns=X0.columns)\n",
    "\n",
    "X0 = df_scale\n",
    "\n",
    "X0"
   ]
  },
  {
   "cell_type": "markdown",
   "metadata": {},
   "source": [
    "# Train Model"
   ]
  },
  {
   "cell_type": "code",
   "execution_count": 1238,
   "metadata": {},
   "outputs": [
    {
     "data": {
      "text/plain": [
       "LogisticRegression()"
      ]
     },
     "execution_count": 1238,
     "metadata": {},
     "output_type": "execute_result"
    }
   ],
   "source": [
    "X_train, X_test, y_train, y_test = train_test_split(X0, y, test_size=0.25, random_state=3)\n",
    "\n",
    "my_logreg = LogisticRegression()\n",
    "my_logreg.fit(X_train, y_train)"
   ]
  },
  {
   "cell_type": "markdown",
   "metadata": {},
   "source": [
    "# Estimate the Probability of an Event Happening"
   ]
  },
  {
   "cell_type": "code",
   "execution_count": 1239,
   "metadata": {},
   "outputs": [],
   "source": [
    "# Predict the binary label\n",
    "y_predict_lr = my_logreg.predict(X_test)\n",
    "\n",
    "# Estimate the probability of each lable\n",
    "y_predict_prob_log_r = my_logreg.predict_proba(X_test)\n"
   ]
  },
  {
   "cell_type": "markdown",
   "metadata": {},
   "source": [
    "# Accuracy Evaluation"
   ]
  },
  {
   "cell_type": "code",
   "execution_count": 1240,
   "metadata": {},
   "outputs": [
    {
     "name": "stdout",
     "output_type": "stream",
     "text": [
      "0.7782608695652173\n"
     ]
    }
   ],
   "source": [
    "score_logreg = accuracy_score(y_test, y_predict_lr)\n",
    "print(score_logreg)"
   ]
  },
  {
   "cell_type": "markdown",
   "metadata": {},
   "source": [
    "# True Positive Rate (TPR) and False Positive Rate (FPR):"
   ]
  },
  {
   "cell_type": "code",
   "execution_count": 1241,
   "metadata": {},
   "outputs": [],
   "source": [
    "fpr, tpr, thresholds = metrics.roc_curve(y_test, y_predict_prob_log_r[:,1], pos_label=1)\n"
   ]
  },
  {
   "cell_type": "markdown",
   "metadata": {},
   "source": [
    "# AUC:"
   ]
  },
  {
   "cell_type": "code",
   "execution_count": 1242,
   "metadata": {},
   "outputs": [
    {
     "name": "stdout",
     "output_type": "stream",
     "text": [
      "0.8737026862026862\n"
     ]
    }
   ],
   "source": [
    "AUC = metrics.auc(fpr, tpr)\n",
    "\n",
    "print(AUC)"
   ]
  },
  {
   "cell_type": "markdown",
   "metadata": {},
   "source": [
    "# ROC Curve:"
   ]
  },
  {
   "cell_type": "code",
   "execution_count": 1243,
   "metadata": {},
   "outputs": [
    {
     "data": {
      "image/png": "[encoded data removed]",
      "text/plain": [
       "<Figure size 432x288 with 1 Axes>"
      ]
     },
     "metadata": {
      "needs_background": "light"
     },
     "output_type": "display_data"
    }
   ],
   "source": [
    "%matplotlib inline\n",
    "\n",
    "plt.figure()\n",
    "\n",
    "# Roc Curve:\n",
    "plt.plot(fpr, tpr, color='red', lw=2, \n",
    "         label='ROC Curve (area = %0.2f)' % AUC)\n",
    "\n",
    "\n",
    "# Random Guess line:\n",
    "plt.plot([0, 1], [0, 1], color='blue', lw=1, linestyle='--')\n",
    "\n",
    "# Defining The Range of X-Axis and Y-Axis:\n",
    "plt.xlim([-0.005, 1.005])\n",
    "plt.ylim([0.0, 1.01])\n",
    "\n",
    "# Labels, Title, Legend:\n",
    "plt.xlabel('False Positive Rate')\n",
    "plt.ylabel('True Positive Rate')\n",
    "plt.title('Receiver operating characteristic')\n",
    "plt.legend(loc=\"lower right\")\n",
    "\n",
    "plt.show()\n"
   ]
  },
  {
   "cell_type": "markdown",
   "metadata": {},
   "source": [
    "# Hot Encoding:\n",
    "Convert categorical features into dummy columns in the feature table with a binary value for each of the possible categorical values"
   ]
  },
  {
   "cell_type": "code",
   "execution_count": 1244,
   "metadata": {},
   "outputs": [
    {
     "name": "stderr",
     "output_type": "stream",
     "text": [
      "/var/folders/xz/gd28q0w92sqd0rq28sz11kq40000gn/T/ipykernel_19319/2609551469.py:8: FutureWarning: In a future version of pandas all arguments of DataFrame.drop except for the argument 'labels' will be keyword-only\n",
      "  hot_encoded_df = hot_encoded_df.drop('Sex', 1)\n",
      "/var/folders/xz/gd28q0w92sqd0rq28sz11kq40000gn/T/ipykernel_19319/2609551469.py:15: FutureWarning: In a future version of pandas all arguments of DataFrame.drop except for the argument 'labels' will be keyword-only\n",
      "  hot_encoded_df = hot_encoded_df.drop('ChestPainType', 1)\n",
      "/var/folders/xz/gd28q0w92sqd0rq28sz11kq40000gn/T/ipykernel_19319/2609551469.py:21: FutureWarning: In a future version of pandas all arguments of DataFrame.drop except for the argument 'labels' will be keyword-only\n",
      "  hot_encoded_df = hot_encoded_df.drop('RestingECG', 1)\n",
      "/var/folders/xz/gd28q0w92sqd0rq28sz11kq40000gn/T/ipykernel_19319/2609551469.py:29: FutureWarning: In a future version of pandas all arguments of DataFrame.drop except for the argument 'labels' will be keyword-only\n",
      "  hot_encoded_df = hot_encoded_df.drop('ST_Slope', 1)\n"
     ]
    },
    {
     "data": {
      "text/html": [
       "<div>\n",
       "<style scoped>\n",
       "    .dataframe tbody tr th:only-of-type {\n",
       "        vertical-align: middle;\n",
       "    }\n",
       "\n",
       "    .dataframe tbody tr th {\n",
       "        vertical-align: top;\n",
       "    }\n",
       "\n",
       "    .dataframe thead th {\n",
       "        text-align: right;\n",
       "    }\n",
       "</style>\n",
       "<table border=\"1\" class=\"dataframe\">\n",
       "  <thead>\n",
       "    <tr style=\"text-align: right;\">\n",
       "      <th></th>\n",
       "      <th>Age</th>\n",
       "      <th>RestingBP</th>\n",
       "      <th>Cholesterol</th>\n",
       "      <th>FastingBS</th>\n",
       "      <th>MaxHR</th>\n",
       "      <th>ExerciseAngina</th>\n",
       "      <th>Oldpeak</th>\n",
       "      <th>Male</th>\n",
       "      <th>Female</th>\n",
       "      <th>ATA</th>\n",
       "      <th>TA</th>\n",
       "      <th>ASY</th>\n",
       "      <th>NAP</th>\n",
       "      <th>Normal</th>\n",
       "      <th>ST</th>\n",
       "      <th>LVH</th>\n",
       "      <th>Up</th>\n",
       "      <th>Flat</th>\n",
       "      <th>Down</th>\n",
       "      <th>HeartDisease</th>\n",
       "    </tr>\n",
       "  </thead>\n",
       "  <tbody>\n",
       "    <tr>\n",
       "      <th>0</th>\n",
       "      <td>40</td>\n",
       "      <td>140</td>\n",
       "      <td>289</td>\n",
       "      <td>0</td>\n",
       "      <td>172</td>\n",
       "      <td>0</td>\n",
       "      <td>0.0</td>\n",
       "      <td>1</td>\n",
       "      <td>0</td>\n",
       "      <td>1</td>\n",
       "      <td>0</td>\n",
       "      <td>0</td>\n",
       "      <td>0</td>\n",
       "      <td>1</td>\n",
       "      <td>0</td>\n",
       "      <td>0</td>\n",
       "      <td>1</td>\n",
       "      <td>0</td>\n",
       "      <td>0</td>\n",
       "      <td>0</td>\n",
       "    </tr>\n",
       "    <tr>\n",
       "      <th>1</th>\n",
       "      <td>49</td>\n",
       "      <td>160</td>\n",
       "      <td>180</td>\n",
       "      <td>0</td>\n",
       "      <td>156</td>\n",
       "      <td>0</td>\n",
       "      <td>1.0</td>\n",
       "      <td>0</td>\n",
       "      <td>1</td>\n",
       "      <td>0</td>\n",
       "      <td>0</td>\n",
       "      <td>0</td>\n",
       "      <td>1</td>\n",
       "      <td>1</td>\n",
       "      <td>0</td>\n",
       "      <td>0</td>\n",
       "      <td>0</td>\n",
       "      <td>1</td>\n",
       "      <td>0</td>\n",
       "      <td>1</td>\n",
       "    </tr>\n",
       "    <tr>\n",
       "      <th>2</th>\n",
       "      <td>37</td>\n",
       "      <td>130</td>\n",
       "      <td>283</td>\n",
       "      <td>0</td>\n",
       "      <td>98</td>\n",
       "      <td>0</td>\n",
       "      <td>0.0</td>\n",
       "      <td>1</td>\n",
       "      <td>0</td>\n",
       "      <td>1</td>\n",
       "      <td>0</td>\n",
       "      <td>0</td>\n",
       "      <td>0</td>\n",
       "      <td>0</td>\n",
       "      <td>1</td>\n",
       "      <td>0</td>\n",
       "      <td>1</td>\n",
       "      <td>0</td>\n",
       "      <td>0</td>\n",
       "      <td>0</td>\n",
       "    </tr>\n",
       "    <tr>\n",
       "      <th>3</th>\n",
       "      <td>48</td>\n",
       "      <td>138</td>\n",
       "      <td>214</td>\n",
       "      <td>0</td>\n",
       "      <td>108</td>\n",
       "      <td>1</td>\n",
       "      <td>1.5</td>\n",
       "      <td>0</td>\n",
       "      <td>1</td>\n",
       "      <td>0</td>\n",
       "      <td>0</td>\n",
       "      <td>1</td>\n",
       "      <td>0</td>\n",
       "      <td>1</td>\n",
       "      <td>0</td>\n",
       "      <td>0</td>\n",
       "      <td>0</td>\n",
       "      <td>1</td>\n",
       "      <td>0</td>\n",
       "      <td>1</td>\n",
       "    </tr>\n",
       "    <tr>\n",
       "      <th>4</th>\n",
       "      <td>54</td>\n",
       "      <td>150</td>\n",
       "      <td>195</td>\n",
       "      <td>0</td>\n",
       "      <td>122</td>\n",
       "      <td>0</td>\n",
       "      <td>0.0</td>\n",
       "      <td>1</td>\n",
       "      <td>0</td>\n",
       "      <td>0</td>\n",
       "      <td>0</td>\n",
       "      <td>0</td>\n",
       "      <td>1</td>\n",
       "      <td>1</td>\n",
       "      <td>0</td>\n",
       "      <td>0</td>\n",
       "      <td>1</td>\n",
       "      <td>0</td>\n",
       "      <td>0</td>\n",
       "      <td>0</td>\n",
       "    </tr>\n",
       "    <tr>\n",
       "      <th>...</th>\n",
       "      <td>...</td>\n",
       "      <td>...</td>\n",
       "      <td>...</td>\n",
       "      <td>...</td>\n",
       "      <td>...</td>\n",
       "      <td>...</td>\n",
       "      <td>...</td>\n",
       "      <td>...</td>\n",
       "      <td>...</td>\n",
       "      <td>...</td>\n",
       "      <td>...</td>\n",
       "      <td>...</td>\n",
       "      <td>...</td>\n",
       "      <td>...</td>\n",
       "      <td>...</td>\n",
       "      <td>...</td>\n",
       "      <td>...</td>\n",
       "      <td>...</td>\n",
       "      <td>...</td>\n",
       "      <td>...</td>\n",
       "    </tr>\n",
       "    <tr>\n",
       "      <th>913</th>\n",
       "      <td>45</td>\n",
       "      <td>110</td>\n",
       "      <td>264</td>\n",
       "      <td>0</td>\n",
       "      <td>132</td>\n",
       "      <td>0</td>\n",
       "      <td>1.2</td>\n",
       "      <td>1</td>\n",
       "      <td>0</td>\n",
       "      <td>0</td>\n",
       "      <td>1</td>\n",
       "      <td>0</td>\n",
       "      <td>0</td>\n",
       "      <td>1</td>\n",
       "      <td>0</td>\n",
       "      <td>0</td>\n",
       "      <td>0</td>\n",
       "      <td>1</td>\n",
       "      <td>0</td>\n",
       "      <td>1</td>\n",
       "    </tr>\n",
       "    <tr>\n",
       "      <th>914</th>\n",
       "      <td>68</td>\n",
       "      <td>144</td>\n",
       "      <td>193</td>\n",
       "      <td>1</td>\n",
       "      <td>141</td>\n",
       "      <td>0</td>\n",
       "      <td>3.4</td>\n",
       "      <td>1</td>\n",
       "      <td>0</td>\n",
       "      <td>0</td>\n",
       "      <td>0</td>\n",
       "      <td>1</td>\n",
       "      <td>0</td>\n",
       "      <td>1</td>\n",
       "      <td>0</td>\n",
       "      <td>0</td>\n",
       "      <td>0</td>\n",
       "      <td>1</td>\n",
       "      <td>0</td>\n",
       "      <td>1</td>\n",
       "    </tr>\n",
       "    <tr>\n",
       "      <th>915</th>\n",
       "      <td>57</td>\n",
       "      <td>130</td>\n",
       "      <td>131</td>\n",
       "      <td>0</td>\n",
       "      <td>115</td>\n",
       "      <td>1</td>\n",
       "      <td>1.2</td>\n",
       "      <td>1</td>\n",
       "      <td>0</td>\n",
       "      <td>0</td>\n",
       "      <td>0</td>\n",
       "      <td>1</td>\n",
       "      <td>0</td>\n",
       "      <td>1</td>\n",
       "      <td>0</td>\n",
       "      <td>0</td>\n",
       "      <td>0</td>\n",
       "      <td>1</td>\n",
       "      <td>0</td>\n",
       "      <td>1</td>\n",
       "    </tr>\n",
       "    <tr>\n",
       "      <th>916</th>\n",
       "      <td>57</td>\n",
       "      <td>130</td>\n",
       "      <td>236</td>\n",
       "      <td>0</td>\n",
       "      <td>174</td>\n",
       "      <td>0</td>\n",
       "      <td>0.0</td>\n",
       "      <td>0</td>\n",
       "      <td>1</td>\n",
       "      <td>1</td>\n",
       "      <td>0</td>\n",
       "      <td>0</td>\n",
       "      <td>0</td>\n",
       "      <td>0</td>\n",
       "      <td>0</td>\n",
       "      <td>1</td>\n",
       "      <td>0</td>\n",
       "      <td>1</td>\n",
       "      <td>0</td>\n",
       "      <td>1</td>\n",
       "    </tr>\n",
       "    <tr>\n",
       "      <th>917</th>\n",
       "      <td>38</td>\n",
       "      <td>138</td>\n",
       "      <td>175</td>\n",
       "      <td>0</td>\n",
       "      <td>173</td>\n",
       "      <td>0</td>\n",
       "      <td>0.0</td>\n",
       "      <td>1</td>\n",
       "      <td>0</td>\n",
       "      <td>0</td>\n",
       "      <td>0</td>\n",
       "      <td>0</td>\n",
       "      <td>1</td>\n",
       "      <td>1</td>\n",
       "      <td>0</td>\n",
       "      <td>0</td>\n",
       "      <td>1</td>\n",
       "      <td>0</td>\n",
       "      <td>0</td>\n",
       "      <td>0</td>\n",
       "    </tr>\n",
       "  </tbody>\n",
       "</table>\n",
       "<p>918 rows × 20 columns</p>\n",
       "</div>"
      ],
      "text/plain": [
       "     Age  RestingBP  Cholesterol  FastingBS  MaxHR ExerciseAngina  Oldpeak  \\\n",
       "0     40        140          289          0    172              0      0.0   \n",
       "1     49        160          180          0    156              0      1.0   \n",
       "2     37        130          283          0     98              0      0.0   \n",
       "3     48        138          214          0    108              1      1.5   \n",
       "4     54        150          195          0    122              0      0.0   \n",
       "..   ...        ...          ...        ...    ...            ...      ...   \n",
       "913   45        110          264          0    132              0      1.2   \n",
       "914   68        144          193          1    141              0      3.4   \n",
       "915   57        130          131          0    115              1      1.2   \n",
       "916   57        130          236          0    174              0      0.0   \n",
       "917   38        138          175          0    173              0      0.0   \n",
       "\n",
       "    Male Female ATA TA ASY NAP Normal ST LVH Up Flat Down  HeartDisease  \n",
       "0      1      0   1  0   0   0      1  0   0  1    0    0             0  \n",
       "1      0      1   0  0   0   1      1  0   0  0    1    0             1  \n",
       "2      1      0   1  0   0   0      0  1   0  1    0    0             0  \n",
       "3      0      1   0  0   1   0      1  0   0  0    1    0             1  \n",
       "4      1      0   0  0   0   1      1  0   0  1    0    0             0  \n",
       "..   ...    ...  .. ..  ..  ..    ... ..  .. ..  ...  ...           ...  \n",
       "913    1      0   0  1   0   0      1  0   0  0    1    0             1  \n",
       "914    1      0   0  0   1   0      1  0   0  0    1    0             1  \n",
       "915    1      0   0  0   1   0      1  0   0  0    1    0             1  \n",
       "916    0      1   1  0   0   0      0  0   1  0    1    0             1  \n",
       "917    1      0   0  0   0   1      1  0   0  1    0    0             0  \n",
       "\n",
       "[918 rows x 20 columns]"
      ]
     },
     "execution_count": 1244,
     "metadata": {},
     "output_type": "execute_result"
    }
   ],
   "source": [
    "hot_encoded_df = df.copy()\n",
    "\n",
    "gender_column = df[[\"Sex\"]]\n",
    "\n",
    "hot_encoded_df['Male'] = gender_column\n",
    "hot_encoded_df['Female'] = gender_column\n",
    "\n",
    "hot_encoded_df = hot_encoded_df.drop('Sex', 1)\n",
    "\n",
    "chest_pain_type_column = df[[\"ChestPainType\"]]\n",
    "hot_encoded_df['ATA'] = chest_pain_type_column\n",
    "hot_encoded_df['TA'] = chest_pain_type_column\n",
    "hot_encoded_df['ASY'] = chest_pain_type_column\n",
    "hot_encoded_df['NAP'] = chest_pain_type_column\n",
    "hot_encoded_df = hot_encoded_df.drop('ChestPainType', 1)\n",
    "\n",
    "resting_ECG_column = df[[\"RestingECG\"]]\n",
    "hot_encoded_df['Normal'] = resting_ECG_column\n",
    "hot_encoded_df['ST'] = resting_ECG_column\n",
    "hot_encoded_df['LVH'] = resting_ECG_column\n",
    "hot_encoded_df = hot_encoded_df.drop('RestingECG', 1)\n",
    "\n",
    "ST_slope_column = df[[\"ST_Slope\"]]\n",
    "\n",
    "hot_encoded_df['Up'] = ST_slope_column\n",
    "hot_encoded_df['Flat'] = ST_slope_column\n",
    "hot_encoded_df['Down'] = ST_slope_column\n",
    "\n",
    "hot_encoded_df = hot_encoded_df.drop('ST_Slope', 1)\n",
    "\n",
    "hot_encoded_df['Male'] = hot_encoded_df['Male'].replace(['M'], '1')\n",
    "hot_encoded_df['Male'] = hot_encoded_df['Male'].replace(['F'], '0')\n",
    "\n",
    "hot_encoded_df['Female'] = hot_encoded_df['Female'].replace(['M'], '0')\n",
    "hot_encoded_df['Female'] = hot_encoded_df['Female'].replace(['F'], '1')\n",
    "\n",
    "hot_encoded_df['ATA'] = hot_encoded_df['ATA'].replace(['ATA'], '1')\n",
    "hot_encoded_df['ATA'] = hot_encoded_df['ATA'].replace(['TA'], '0')\n",
    "hot_encoded_df['ATA'] = hot_encoded_df['ATA'].replace(['ASY'], '0')\n",
    "hot_encoded_df['ATA'] = hot_encoded_df['ATA'].replace(['NAP'], '0')\n",
    "\n",
    "hot_encoded_df['TA'] = hot_encoded_df['TA'].replace(['ATA'], '0')\n",
    "hot_encoded_df['TA'] = hot_encoded_df['TA'].replace(['TA'], '1')\n",
    "hot_encoded_df['TA'] = hot_encoded_df['TA'].replace(['ASY'], '0')\n",
    "hot_encoded_df['TA'] = hot_encoded_df['TA'].replace(['NAP'], '0')\n",
    "\n",
    "hot_encoded_df['ASY'] = hot_encoded_df['ASY'].replace(['ATA'], '0')\n",
    "hot_encoded_df['ASY'] = hot_encoded_df['ASY'].replace(['TA'], '0')\n",
    "hot_encoded_df['ASY'] = hot_encoded_df['ASY'].replace(['ASY'], '1')\n",
    "hot_encoded_df['ASY'] = hot_encoded_df['ASY'].replace(['NAP'], '0')\n",
    "\n",
    "hot_encoded_df['NAP'] = hot_encoded_df['NAP'].replace(['ATA'], '0')\n",
    "hot_encoded_df['NAP'] = hot_encoded_df['NAP'].replace(['TA'], '0')\n",
    "hot_encoded_df['NAP'] = hot_encoded_df['NAP'].replace(['ASY'], '0')\n",
    "hot_encoded_df['NAP'] = hot_encoded_df['NAP'].replace(['NAP'], '1')\n",
    "\n",
    "hot_encoded_df['Normal'] = hot_encoded_df['Normal'].replace(['Normal'], '1')\n",
    "hot_encoded_df['Normal'] = hot_encoded_df['Normal'].replace(['ST'], '0')\n",
    "hot_encoded_df['Normal'] = hot_encoded_df['Normal'].replace(['LVH'], '0')\n",
    "\n",
    "hot_encoded_df['ST'] = hot_encoded_df['ST'].replace(['Normal'], '0')\n",
    "hot_encoded_df['ST'] = hot_encoded_df['ST'].replace(['ST'], '1')\n",
    "hot_encoded_df['ST'] = hot_encoded_df['ST'].replace(['LVH'], '0')\n",
    "\n",
    "hot_encoded_df['LVH'] = hot_encoded_df['LVH'].replace(['Normal'], '0')\n",
    "hot_encoded_df['LVH'] = hot_encoded_df['LVH'].replace(['ST'], '0')\n",
    "hot_encoded_df['LVH'] = hot_encoded_df['LVH'].replace(['LVH'], '1')\n",
    "\n",
    "hot_encoded_df['Up'] = hot_encoded_df['Up'].replace(['Up'], '1')\n",
    "hot_encoded_df['Up'] = hot_encoded_df['Up'].replace(['Flat'], '0')\n",
    "hot_encoded_df['Up'] = hot_encoded_df['Up'].replace(['Down'], '0')\n",
    "\n",
    "hot_encoded_df['Flat'] = hot_encoded_df['Flat'].replace(['Up'], '0')\n",
    "hot_encoded_df['Flat'] = hot_encoded_df['Flat'].replace(['Flat'], '1')\n",
    "hot_encoded_df['Flat'] = hot_encoded_df['Flat'].replace(['Down'], '0')\n",
    "\n",
    "hot_encoded_df['Down'] = hot_encoded_df['Down'].replace(['Up'], '0')\n",
    "hot_encoded_df['Down'] = hot_encoded_df['Down'].replace(['Flat'], '0')\n",
    "hot_encoded_df['Down'] = hot_encoded_df['Down'].replace(['Down'], '1')\n",
    "\n",
    "hot_encoded_df['ExerciseAngina'] = hot_encoded_df['ExerciseAngina'].replace(['Y'], '1')\n",
    "hot_encoded_df['ExerciseAngina'] = hot_encoded_df['ExerciseAngina'].replace(['N'], '0')\n",
    "\n",
    "heart_disease_column = hot_encoded_df.pop('HeartDisease')\n",
    "hot_encoded_df.insert(19, 'HeartDisease', heart_disease_column);\n",
    "\n",
    "hot_encoded_df"
   ]
  },
  {
   "cell_type": "markdown",
   "metadata": {},
   "source": [
    "# Scale Data:"
   ]
  },
  {
   "cell_type": "code",
   "execution_count": 1245,
   "metadata": {},
   "outputs": [],
   "source": [
    "feature_cols = ['Age', 'Male', 'Female', 'ATA', 'ASY', 'TA', 'NAP', 'RestingBP', 'Cholesterol', 'FastingBS', 'Normal', 'ST','LVH', 'MaxHR', 'ExerciseAngina', 'Oldpeak', 'Up','Flat','Down']\n",
    "\n",
    "X = hot_encoded_df[feature_cols]\n",
    "\n",
    "scaler = StandardScaler()\n",
    "scaler.fit(X.values)\n",
    "heart_disease_df_scale = scaler.transform(X.values)\n",
    "df_scale = pd.DataFrame(heart_disease_df_scale, columns=X.columns)\n",
    "df_scale.insert(19, 'HeartDisease', heart_disease_column);"
   ]
  },
  {
   "cell_type": "markdown",
   "metadata": {},
   "source": [
    "# Split data and train model using Logistic Regression"
   ]
  },
  {
   "cell_type": "code",
   "execution_count": 1246,
   "metadata": {},
   "outputs": [
    {
     "data": {
      "text/plain": [
       "LogisticRegression(max_iter=2000)"
      ]
     },
     "execution_count": 1246,
     "metadata": {},
     "output_type": "execute_result"
    }
   ],
   "source": [
    "X_train, X_test, y_train, y_test = train_test_split(X, y, test_size=0.25, random_state=3)\n",
    "my_logreg = LogisticRegression(max_iter=2000)\n",
    "my_logreg.fit(X_train, y_train)"
   ]
  },
  {
   "cell_type": "markdown",
   "metadata": {},
   "source": [
    "# Estimate the Probability of an Event Happening:\n",
    "Estimate the likelihood of each label happening"
   ]
  },
  {
   "cell_type": "code",
   "execution_count": 1247,
   "metadata": {},
   "outputs": [],
   "source": [
    "# Predict the binary label\n",
    "y_predict_lr = my_logreg.predict(X_test)\n",
    "\n",
    "# Estimate the probability of each lable\n",
    "y_predict_prob_log_r = my_logreg.predict_proba(X_test)"
   ]
  },
  {
   "cell_type": "code",
   "execution_count": 1248,
   "metadata": {},
   "outputs": [
    {
     "name": "stdout",
     "output_type": "stream",
     "text": [
      "THIS IS THE ACTUAL LABLE\n",
      "710    1\n",
      "466    1\n",
      "557    1\n",
      "227    1\n",
      "83     0\n",
      "      ..\n",
      "416    1\n",
      "615    1\n",
      "301    0\n",
      "912    1\n",
      "376    1\n",
      "Name: HeartDisease, Length: 230, dtype: int64\n",
      "PREDICTED LABEL\n",
      "[1 1 1 1 0 1 1 1 0 0 0 0 0 1 1 0 1 1 1 1 1 1 1 1 0 1 1 0 0 1 1 1 1 0 0 0 1\n",
      " 0 1 1 1 1 0 0 0 1 1 0 0 1 1 1 1 0 1 1 0 0 1 1 0 1 0 1 1 0 0 1 0 1 0 0 0 1\n",
      " 0 0 1 1 0 0 1 1 1 1 0 1 0 1 0 0 0 1 0 0 1 1 0 0 0 0 1 1 1 0 0 1 1 1 1 0 1\n",
      " 1 0 0 0 1 0 0 1 0 1 1 0 0 0 1 0 0 0 0 1 0 0 1 0 1 1 0 0 1 1 0 0 0 1 0 1 0\n",
      " 1 1 1 1 1 0 0 0 1 1 0 1 0 0 0 1 0 1 0 0 1 0 1 1 1 0 0 0 1 0 1 1 0 1 0 0 1\n",
      " 1 1 0 0 1 1 1 1 1 1 0 0 0 1 0 1 0 1 0 1 1 1 0 1 1 1 0 0 1 0 0 0 0 1 0 0 0\n",
      " 1 0 0 1 1 0 1 1]\n",
      "ESTMIATE THE LIKELIHOOD OF BOTH LABLE\n",
      "[[0.10725897 0.89274103]\n",
      " [0.09198623 0.90801377]\n",
      " [0.09203163 0.90796837]\n",
      " [0.05634048 0.94365952]\n",
      " [0.90086298 0.09913702]\n",
      " [0.02959912 0.97040088]\n",
      " [0.01268071 0.98731929]\n",
      " [0.24381309 0.75618691]\n",
      " [0.93240241 0.06759759]\n",
      " [0.777029   0.222971  ]\n",
      " [0.8068906  0.1931094 ]\n",
      " [0.89095198 0.10904802]\n",
      " [0.98772576 0.01227424]\n",
      " [0.26324466 0.73675534]\n",
      " [0.00487506 0.99512494]\n",
      " [0.98470956 0.01529044]\n",
      " [0.03679419 0.96320581]\n",
      " [0.05320585 0.94679415]\n",
      " [0.08668769 0.91331231]\n",
      " [0.26871395 0.73128605]\n",
      " [0.32969999 0.67030001]\n",
      " [0.09992921 0.90007079]\n",
      " [0.08550023 0.91449977]\n",
      " [0.12637194 0.87362806]\n",
      " [0.74710717 0.25289283]\n",
      " [0.095965   0.904035  ]\n",
      " [0.08651667 0.91348333]\n",
      " [0.76202737 0.23797263]\n",
      " [0.9523583  0.0476417 ]\n",
      " [0.01356206 0.98643794]\n",
      " [0.03438337 0.96561663]\n",
      " [0.49228159 0.50771841]\n",
      " [0.04482311 0.95517689]\n",
      " [0.98407794 0.01592206]\n",
      " [0.55260278 0.44739722]\n",
      " [0.99361155 0.00638845]\n",
      " [0.01439944 0.98560056]\n",
      " [0.9449131  0.0550869 ]\n",
      " [0.11950665 0.88049335]\n",
      " [0.38503824 0.61496176]\n",
      " [0.04157035 0.95842965]\n",
      " [0.02426602 0.97573398]\n",
      " [0.931719   0.068281  ]\n",
      " [0.70912126 0.29087874]\n",
      " [0.98031315 0.01968685]\n",
      " [0.12848372 0.87151628]\n",
      " [0.25428618 0.74571382]\n",
      " [0.79205664 0.20794336]\n",
      " [0.71095404 0.28904596]\n",
      " [0.06840333 0.93159667]\n",
      " [0.06472929 0.93527071]\n",
      " [0.13608568 0.86391432]\n",
      " [0.20825925 0.79174075]\n",
      " [0.98464082 0.01535918]\n",
      " [0.34084753 0.65915247]\n",
      " [0.0540187  0.9459813 ]\n",
      " [0.98033363 0.01966637]\n",
      " [0.86320482 0.13679518]\n",
      " [0.03540513 0.96459487]\n",
      " [0.42120327 0.57879673]\n",
      " [0.98412345 0.01587655]\n",
      " [0.24844885 0.75155115]\n",
      " [0.92785247 0.07214753]\n",
      " [0.03623342 0.96376658]\n",
      " [0.4306965  0.5693035 ]\n",
      " [0.98316301 0.01683699]\n",
      " [0.92992692 0.07007308]\n",
      " [0.11619125 0.88380875]\n",
      " [0.98008724 0.01991276]\n",
      " [0.28593506 0.71406494]\n",
      " [0.74457787 0.25542213]\n",
      " [0.98541838 0.01458162]\n",
      " [0.98426438 0.01573562]\n",
      " [0.06217934 0.93782066]\n",
      " [0.53065905 0.46934095]\n",
      " [0.98906653 0.01093347]\n",
      " [0.02962671 0.97037329]\n",
      " [0.07381973 0.92618027]\n",
      " [0.79159114 0.20840886]\n",
      " [0.94270056 0.05729944]\n",
      " [0.02105122 0.97894878]\n",
      " [0.3790932  0.6209068 ]\n",
      " [0.24135107 0.75864893]\n",
      " [0.36634002 0.63365998]\n",
      " [0.95454248 0.04545752]\n",
      " [0.27177065 0.72822935]\n",
      " [0.59635193 0.40364807]\n",
      " [0.06255228 0.93744772]\n",
      " [0.93678476 0.06321524]\n",
      " [0.80527112 0.19472888]\n",
      " [0.96304025 0.03695975]\n",
      " [0.09998379 0.90001621]\n",
      " [0.73503542 0.26496458]\n",
      " [0.95833129 0.04166871]\n",
      " [0.14968564 0.85031436]\n",
      " [0.09622789 0.90377211]\n",
      " [0.84683895 0.15316105]\n",
      " [0.76426572 0.23573428]\n",
      " [0.7321261  0.2678739 ]\n",
      " [0.83361799 0.16638201]\n",
      " [0.01914808 0.98085192]\n",
      " [0.42083914 0.57916086]\n",
      " [0.02578235 0.97421765]\n",
      " [0.63203477 0.36796523]\n",
      " [0.94439857 0.05560143]\n",
      " [0.04272708 0.95727292]\n",
      " [0.12098993 0.87901007]\n",
      " [0.06718938 0.93281062]\n",
      " [0.04500977 0.95499023]\n",
      " [0.84513662 0.15486338]\n",
      " [0.01364698 0.98635302]\n",
      " [0.03675563 0.96324437]\n",
      " [0.6924196  0.3075804 ]\n",
      " [0.98748866 0.01251134]\n",
      " [0.97828885 0.02171115]\n",
      " [0.49506901 0.50493099]\n",
      " [0.87968533 0.12031467]\n",
      " [0.93896328 0.06103672]\n",
      " [0.01622172 0.98377828]\n",
      " [0.98948015 0.01051985]\n",
      " [0.05723915 0.94276085]\n",
      " [0.06009457 0.93990543]\n",
      " [0.89882492 0.10117508]\n",
      " [0.92495224 0.07504776]\n",
      " [0.97871205 0.02128795]\n",
      " [0.19647106 0.80352894]\n",
      " [0.69833696 0.30166304]\n",
      " [0.94363079 0.05636921]\n",
      " [0.98401198 0.01598802]\n",
      " [0.98532248 0.01467752]\n",
      " [0.0441147  0.9558853 ]\n",
      " [0.78622502 0.21377498]\n",
      " [0.94095121 0.05904879]\n",
      " [0.06647271 0.93352729]\n",
      " [0.9874734  0.0125266 ]\n",
      " [0.03136768 0.96863232]\n",
      " [0.04987528 0.95012472]\n",
      " [0.63918622 0.36081378]\n",
      " [0.97158199 0.02841801]\n",
      " [0.22556083 0.77443917]\n",
      " [0.13116668 0.86883332]\n",
      " [0.91692699 0.08307301]\n",
      " [0.92138087 0.07861913]\n",
      " [0.77233088 0.22766912]\n",
      " [0.03839371 0.96160629]\n",
      " [0.9689505  0.0310495 ]\n",
      " [0.35508565 0.64491435]\n",
      " [0.92734225 0.07265775]\n",
      " [0.32910734 0.67089266]\n",
      " [0.10711066 0.89288934]\n",
      " [0.03467366 0.96532634]\n",
      " [0.05712867 0.94287133]\n",
      " [0.05096692 0.94903308]\n",
      " [0.66936627 0.33063373]\n",
      " [0.80504418 0.19495582]\n",
      " [0.86654369 0.13345631]\n",
      " [0.0912833  0.9087167 ]\n",
      " [0.25476947 0.74523053]\n",
      " [0.8577409  0.1422591 ]\n",
      " [0.04128943 0.95871057]\n",
      " [0.88560241 0.11439759]\n",
      " [0.83192995 0.16807005]\n",
      " [0.93185189 0.06814811]\n",
      " [0.0159525  0.9840475 ]\n",
      " [0.74382966 0.25617034]\n",
      " [0.05140041 0.94859959]\n",
      " [0.76152957 0.23847043]\n",
      " [0.92341025 0.07658975]\n",
      " [0.12046391 0.87953609]\n",
      " [0.7322776  0.2677224 ]\n",
      " [0.02911362 0.97088638]\n",
      " [0.35835689 0.64164311]\n",
      " [0.02272372 0.97727628]\n",
      " [0.5555137  0.4444863 ]\n",
      " [0.81517155 0.18482845]\n",
      " [0.89817764 0.10182236]\n",
      " [0.14070423 0.85929577]\n",
      " [0.66092172 0.33907828]\n",
      " [0.04392203 0.95607797]\n",
      " [0.36505148 0.63494852]\n",
      " [0.89883429 0.10116571]\n",
      " [0.07237121 0.92762879]\n",
      " [0.94509947 0.05490053]\n",
      " [0.67637741 0.32362259]\n",
      " [0.07488834 0.92511166]\n",
      " [0.46814958 0.53185042]\n",
      " [0.0207605  0.9792395 ]\n",
      " [0.92152413 0.07847587]\n",
      " [0.5877778  0.4122222 ]\n",
      " [0.04852895 0.95147105]\n",
      " [0.03459817 0.96540183]\n",
      " [0.08979067 0.91020933]\n",
      " [0.28634891 0.71365109]\n",
      " [0.05467659 0.94532341]\n",
      " [0.30726564 0.69273436]\n",
      " [0.6558067  0.3441933 ]\n",
      " [0.66885465 0.33114535]\n",
      " [0.97307221 0.02692779]\n",
      " [0.12581054 0.87418946]\n",
      " [0.51636204 0.48363796]\n",
      " [0.01433958 0.98566042]\n",
      " [0.93994787 0.06005213]\n",
      " [0.05290939 0.94709061]\n",
      " [0.69256968 0.30743032]\n",
      " [0.0264053  0.9735947 ]\n",
      " [0.18122753 0.81877247]\n",
      " [0.04628176 0.95371824]\n",
      " [0.78007104 0.21992896]\n",
      " [0.03734201 0.96265799]\n",
      " [0.18822985 0.81177015]\n",
      " [0.10673528 0.89326472]\n",
      " [0.69523949 0.30476051]\n",
      " [0.92874409 0.07125591]\n",
      " [0.17659263 0.82340737]\n",
      " [0.81201581 0.18798419]\n",
      " [0.93925925 0.06074075]\n",
      " [0.55244746 0.44755254]\n",
      " [0.92186974 0.07813026]\n",
      " [0.14813832 0.85186168]\n",
      " [0.94888012 0.05111988]\n",
      " [0.84057542 0.15942458]\n",
      " [0.78227984 0.21772016]\n",
      " [0.07728807 0.92271193]\n",
      " [0.94396551 0.05603449]\n",
      " [0.88380496 0.11619504]\n",
      " [0.03943779 0.96056221]\n",
      " [0.08149411 0.91850589]\n",
      " [0.81978823 0.18021177]\n",
      " [0.28863825 0.71136175]\n",
      " [0.12243502 0.87756498]]\n",
      "ESTIMATE THE LIKELIHOOD OF LABEL=1\n",
      "[0.89274103 0.90801377 0.90796837 0.94365952 0.09913702 0.97040088\n",
      " 0.98731929 0.75618691 0.06759759 0.222971   0.1931094  0.10904802\n",
      " 0.01227424 0.73675534 0.99512494 0.01529044 0.96320581 0.94679415\n",
      " 0.91331231 0.73128605 0.67030001 0.90007079 0.91449977 0.87362806\n",
      " 0.25289283 0.904035   0.91348333 0.23797263 0.0476417  0.98643794\n",
      " 0.96561663 0.50771841 0.95517689 0.01592206 0.44739722 0.00638845\n",
      " 0.98560056 0.0550869  0.88049335 0.61496176 0.95842965 0.97573398\n",
      " 0.068281   0.29087874 0.01968685 0.87151628 0.74571382 0.20794336\n",
      " 0.28904596 0.93159667 0.93527071 0.86391432 0.79174075 0.01535918\n",
      " 0.65915247 0.9459813  0.01966637 0.13679518 0.96459487 0.57879673\n",
      " 0.01587655 0.75155115 0.07214753 0.96376658 0.5693035  0.01683699\n",
      " 0.07007308 0.88380875 0.01991276 0.71406494 0.25542213 0.01458162\n",
      " 0.01573562 0.93782066 0.46934095 0.01093347 0.97037329 0.92618027\n",
      " 0.20840886 0.05729944 0.97894878 0.6209068  0.75864893 0.63365998\n",
      " 0.04545752 0.72822935 0.40364807 0.93744772 0.06321524 0.19472888\n",
      " 0.03695975 0.90001621 0.26496458 0.04166871 0.85031436 0.90377211\n",
      " 0.15316105 0.23573428 0.2678739  0.16638201 0.98085192 0.57916086\n",
      " 0.97421765 0.36796523 0.05560143 0.95727292 0.87901007 0.93281062\n",
      " 0.95499023 0.15486338 0.98635302 0.96324437 0.3075804  0.01251134\n",
      " 0.02171115 0.50493099 0.12031467 0.06103672 0.98377828 0.01051985\n",
      " 0.94276085 0.93990543 0.10117508 0.07504776 0.02128795 0.80352894\n",
      " 0.30166304 0.05636921 0.01598802 0.01467752 0.9558853  0.21377498\n",
      " 0.05904879 0.93352729 0.0125266  0.96863232 0.95012472 0.36081378\n",
      " 0.02841801 0.77443917 0.86883332 0.08307301 0.07861913 0.22766912\n",
      " 0.96160629 0.0310495  0.64491435 0.07265775 0.67089266 0.89288934\n",
      " 0.96532634 0.94287133 0.94903308 0.33063373 0.19495582 0.13345631\n",
      " 0.9087167  0.74523053 0.1422591  0.95871057 0.11439759 0.16807005\n",
      " 0.06814811 0.9840475  0.25617034 0.94859959 0.23847043 0.07658975\n",
      " 0.87953609 0.2677224  0.97088638 0.64164311 0.97727628 0.4444863\n",
      " 0.18482845 0.10182236 0.85929577 0.33907828 0.95607797 0.63494852\n",
      " 0.10116571 0.92762879 0.05490053 0.32362259 0.92511166 0.53185042\n",
      " 0.9792395  0.07847587 0.4122222  0.95147105 0.96540183 0.91020933\n",
      " 0.71365109 0.94532341 0.69273436 0.3441933  0.33114535 0.02692779\n",
      " 0.87418946 0.48363796 0.98566042 0.06005213 0.94709061 0.30743032\n",
      " 0.9735947  0.81877247 0.95371824 0.21992896 0.96265799 0.81177015\n",
      " 0.89326472 0.30476051 0.07125591 0.82340737 0.18798419 0.06074075\n",
      " 0.44755254 0.07813026 0.85186168 0.05111988 0.15942458 0.21772016\n",
      " 0.92271193 0.05603449 0.11619504 0.96056221 0.91850589 0.18021177\n",
      " 0.71136175 0.87756498]\n"
     ]
    }
   ],
   "source": [
    "# print the actual label of the testing set:\n",
    "print('THIS IS THE ACTUAL LABLE')\n",
    "print(y_test)\n",
    "\n",
    "# print the predicted label for the testing set:\n",
    "print('PREDICTED LABEL')\n",
    "print(y_predict_lr)\n",
    "\n",
    "# print the estmiated likelihood of both label for the testing set:\n",
    "print('ESTMIATE THE LIKELIHOOD OF BOTH LABLE')\n",
    "print(y_predict_prob_log_r)\n",
    "\n",
    "\n",
    "print('ESTIMATE THE LIKELIHOOD OF LABEL=1')\n",
    "print(y_predict_prob_log_r[:,1])"
   ]
  },
  {
   "cell_type": "markdown",
   "metadata": {},
   "source": [
    "# Accuracy Evaluation"
   ]
  },
  {
   "cell_type": "code",
   "execution_count": 1249,
   "metadata": {},
   "outputs": [
    {
     "name": "stdout",
     "output_type": "stream",
     "text": [
      "0.8869565217391304\n"
     ]
    }
   ],
   "source": [
    "score_logreg = accuracy_score(y_test, y_predict_lr)\n",
    "print(score_logreg)"
   ]
  },
  {
   "cell_type": "markdown",
   "metadata": {},
   "source": [
    "# True Positive Rate (TPR) and False Positive Rate (FPR):"
   ]
  },
  {
   "cell_type": "code",
   "execution_count": 1250,
   "metadata": {},
   "outputs": [],
   "source": [
    "fpr, tpr, thresholds = metrics.roc_curve(y_test, y_predict_prob_log_r[:,1], pos_label=1)\n"
   ]
  },
  {
   "cell_type": "code",
   "execution_count": 1251,
   "metadata": {},
   "outputs": [
    {
     "name": "stdout",
     "output_type": "stream",
     "text": [
      "[0.         0.         0.         0.00961538 0.00961538 0.01923077\n",
      " 0.01923077 0.02884615 0.02884615 0.03846154 0.03846154 0.05769231\n",
      " 0.05769231 0.06730769 0.06730769 0.09615385 0.09615385 0.10576923\n",
      " 0.10576923 0.14423077 0.14423077 0.19230769 0.19230769 0.20192308\n",
      " 0.20192308 0.25       0.25       0.26923077 0.26923077 0.30769231\n",
      " 0.30769231 0.32692308 0.32692308 0.43269231 0.43269231 0.44230769\n",
      " 0.44230769 1.        ]\n"
     ]
    }
   ],
   "source": [
    "print(fpr)"
   ]
  },
  {
   "cell_type": "code",
   "execution_count": 1252,
   "metadata": {},
   "outputs": [
    {
     "name": "stdout",
     "output_type": "stream",
     "text": [
      "[0.         0.00793651 0.50793651 0.50793651 0.53174603 0.53174603\n",
      " 0.66666667 0.66666667 0.70634921 0.70634921 0.79365079 0.79365079\n",
      " 0.80952381 0.80952381 0.86507937 0.86507937 0.8968254  0.8968254\n",
      " 0.9047619  0.9047619  0.92063492 0.92063492 0.92857143 0.92857143\n",
      " 0.93650794 0.93650794 0.95238095 0.95238095 0.96825397 0.96825397\n",
      " 0.97619048 0.97619048 0.98412698 0.98412698 0.99206349 0.99206349\n",
      " 1.         1.        ]\n"
     ]
    }
   ],
   "source": [
    "print(tpr)"
   ]
  },
  {
   "cell_type": "markdown",
   "metadata": {},
   "source": [
    "# AUC:"
   ]
  },
  {
   "cell_type": "code",
   "execution_count": 1253,
   "metadata": {},
   "outputs": [
    {
     "name": "stdout",
     "output_type": "stream",
     "text": [
      "0.9584859584859584\n"
     ]
    }
   ],
   "source": [
    "AUC = metrics.auc(fpr, tpr)\n",
    "\n",
    "print(AUC)"
   ]
  },
  {
   "cell_type": "markdown",
   "metadata": {},
   "source": [
    "# ROC Curve:"
   ]
  },
  {
   "cell_type": "code",
   "execution_count": 1254,
   "metadata": {},
   "outputs": [
    {
     "data": {
      "image/png": "[encoded data removed]",
      "text/plain": [
       "<Figure size 432x288 with 1 Axes>"
      ]
     },
     "metadata": {
      "needs_background": "light"
     },
     "output_type": "display_data"
    }
   ],
   "source": [
    "%matplotlib inline\n",
    "\n",
    "plt.figure()\n",
    "\n",
    "# Roc Curve:\n",
    "plt.plot(fpr, tpr, color='red', lw=2, \n",
    "         label='ROC Curve (area = %0.2f)' % AUC)\n",
    "\n",
    "\n",
    "# Random Guess line:\n",
    "plt.plot([0, 1], [0, 1], color='blue', lw=1, linestyle='--')\n",
    "\n",
    "# Defining The Range of X-Axis and Y-Axis:\n",
    "plt.xlim([-0.005, 1.005])\n",
    "plt.ylim([0.0, 1.01])\n",
    "\n",
    "# Labels, Title, Legend:\n",
    "plt.xlabel('False Positive Rate')\n",
    "plt.ylabel('True Positive Rate')\n",
    "plt.title('Receiver operating characteristic')\n",
    "plt.legend(loc=\"lower right\")\n",
    "\n",
    "plt.show()"
   ]
  },
  {
   "cell_type": "markdown",
   "metadata": {},
   "source": [
    "# Repeat the Process with Smaller Number of Features"
   ]
  },
  {
   "cell_type": "markdown",
   "metadata": {},
   "source": [
    "# Using Worst Rated Features from KNN model"
   ]
  },
  {
   "cell_type": "code",
   "execution_count": 1255,
   "metadata": {},
   "outputs": [
    {
     "name": "stdout",
     "output_type": "stream",
     "text": [
      "score evaluation\n",
      "0.5826086956521739\n",
      "AUC\n",
      "0.5955815018315018\n"
     ]
    }
   ],
   "source": [
    "log_reg_features2 = ['ST', 'RestingBP']\n",
    "\n",
    "# 'Up', 'ASY', 'Flat', 'Age', 'RestingBP', 'FastingBS'\n",
    "\n",
    "X2 = df_scale[log_reg_features2]\n",
    "\n",
    "y2 = df_scale['HeartDisease']\n",
    "\n",
    "\n",
    "X_train2, X_test2, y_train2, y_test2 = train_test_split(X2, y2, test_size=0.25, random_state=3)\n",
    "\n",
    "my_logreg2 = LogisticRegression()\n",
    "my_logreg2.fit(X_train2, y_train2)\n",
    "\n",
    "\n",
    "y_predict_prob_lr2 = my_logreg2.predict_proba(X_test2)\n",
    "\n",
    "y_predict_lr2 = my_logreg2.predict(X_test2)\n",
    "\n",
    "score_logreg2 = accuracy_score(y_test2, y_predict_lr2)\n",
    "\n",
    "print('score evaluation')\n",
    "print(score_logreg2)\n",
    "\n",
    "\n",
    "\n",
    "fpr2, tpr2, thresholds2 = metrics.roc_curve(y_test2, y_predict_prob_lr2[:,1], pos_label=1)\n",
    "AUC2 = metrics.auc(fpr2, tpr2)\n",
    "print('AUC')\n",
    "print(AUC2)\n"
   ]
  },
  {
   "cell_type": "code",
   "execution_count": 1256,
   "metadata": {},
   "outputs": [
    {
     "data": {
      "image/png": "[encoded data removed]",
      "text/plain": [
       "<Figure size 432x288 with 1 Axes>"
      ]
     },
     "metadata": {
      "needs_background": "light"
     },
     "output_type": "display_data"
    }
   ],
   "source": [
    "%matplotlib inline\n",
    "\n",
    "plt.figure()\n",
    "\n",
    "\n",
    "# Roc Curve2:\n",
    "plt.plot(fpr2, tpr2, color='green', lw=2, \n",
    "         label='ROC Curve, least knn rated (area = %0.2f)' % AUC2)\n",
    "\n",
    "\n",
    "# Random Guess line:\n",
    "plt.plot([0, 1], [0, 1], color='blue', lw=1, linestyle='--')\n",
    "\n",
    "# Defining The Range of X-Axis and Y-Axis:\n",
    "plt.xlim([-0.005, 1.005])\n",
    "plt.ylim([0.0, 1.01])\n",
    "\n",
    "# Labels, Title, Legend:\n",
    "plt.xlabel('False Positive Rate')\n",
    "plt.ylabel('True Positive Rate')\n",
    "plt.title('Receiver operating characteristic')\n",
    "plt.legend(loc=\"lower right\")\n",
    "\n",
    "plt.show()"
   ]
  },
  {
   "cell_type": "markdown",
   "metadata": {},
   "source": [
    "# Using Best Rated Features from KNN model"
   ]
  },
  {
   "cell_type": "code",
   "execution_count": 1257,
   "metadata": {},
   "outputs": [
    {
     "name": "stdout",
     "output_type": "stream",
     "text": [
      "score evaluation\n",
      "0.8652173913043478\n",
      "AUC\n",
      "0.9407051282051282\n"
     ]
    }
   ],
   "source": [
    "log_reg_features3 = ['Up', 'ASY', 'ExerciseAngina']\n",
    "\n",
    "\n",
    "X3 = df_scale[log_reg_features3]\n",
    "\n",
    "y3 = df_scale['HeartDisease']\n",
    "\n",
    "\n",
    "X_train3, X_test3, y_train3, y_test3 = train_test_split(X3, y3, test_size=0.25, random_state=3)\n",
    "\n",
    "my_logreg3 = LogisticRegression()\n",
    "my_logreg3.fit(X_train3, y_train3)\n",
    "\n",
    "\n",
    "y_predict_prob_lr3 = my_logreg3.predict_proba(X_test3)\n",
    "\n",
    "y_predict_lr3 = my_logreg3.predict(X_test3)\n",
    "\n",
    "score_logreg3 = accuracy_score(y_test3, y_predict_lr3)\n",
    "\n",
    "print('score evaluation')\n",
    "print(score_logreg3)\n",
    "\n",
    "\n",
    "\n",
    "\n",
    "\n",
    "fpr3, tpr3, thresholds3 = metrics.roc_curve(y_test3, y_predict_prob_lr3[:,1], pos_label=1)\n",
    "AUC3 = metrics.auc(fpr3, tpr3)\n",
    "print('AUC')\n",
    "print(AUC3)\n"
   ]
  },
  {
   "cell_type": "code",
   "execution_count": 1258,
   "metadata": {},
   "outputs": [
    {
     "data": {
      "image/png": "[encoded data removed]",
      "text/plain": [
       "<Figure size 432x288 with 1 Axes>"
      ]
     },
     "metadata": {
      "needs_background": "light"
     },
     "output_type": "display_data"
    }
   ],
   "source": [
    "%matplotlib inline\n",
    "\n",
    "plt.figure()\n",
    "\n",
    "# Roc Curve3:\n",
    "plt.plot(fpr3, tpr3, color='blue', lw=2, \n",
    "         label='ROC Curve, best knn rated (area = %0.2f)' % AUC3)\n",
    "\n",
    "\n",
    "# Random Guess line:\n",
    "plt.plot([0, 1], [0, 1], color='blue', lw=1, linestyle='--')\n",
    "\n",
    "# Defining The Range of X-Axis and Y-Axis:\n",
    "plt.xlim([-0.005, 1.005])\n",
    "plt.ylim([0.0, 1.01])\n",
    "\n",
    "# Labels, Title, Legend:\n",
    "plt.xlabel('False Positive Rate')\n",
    "plt.ylabel('True Positive Rate')\n",
    "plt.title('Receiver operating characteristic')\n",
    "plt.legend(loc=\"lower right\")\n",
    "\n",
    "plt.show()"
   ]
  },
  {
   "cell_type": "markdown",
   "metadata": {},
   "source": [
    "# Using Mix of Best, Least, and Average Features"
   ]
  },
  {
   "cell_type": "code",
   "execution_count": 1259,
   "metadata": {},
   "outputs": [
    {
     "name": "stdout",
     "output_type": "stream",
     "text": [
      "score evaluation\n",
      "0.8782608695652174\n",
      "AUC\n",
      "0.9404761904761905\n"
     ]
    }
   ],
   "source": [
    "log_reg_features4 = ['Up', 'ASY', 'Flat', 'ExerciseAngina', 'Age', 'RestingBP', 'FastingBS']\n",
    "\n",
    "\n",
    "X4 = df_scale[log_reg_features4]\n",
    "\n",
    "y4 = df_scale['HeartDisease']\n",
    "\n",
    "\n",
    "X_train4, X_test4, y_train4, y_test4 = train_test_split(X4, y4, test_size=0.25, random_state=3)\n",
    "\n",
    "my_logreg4 = LogisticRegression()\n",
    "my_logreg4.fit(X_train4, y_train4)\n",
    "\n",
    "\n",
    "y_predict_prob_lr4 = my_logreg4.predict_proba(X_test4)\n",
    "\n",
    "y_predict_lr4 = my_logreg4.predict(X_test4)\n",
    "\n",
    "score_logreg4 = accuracy_score(y_test4, y_predict_lr4)\n",
    "\n",
    "print('score evaluation')\n",
    "print(score_logreg4)\n",
    "\n",
    "\n",
    "\n",
    "fpr4, tpr4, thresholds4 = metrics.roc_curve(y_test4, y_predict_prob_lr4[:,1], pos_label=1)\n",
    "AUC4 = metrics.auc(fpr4, tpr4)\n",
    "print('AUC')\n",
    "print(AUC4)"
   ]
  },
  {
   "cell_type": "code",
   "execution_count": 1260,
   "metadata": {},
   "outputs": [
    {
     "data": {
      "image/png": "[encoded data removed]",
      "text/plain": [
       "<Figure size 432x288 with 1 Axes>"
      ]
     },
     "metadata": {
      "needs_background": "light"
     },
     "output_type": "display_data"
    }
   ],
   "source": [
    "%matplotlib inline\n",
    "\n",
    "plt.figure()\n",
    "\n",
    "\n",
    "# Roc Curve4:\n",
    "plt.plot(fpr4, tpr4, color='purple', lw=2, \n",
    "         label='ROC Curve, least and best knn rated (area = %0.2f)' % AUC4)\n",
    "\n",
    "# Random Guess line:\n",
    "plt.plot([0, 1], [0, 1], color='blue', lw=1, linestyle='--')\n",
    "\n",
    "# Defining The Range of X-Axis and Y-Axis:\n",
    "plt.xlim([-0.005, 1.005])\n",
    "plt.ylim([0.0, 1.01])\n",
    "\n",
    "# Labels, Title, Legend:\n",
    "plt.xlabel('False Positive Rate')\n",
    "plt.ylabel('True Positive Rate')\n",
    "plt.title('Receiver operating characteristic')\n",
    "plt.legend(loc=\"lower right\")\n",
    "\n",
    "plt.show()"
   ]
  },
  {
   "cell_type": "markdown",
   "metadata": {},
   "source": [
    "# Comparing ROC Curves:\n",
    "All Features vs the 3 best ranked features form KNN model"
   ]
  },
  {
   "cell_type": "code",
   "execution_count": 1261,
   "metadata": {},
   "outputs": [
    {
     "data": {
      "image/png": "[encoded data removed]",
      "text/plain": [
       "<Figure size 432x288 with 1 Axes>"
      ]
     },
     "metadata": {
      "needs_background": "light"
     },
     "output_type": "display_data"
    }
   ],
   "source": [
    "%matplotlib inline\n",
    "\n",
    "plt.figure()\n",
    "\n",
    "# Roc Curve1:\n",
    "plt.plot(fpr, tpr, color='red', lw=2, \n",
    "         label='ROC Curve (area = %0.2f)' % AUC)\n",
    "\n",
    "# Roc Curve2:\n",
    "plt.plot(fpr2, tpr2, color='green', lw=2, \n",
    "         label='ROC Curve, least knn rated (area = %0.2f)' % AUC2)\n",
    "\n",
    "# Roc Curve3:\n",
    "plt.plot(fpr3, tpr3, color='blue', lw=2, \n",
    "         label='ROC Curve, best knn rated (area = %0.2f)' % AUC3)\n",
    "\n",
    "# Roc Curve4:\n",
    "plt.plot(fpr4, tpr4, color='purple', lw=2, \n",
    "         label='ROC Curve, least and best knn rated (area = %0.2f)' % AUC4)\n",
    "\n",
    "# Random Guess line:\n",
    "plt.plot([0, 1], [0, 1], color='blue', lw=1, linestyle='--')\n",
    "\n",
    "# Defining The Range of X-Axis and Y-Axis:\n",
    "plt.xlim([-0.005, 1.005])\n",
    "plt.ylim([0.0, 1.01])\n",
    "\n",
    "# Labels, Title, Legend:\n",
    "plt.xlabel('False Positive Rate')\n",
    "plt.ylabel('True Positive Rate')\n",
    "plt.title('Receiver operating characteristic')\n",
    "plt.legend(loc=\"lower right\")\n",
    "\n",
    "plt.show()"
   ]
  },
  {
   "cell_type": "markdown",
   "metadata": {},
   "source": [
    "# Results (Using OneHOtEncoding):\n",
    "I obtained a ROC of 0.96 when using all the features and a score evaluation of 0.88. When using only the  best ranked features based on knn model the ROC obtained was 0.94 and the score evaluation was 0.86. When using the worst ranked features based on knn model the ROC obtained was 0.60 and the score evaluation was 0.58. Finally, the ROC obtained when combining best and worst ranked features based on knn model the ROC was 0.94, which is greater than when only using either the best or worst features. Also the score evaluation was 0.87"
   ]
  },
  {
   "cell_type": "markdown",
   "metadata": {},
   "source": [
    "# Hot Encoding VS No Hot Encoding:\n",
    "The ROC without using hot encoding (not using categorical features) is 0.87 and the accuracy score was 0.77. After using hot encoding (converting categorical features) the ROC is 0.96 and the accuracy score was 0.88"
   ]
  },
  {
   "cell_type": "markdown",
   "metadata": {},
   "source": []
  },
  {
   "cell_type": "markdown",
   "metadata": {},
   "source": [
    "# Implement Cross-Validation"
   ]
  },
  {
   "cell_type": "markdown",
   "metadata": {},
   "source": [
    "# Cross-Validation for non categorical features"
   ]
  },
  {
   "cell_type": "code",
   "execution_count": 1262,
   "metadata": {},
   "outputs": [
    {
     "name": "stdout",
     "output_type": "stream",
     "text": [
      "0.7460702341137123\n"
     ]
    }
   ],
   "source": [
    "my_logreg = LogisticRegression(max_iter=2000)\n",
    "my_logreg_cross = cross_val_score(my_logreg, X0, y, cv=10, scoring='accuracy')\n",
    "print(my_logreg_cross.mean())"
   ]
  },
  {
   "cell_type": "markdown",
   "metadata": {},
   "source": [
    "# Cross-Validation for all Features"
   ]
  },
  {
   "cell_type": "code",
   "execution_count": 1263,
   "metadata": {},
   "outputs": [
    {
     "name": "stdout",
     "output_type": "stream",
     "text": [
      "0.8527353081700909\n"
     ]
    }
   ],
   "source": [
    "my_logreg = LogisticRegression(max_iter=2000)\n",
    "my_logreg_cross = cross_val_score(my_logreg, X, y, cv=10, scoring='accuracy')\n",
    "print(my_logreg_cross.mean())"
   ]
  },
  {
   "cell_type": "markdown",
   "metadata": {},
   "source": [
    "# Cross-Validation using worst rated features from KNN model"
   ]
  },
  {
   "cell_type": "code",
   "execution_count": 1264,
   "metadata": {},
   "outputs": [
    {
     "name": "stdout",
     "output_type": "stream",
     "text": [
      "0.5338150979455327\n"
     ]
    }
   ],
   "source": [
    "my_logreg = LogisticRegression(max_iter=2000)\n",
    "my_logreg_cross = cross_val_score(my_logreg, X2, y2, cv=10, scoring='accuracy')\n",
    "print(my_logreg_cross.mean())"
   ]
  },
  {
   "cell_type": "markdown",
   "metadata": {},
   "source": [
    "# Cross-Validation using best rated features from KNN model"
   ]
  },
  {
   "cell_type": "code",
   "execution_count": 1265,
   "metadata": {},
   "outputs": [
    {
     "name": "stdout",
     "output_type": "stream",
     "text": [
      "0.8168299092212136\n"
     ]
    }
   ],
   "source": [
    "my_logreg = LogisticRegression(max_iter=2000)\n",
    "my_logreg_cross = cross_val_score(my_logreg, X3, y3, cv=10, scoring='accuracy')\n",
    "print(my_logreg_cross.mean())"
   ]
  },
  {
   "cell_type": "markdown",
   "metadata": {},
   "source": [
    "# Cross-Validation using mix of best and worst features from KNN model"
   ]
  },
  {
   "cell_type": "code",
   "execution_count": 1266,
   "metadata": {},
   "outputs": [
    {
     "name": "stdout",
     "output_type": "stream",
     "text": [
      "0.827687529861443\n"
     ]
    }
   ],
   "source": [
    "my_logreg = LogisticRegression(max_iter=2000)\n",
    "my_logreg_cross = cross_val_score(my_logreg, X4, y4, cv=10, scoring='accuracy')\n",
    "print(my_logreg_cross.mean())"
   ]
  },
  {
   "cell_type": "code",
   "execution_count": null,
   "metadata": {},
   "outputs": [],
   "source": []
  }
 ],
 "metadata": {
  "interpreter": {
   "hash": "0ed06966b55709e884aa4ffbf8d20d071c2a1cfa7bda4b100a4546341033beb6"
  },
  "kernelspec": {
   "display_name": "Python 3.9.6 64-bit ('data-sc': conda)",
   "language": "python",
   "name": "python3"
  },
  "language_info": {
   "codemirror_mode": {
    "name": "ipython",
    "version": 3
   },
   "file_extension": ".py",
   "mimetype": "text/x-python",
   "name": "python",
   "nbconvert_exporter": "python",
   "pygments_lexer": "ipython3",
   "version": "3.9.6"
  },
  "orig_nbformat": 4
 },
 "nbformat": 4,
 "nbformat_minor": 2
}
